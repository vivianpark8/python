{
 "cells": [
  {
   "cell_type": "markdown",
   "id": "f4479aa9-93b4-4998-88fa-331c5a805c20",
   "metadata": {},
   "source": [
    "# 00. intro\n",
    "\n",
    "## shortcut 단축기\n",
    "- ctrl + enter : 현재 셀 실행\n",
    "- shift + enter : 현재 셀 실행 + 아래로 이동\n",
    "- alt + enter : 현재 셀 실행 + 아래에 새로운 셀 추가\n",
    "- Esc : 셀 단위 이동 모드\n",
    "- enter : 셀 하나 수정 모드\n",
    "- Esc + m -> 마크다운으로 변환"
   ]
  },
  {
   "cell_type": "markdown",
   "id": "4e61588f-4243-4db1-9c5d-64cfa527f5bb",
   "metadata": {},
   "source": [
    "# 01. 변수\n",
    "\n",
    "```\n",
    "var_name = value\n",
    "```\n",
    "\n",
    "- 변수 이름은 어떤 이름이든 가능\n",
    "- 다만 영어, 숫자, _ 를 이용해서 선언\n",
    "- 키워드는 불가능\n"
   ]
  },
  {
   "cell_type": "code",
   "execution_count": 5,
   "id": "3258f0cd-c9ac-4e6a-91fb-79c9667d9b17",
   "metadata": {},
   "outputs": [],
   "source": [
    "a = 100"
   ]
  },
  {
   "cell_type": "code",
   "execution_count": 6,
   "id": "79752891-3c21-4db3-83c9-c45640309069",
   "metadata": {},
   "outputs": [
    {
     "data": {
      "text/plain": [
       "100"
      ]
     },
     "execution_count": 6,
     "metadata": {},
     "output_type": "execute_result"
    }
   ],
   "source": [
    "a"
   ]
  },
  {
   "cell_type": "code",
   "execution_count": 7,
   "id": "9fe9ed14-4786-4a9a-85c5-98cea3a5df16",
   "metadata": {},
   "outputs": [
    {
     "data": {
      "text/plain": [
       "['False',\n",
       " 'None',\n",
       " 'True',\n",
       " 'and',\n",
       " 'as',\n",
       " 'assert',\n",
       " 'async',\n",
       " 'await',\n",
       " 'break',\n",
       " 'class',\n",
       " 'continue',\n",
       " 'def',\n",
       " 'del',\n",
       " 'elif',\n",
       " 'else',\n",
       " 'except',\n",
       " 'finally',\n",
       " 'for',\n",
       " 'from',\n",
       " 'global',\n",
       " 'if',\n",
       " 'import',\n",
       " 'in',\n",
       " 'is',\n",
       " 'lambda',\n",
       " 'nonlocal',\n",
       " 'not',\n",
       " 'or',\n",
       " 'pass',\n",
       " 'raise',\n",
       " 'return',\n",
       " 'try',\n",
       " 'while',\n",
       " 'with',\n",
       " 'yield']"
      ]
     },
     "execution_count": 7,
     "metadata": {},
     "output_type": "execute_result"
    }
   ],
   "source": [
    "import keyword\n",
    "keyword.kwlist"
   ]
  },
  {
   "cell_type": "code",
   "execution_count": 8,
   "id": "ccf72971-b783-4c1d-93d0-bf15f3d7104a",
   "metadata": {},
   "outputs": [],
   "source": [
    "seoul_dust_rate = 150"
   ]
  },
  {
   "cell_type": "markdown",
   "id": "a72b8412-d736-418b-8bae-f6c2d4150ec5",
   "metadata": {},
   "source": [
    "## 1.1 number"
   ]
  },
  {
   "cell_type": "code",
   "execution_count": 9,
   "id": "0bf0cc96-29ea-43e0-a32a-19f71fdebf09",
   "metadata": {},
   "outputs": [],
   "source": [
    "a = 10000"
   ]
  },
  {
   "cell_type": "code",
   "execution_count": 10,
   "id": "bb441818-5d7e-470c-bc18-316391e07b55",
   "metadata": {},
   "outputs": [
    {
     "data": {
      "text/plain": [
       "10000"
      ]
     },
     "execution_count": 10,
     "metadata": {},
     "output_type": "execute_result"
    }
   ],
   "source": [
    "a"
   ]
  },
  {
   "cell_type": "code",
   "execution_count": 11,
   "id": "1dfd1bb2-c35d-47de-a559-27e854c0454b",
   "metadata": {},
   "outputs": [
    {
     "data": {
      "text/plain": [
       "int"
      ]
     },
     "execution_count": 11,
     "metadata": {},
     "output_type": "execute_result"
    }
   ],
   "source": [
    "type(a)"
   ]
  },
  {
   "cell_type": "code",
   "execution_count": 12,
   "id": "729e12c8-2443-4323-a69b-8fc9c1126ce7",
   "metadata": {},
   "outputs": [],
   "source": [
    "b = 1.1"
   ]
  },
  {
   "cell_type": "code",
   "execution_count": 13,
   "id": "5d2e1ba6-41d1-4842-993f-fac499a584b9",
   "metadata": {},
   "outputs": [
    {
     "data": {
      "text/plain": [
       "1.1"
      ]
     },
     "execution_count": 13,
     "metadata": {},
     "output_type": "execute_result"
    }
   ],
   "source": [
    "b"
   ]
  },
  {
   "cell_type": "code",
   "execution_count": 14,
   "id": "8ec0a0cc-1f98-4695-b0d8-0c1f3d58145e",
   "metadata": {},
   "outputs": [
    {
     "data": {
      "text/plain": [
       "float"
      ]
     },
     "execution_count": 14,
     "metadata": {},
     "output_type": "execute_result"
    }
   ],
   "source": [
    "type(b)"
   ]
  },
  {
   "cell_type": "code",
   "execution_count": 15,
   "id": "3c1381b9-1eb8-4c44-8906-cb54c28d6c8a",
   "metadata": {},
   "outputs": [],
   "source": [
    "c = 1 + 1j"
   ]
  },
  {
   "cell_type": "code",
   "execution_count": 16,
   "id": "8ad0d491-fca6-4d3a-a12c-60fc68e038d7",
   "metadata": {},
   "outputs": [
    {
     "data": {
      "text/plain": [
       "complex"
      ]
     },
     "execution_count": 16,
     "metadata": {},
     "output_type": "execute_result"
    }
   ],
   "source": [
    "type(c)"
   ]
  },
  {
   "cell_type": "markdown",
   "id": "f649908f-bc26-40b8-91ba-666acd4edded",
   "metadata": {},
   "source": [
    "## 1.2 boolean"
   ]
  },
  {
   "cell_type": "code",
   "execution_count": 18,
   "id": "37248d6f-9b51-45ec-97b3-d20e4ee0cf10",
   "metadata": {},
   "outputs": [],
   "source": [
    "a = True"
   ]
  },
  {
   "cell_type": "code",
   "execution_count": 19,
   "id": "7383e1e4-5df6-4b87-ae3b-d8dbd6ff6932",
   "metadata": {},
   "outputs": [],
   "source": [
    "b = False"
   ]
  },
  {
   "cell_type": "code",
   "execution_count": 20,
   "id": "67656b82-a302-4c01-a480-e79e2dae9b37",
   "metadata": {},
   "outputs": [
    {
     "data": {
      "text/plain": [
       "True"
      ]
     },
     "execution_count": 20,
     "metadata": {},
     "output_type": "execute_result"
    }
   ],
   "source": [
    "a"
   ]
  },
  {
   "cell_type": "code",
   "execution_count": 21,
   "id": "f6907002-37bc-42e9-bf9a-4abf95aaee3b",
   "metadata": {},
   "outputs": [
    {
     "data": {
      "text/plain": [
       "False"
      ]
     },
     "execution_count": 21,
     "metadata": {},
     "output_type": "execute_result"
    }
   ],
   "source": [
    "b"
   ]
  },
  {
   "cell_type": "markdown",
   "id": "73267e4a-47f4-4763-844c-0327e85d4a81",
   "metadata": {},
   "source": [
    "## 1.3 string\n",
    "- 문자열\n",
    "- `'`, `\"`를 이용하여 표현"
   ]
  },
  {
   "cell_type": "code",
   "execution_count": 22,
   "id": "e8d5c4a3-3870-488e-9761-dfc34cdd2dac",
   "metadata": {},
   "outputs": [],
   "source": [
    "a = 'hello'"
   ]
  },
  {
   "cell_type": "code",
   "execution_count": 23,
   "id": "ac1d056d-2cde-4fd1-9d97-185266f0f1f1",
   "metadata": {},
   "outputs": [],
   "source": [
    "b = \"hi\""
   ]
  },
  {
   "cell_type": "code",
   "execution_count": 25,
   "id": "acf85e78-d068-4c4d-9a2c-79bc9b037dc4",
   "metadata": {},
   "outputs": [
    {
     "data": {
      "text/plain": [
       "str"
      ]
     },
     "execution_count": 25,
     "metadata": {},
     "output_type": "execute_result"
    }
   ],
   "source": [
    "type(a)"
   ]
  },
  {
   "cell_type": "code",
   "execution_count": 26,
   "id": "70b6a4c7-947a-4c57-8ed2-8d392b0aee94",
   "metadata": {},
   "outputs": [
    {
     "data": {
      "text/plain": [
       "str"
      ]
     },
     "execution_count": 26,
     "metadata": {},
     "output_type": "execute_result"
    }
   ],
   "source": [
    "type(b)"
   ]
  },
  {
   "cell_type": "code",
   "execution_count": 28,
   "id": "2d4e3e77-96c1-4845-8448-14226c71cb64",
   "metadata": {},
   "outputs": [
    {
     "name": "stdout",
     "output_type": "stream",
     "text": [
      "hello\n"
     ]
    }
   ],
   "source": [
    "print('hello')"
   ]
  },
  {
   "cell_type": "code",
   "execution_count": 29,
   "id": "43c50015-76f2-4e78-9ab4-d32845bc3633",
   "metadata": {},
   "outputs": [
    {
     "name": "stdout",
     "output_type": "stream",
     "text": [
      "hello my name is 'Subin'\n"
     ]
    }
   ],
   "source": [
    "print(\"hello my name is 'Subin'\")"
   ]
  },
  {
   "cell_type": "code",
   "execution_count": 32,
   "id": "46617630-7744-4415-8312-5ba241698527",
   "metadata": {},
   "outputs": [],
   "source": [
    "a = '''\n",
    "hello\n",
    "my\n",
    "name\n",
    "is\n",
    "Subin\n",
    "'''"
   ]
  },
  {
   "cell_type": "code",
   "execution_count": 33,
   "id": "372ab379-c2f1-462b-a553-9a4631253c5f",
   "metadata": {},
   "outputs": [
    {
     "data": {
      "text/plain": [
       "'\\nhello\\nmy\\nname\\nis\\nSubin\\n'"
      ]
     },
     "execution_count": 33,
     "metadata": {},
     "output_type": "execute_result"
    }
   ],
   "source": [
    "a"
   ]
  },
  {
   "cell_type": "code",
   "execution_count": 47,
   "id": "4cf50b91-b2d0-432e-9e1f-7634de752e39",
   "metadata": {},
   "outputs": [],
   "source": [
    "age = 10\n",
    "b = '홍길동은 %s살입니다.' % age"
   ]
  },
  {
   "cell_type": "code",
   "execution_count": 48,
   "id": "5a0e1a0c-891e-4943-bf14-2f6faf38fe5e",
   "metadata": {},
   "outputs": [
    {
     "name": "stdout",
     "output_type": "stream",
     "text": [
      "홍길동은 10살입니다.\n"
     ]
    }
   ],
   "source": [
    "print(b)"
   ]
  },
  {
   "cell_type": "markdown",
   "id": "5144c91d-ee1e-4b59-99b6-39ba154eb34b",
   "metadata": {},
   "source": [
    "## string interpolation\n",
    "- %-formatting\n",
    "- print('홍길동은 %s살 입니다.' % age)\n",
    "- str.format()\n",
    "- print('홍길동은 {}살 입니다.'.format(age))\n",
    "- f-string\n",
    "- print(f'홍길동은 {age}살 입니다.')"
   ]
  },
  {
   "cell_type": "markdown",
   "id": "71530eee-e785-4c42-9c9d-9ad5cb973a9f",
   "metadata": {},
   "source": [
    "## 01. 연산자"
   ]
  },
  {
   "cell_type": "markdown",
   "id": "ec0cf341-8ab2-419e-97c4-6e1817849cee",
   "metadata": {},
   "source": [
    "## 산술 연산자"
   ]
  },
  {
   "cell_type": "code",
   "execution_count": 50,
   "id": "91dfb9eb-8daa-46fc-87a5-a407d09fa26c",
   "metadata": {},
   "outputs": [],
   "source": [
    "a = 5\n",
    "b = 5"
   ]
  },
  {
   "cell_type": "code",
   "execution_count": 51,
   "id": "bff69069-6b8f-4802-ba29-4e19022698c0",
   "metadata": {},
   "outputs": [
    {
     "name": "stdout",
     "output_type": "stream",
     "text": [
      "10\n",
      "0\n",
      "25\n",
      "1.0\n"
     ]
    }
   ],
   "source": [
    "print(a + b)\n",
    "print(a - b)\n",
    "print(a * b)\n",
    "print(a / b)"
   ]
  },
  {
   "cell_type": "code",
   "execution_count": 54,
   "id": "41a13d3d-bd61-467a-b996-713581fbba0c",
   "metadata": {},
   "outputs": [
    {
     "name": "stdout",
     "output_type": "stream",
     "text": [
      "3125\n",
      "1\n",
      "0\n"
     ]
    }
   ],
   "source": [
    "print(a ** b) # ** = 제곱수\n",
    "print(a // b) # // = 나눗셈 후 몫 표시\n",
    "print(a % b) # % = 나눗셈 후 나머지"
   ]
  },
  {
   "cell_type": "code",
   "execution_count": 57,
   "id": "335d6f48-5be3-4963-9652-24fcb157b6fd",
   "metadata": {},
   "outputs": [],
   "source": [
    "result = divmod(a, b)"
   ]
  },
  {
   "cell_type": "code",
   "execution_count": 58,
   "id": "35ba1dd0-3d24-46d9-a99a-9841299c11d9",
   "metadata": {},
   "outputs": [
    {
     "data": {
      "text/plain": [
       "(1, 0)"
      ]
     },
     "execution_count": 58,
     "metadata": {},
     "output_type": "execute_result"
    }
   ],
   "source": [
    "result"
   ]
  },
  {
   "cell_type": "markdown",
   "id": "3798bbfa-bf37-4f86-9e63-0a84d38dbb34",
   "metadata": {},
   "source": [
    "## 2-2. 비교연산자"
   ]
  },
  {
   "cell_type": "code",
   "execution_count": 59,
   "id": "a681cda9-b85a-4e8d-b733-ceabc872c7b7",
   "metadata": {},
   "outputs": [],
   "source": [
    "a = 5\n",
    "b = 10"
   ]
  },
  {
   "cell_type": "code",
   "execution_count": 61,
   "id": "e60028a9-a4b8-40a5-a9e1-408d34cb3938",
   "metadata": {},
   "outputs": [
    {
     "name": "stdout",
     "output_type": "stream",
     "text": [
      "False\n",
      "True\n",
      "False\n",
      "True\n"
     ]
    }
   ],
   "source": [
    "print(a > b)\n",
    "print(a < b)\n",
    "print(a >= b)\n",
    "print(a <= b)"
   ]
  },
  {
   "cell_type": "code",
   "execution_count": 62,
   "id": "8fb02812-ab24-4a51-aeee-a3482ca31267",
   "metadata": {},
   "outputs": [
    {
     "name": "stdout",
     "output_type": "stream",
     "text": [
      "False\n",
      "True\n"
     ]
    }
   ],
   "source": [
    "print(a == b)\n",
    "print(a !=b)"
   ]
  },
  {
   "cell_type": "code",
   "execution_count": 63,
   "id": "ea0e269d-15af-4597-bf3c-13458deeb3be",
   "metadata": {},
   "outputs": [
    {
     "name": "stdout",
     "output_type": "stream",
     "text": [
      "True\n"
     ]
    }
   ],
   "source": [
    "print('hi' == 'hi')"
   ]
  },
  {
   "cell_type": "code",
   "execution_count": 64,
   "id": "993b387b-f380-4182-ba64-dea8df60aa94",
   "metadata": {},
   "outputs": [
    {
     "name": "stdout",
     "output_type": "stream",
     "text": [
      "False\n"
     ]
    }
   ],
   "source": [
    "print('hi' == 'Hi')"
   ]
  },
  {
   "cell_type": "markdown",
   "id": "cf437bbf-5cb3-443d-a9c6-998a2be6248f",
   "metadata": {},
   "source": [
    "## 2.3 논리연산자\n",
    "- and\n",
    "- or\n",
    "- not : 상태를 부정"
   ]
  },
  {
   "cell_type": "code",
   "execution_count": 67,
   "id": "3e40354c-7b16-4f56-a5f1-13da974b09b8",
   "metadata": {},
   "outputs": [
    {
     "name": "stdout",
     "output_type": "stream",
     "text": [
      "True\n",
      "False\n",
      "False\n",
      "False\n"
     ]
    }
   ],
   "source": [
    "print(True and True)\n",
    "print(True and False)\n",
    "print(False and True)\n",
    "print(False and False)"
   ]
  },
  {
   "cell_type": "code",
   "execution_count": 68,
   "id": "96e97ebb-bca0-4f77-882d-53d5eced49b6",
   "metadata": {},
   "outputs": [
    {
     "name": "stdout",
     "output_type": "stream",
     "text": [
      "True\n",
      "True\n",
      "True\n",
      "False\n"
     ]
    }
   ],
   "source": [
    "print(True or True)\n",
    "print(True or False)\n",
    "print(False or True)\n",
    "print(False or False)"
   ]
  },
  {
   "cell_type": "code",
   "execution_count": 69,
   "id": "11ddceb8-4036-4e38-8b81-99471e6ff140",
   "metadata": {},
   "outputs": [
    {
     "name": "stdout",
     "output_type": "stream",
     "text": [
      "False\n"
     ]
    }
   ],
   "source": [
    "a = True\n",
    "print(not a)"
   ]
  },
  {
   "cell_type": "code",
   "execution_count": 73,
   "id": "5b60bb07-f9f7-417a-a5c9-6ecc6003cd0e",
   "metadata": {},
   "outputs": [
    {
     "name": "stdout",
     "output_type": "stream",
     "text": [
      "5\n",
      "0\n",
      "0\n",
      "0\n"
     ]
    }
   ],
   "source": [
    "#단축평가\n",
    "print(3 and 5)\n",
    "print(3 and 0)\n",
    "print(0 and 5)\n",
    "print(0 and 0)"
   ]
  },
  {
   "cell_type": "code",
   "execution_count": 74,
   "id": "18684c27-efca-4b25-8728-fa82658b8544",
   "metadata": {},
   "outputs": [
    {
     "name": "stdout",
     "output_type": "stream",
     "text": [
      "3\n",
      "3\n",
      "5\n",
      "0\n"
     ]
    }
   ],
   "source": [
    "print(3 or 5)\n",
    "print(3 or 0)\n",
    "print(0 or 5)\n",
    "print(0 or 0)"
   ]
  },
  {
   "cell_type": "markdown",
   "id": "3ba84a4f-dbc5-461a-b8f1-7a0bfbeffd25",
   "metadata": {},
   "source": [
    "## 2.4 복합연산자"
   ]
  },
  {
   "cell_type": "code",
   "execution_count": 75,
   "id": "e23fbf6d-4dc9-4543-8644-13d874a1f4fd",
   "metadata": {},
   "outputs": [],
   "source": [
    "a = 2\n",
    "b = 3"
   ]
  },
  {
   "cell_type": "code",
   "execution_count": 76,
   "id": "1fbfd20d-aca4-4762-8abb-5645386aabc5",
   "metadata": {},
   "outputs": [],
   "source": [
    "a = a + b"
   ]
  },
  {
   "cell_type": "code",
   "execution_count": 77,
   "id": "60454755-92a8-4685-9051-a54e5fac6e8f",
   "metadata": {},
   "outputs": [
    {
     "data": {
      "text/plain": [
       "5"
      ]
     },
     "execution_count": 77,
     "metadata": {},
     "output_type": "execute_result"
    }
   ],
   "source": [
    "a"
   ]
  },
  {
   "cell_type": "markdown",
   "id": "fb1ebf24-a79d-4ee9-b06b-dcccbf1eb942",
   "metadata": {},
   "source": [
    "## 2.5 기타연산자"
   ]
  },
  {
   "cell_type": "code",
   "execution_count": 78,
   "id": "00ab62b1-4118-4f37-98ee-ae3967e3725e",
   "metadata": {},
   "outputs": [],
   "source": [
    "a = 'hi'\n",
    "b = 'hello'"
   ]
  },
  {
   "cell_type": "code",
   "execution_count": 82,
   "id": "dd1eb079-0e98-4e56-9b1d-b0280e09c304",
   "metadata": {},
   "outputs": [
    {
     "name": "stdout",
     "output_type": "stream",
     "text": [
      "hihello\n"
     ]
    }
   ],
   "source": [
    "#concatenation\n",
    "print(a + b)"
   ]
  },
  {
   "cell_type": "code",
   "execution_count": 83,
   "id": "25e5ab84-b7ea-4cc4-9c66-07f874a3b8a0",
   "metadata": {},
   "outputs": [],
   "source": [
    "a = [1, 2, 3]\n",
    "b = [2, 3, 4]"
   ]
  },
  {
   "cell_type": "code",
   "execution_count": 84,
   "id": "dae951a3-1f38-45eb-bd8b-e7c0c319171c",
   "metadata": {},
   "outputs": [
    {
     "name": "stdout",
     "output_type": "stream",
     "text": [
      "[1, 2, 3, 2, 3, 4]\n"
     ]
    }
   ],
   "source": [
    "print(a + b)"
   ]
  },
  {
   "cell_type": "code",
   "execution_count": 85,
   "id": "eaf6d43f-763c-4d47-9206-bef3efec6e82",
   "metadata": {},
   "outputs": [
    {
     "name": "stdout",
     "output_type": "stream",
     "text": [
      "True\n"
     ]
    }
   ],
   "source": [
    "print(1 in a) # a 안에 1이 있나요?"
   ]
  },
  {
   "cell_type": "code",
   "execution_count": 95,
   "id": "e03b8c48-df06-4b23-a8d7-2206477e53af",
   "metadata": {},
   "outputs": [],
   "source": [
    "a = 500\n",
    "b = 500"
   ]
  },
  {
   "cell_type": "code",
   "execution_count": 96,
   "id": "3cbdfb5c-4d87-4b00-98d6-1cc3d54d7d11",
   "metadata": {},
   "outputs": [
    {
     "name": "stdout",
     "output_type": "stream",
     "text": [
      "True\n"
     ]
    }
   ],
   "source": [
    "print(a == b)"
   ]
  },
  {
   "cell_type": "code",
   "execution_count": 97,
   "id": "fbcdb3b6-b00b-4d11-be12-47c8110cf69d",
   "metadata": {},
   "outputs": [
    {
     "name": "stdout",
     "output_type": "stream",
     "text": [
      "False\n"
     ]
    }
   ],
   "source": [
    "print(a is b)"
   ]
  },
  {
   "cell_type": "code",
   "execution_count": null,
   "id": "f4448a2d-8420-4e32-b2ec-2b8a01047b45",
   "metadata": {},
   "outputs": [],
   "source": [
    "### 연산자 우선순위\n",
    "0. ()를 통해서 그룹\n",
    "1. **\n",
    "2. 산술연산자(*, /)\n",
    "3. 산술연산자(+, -)\n",
    "4. 비교연산자, in, is\n",
    "5. not\n",
    "6. and\n",
    "7. or"
   ]
  },
  {
   "cell_type": "markdown",
   "id": "25c3afcd-99bb-4e25-b302-23990c9d1e9f",
   "metadata": {},
   "source": [
    "# 3. 형변환"
   ]
  },
  {
   "cell_type": "markdown",
   "id": "14ce710f-5f59-4861-9f33-09085e08aaea",
   "metadata": {},
   "source": [
    "## 암시적 형변환"
   ]
  },
  {
   "cell_type": "code",
   "execution_count": 98,
   "id": "5f1199ee-326b-481e-b4c5-42117fdb06bb",
   "metadata": {},
   "outputs": [],
   "source": [
    "a = True\n",
    "b = False\n",
    "c = 1"
   ]
  },
  {
   "cell_type": "code",
   "execution_count": 99,
   "id": "d55fd39f-e0a5-4bce-bcae-733645d13aea",
   "metadata": {},
   "outputs": [
    {
     "name": "stdout",
     "output_type": "stream",
     "text": [
      "1\n"
     ]
    }
   ],
   "source": [
    "print(a + b)"
   ]
  },
  {
   "cell_type": "code",
   "execution_count": 100,
   "id": "63d61551-0d44-4d02-9ea7-e5d302724508",
   "metadata": {},
   "outputs": [
    {
     "name": "stdout",
     "output_type": "stream",
     "text": [
      "2\n"
     ]
    }
   ],
   "source": [
    "print(a + c)"
   ]
  },
  {
   "cell_type": "markdown",
   "id": "8a6a2b1b-bf48-40f4-a4a4-bec18828af4a",
   "metadata": {},
   "source": [
    "## 명시적 형변환\n",
    "- int() :\n",
    "- float() :\n",
    "- str() :\n",
    "- bool() :"
   ]
  },
  {
   "cell_type": "code",
   "execution_count": 101,
   "id": "63f760b2-e880-4a00-9808-fe5ab043ce72",
   "metadata": {},
   "outputs": [],
   "source": [
    "a = 1\n",
    "b = '반'"
   ]
  },
  {
   "cell_type": "code",
   "execution_count": 102,
   "id": "d9b36f71-b922-4db1-852b-ea4f734feb5c",
   "metadata": {},
   "outputs": [
    {
     "ename": "TypeError",
     "evalue": "unsupported operand type(s) for +: 'int' and 'str'",
     "output_type": "error",
     "traceback": [
      "\u001b[1;31m---------------------------------------------------------------------------\u001b[0m",
      "\u001b[1;31mTypeError\u001b[0m                                 Traceback (most recent call last)",
      "Cell \u001b[1;32mIn[102], line 1\u001b[0m\n\u001b[1;32m----> 1\u001b[0m \u001b[38;5;28mprint\u001b[39m(\u001b[43ma\u001b[49m\u001b[43m \u001b[49m\u001b[38;5;241;43m+\u001b[39;49m\u001b[43m \u001b[49m\u001b[43mb\u001b[49m)\n",
      "\u001b[1;31mTypeError\u001b[0m: unsupported operand type(s) for +: 'int' and 'str'"
     ]
    }
   ],
   "source": [
    "print(a + b)"
   ]
  },
  {
   "cell_type": "code",
   "execution_count": 103,
   "id": "b5728697-d2f7-4f98-8100-56378cc70088",
   "metadata": {},
   "outputs": [
    {
     "name": "stdout",
     "output_type": "stream",
     "text": [
      "1반\n"
     ]
    }
   ],
   "source": [
    "print(str(a) + b)"
   ]
  },
  {
   "cell_type": "code",
   "execution_count": 104,
   "id": "72b177d1-5d0c-4650-a134-2b42156b5348",
   "metadata": {},
   "outputs": [
    {
     "name": "stdout",
     "output_type": "stream",
     "text": [
      "3\n"
     ]
    }
   ],
   "source": [
    "a = '3'\n",
    "print(a)"
   ]
  },
  {
   "cell_type": "code",
   "execution_count": 105,
   "id": "1cdd03d3-e27c-424a-87c3-ec290395e960",
   "metadata": {},
   "outputs": [
    {
     "data": {
      "text/plain": [
       "str"
      ]
     },
     "execution_count": 105,
     "metadata": {},
     "output_type": "execute_result"
    }
   ],
   "source": [
    "type(a)"
   ]
  },
  {
   "cell_type": "code",
   "execution_count": 106,
   "id": "a9fbe81c-c18f-4b51-94cd-a137a7787779",
   "metadata": {},
   "outputs": [
    {
     "name": "stdout",
     "output_type": "stream",
     "text": [
      "3\n"
     ]
    }
   ],
   "source": [
    "print(int(a))"
   ]
  },
  {
   "cell_type": "code",
   "execution_count": 107,
   "id": "6bdbe425-5771-46a1-8786-29acbef6b9ff",
   "metadata": {},
   "outputs": [
    {
     "ename": "ValueError",
     "evalue": "invalid literal for int() with base 10: 'apple'",
     "output_type": "error",
     "traceback": [
      "\u001b[1;31m---------------------------------------------------------------------------\u001b[0m",
      "\u001b[1;31mValueError\u001b[0m                                Traceback (most recent call last)",
      "Cell \u001b[1;32mIn[107], line 2\u001b[0m\n\u001b[0;32m      1\u001b[0m c \u001b[38;5;241m=\u001b[39m \u001b[38;5;124m'\u001b[39m\u001b[38;5;124mapple\u001b[39m\u001b[38;5;124m'\u001b[39m\n\u001b[1;32m----> 2\u001b[0m \u001b[38;5;28mprint\u001b[39m(\u001b[38;5;28;43mint\u001b[39;49m\u001b[43m(\u001b[49m\u001b[43mc\u001b[49m\u001b[43m)\u001b[49m)\n",
      "\u001b[1;31mValueError\u001b[0m: invalid literal for int() with base 10: 'apple'"
     ]
    }
   ],
   "source": [
    "c = 'apple'\n",
    "print(int(c))"
   ]
  },
  {
   "cell_type": "code",
   "execution_count": 110,
   "id": "f753726b-db28-47d0-abe3-08843b14c67b",
   "metadata": {},
   "outputs": [
    {
     "name": "stdout",
     "output_type": "stream",
     "text": [
      "True\n",
      "False\n",
      "True\n"
     ]
    }
   ],
   "source": [
    "a = 1\n",
    "b = 0\n",
    "c = -123\n",
    "\n",
    "print(bool(a))\n",
    "print(bool(b))\n",
    "print(bool(c))\n",
    "\n",
    "# 0이 아닌 나머지는 다 True"
   ]
  },
  {
   "cell_type": "code",
   "execution_count": 111,
   "id": "05c391ae-78c2-4d83-b5a2-7bb1e2871c20",
   "metadata": {},
   "outputs": [
    {
     "name": "stdout",
     "output_type": "stream",
     "text": [
      "False\n",
      "True\n"
     ]
    }
   ],
   "source": [
    "print(bool([]))\n",
    "print(bool([1, 2, 3]))"
   ]
  },
  {
   "cell_type": "markdown",
   "id": "86306ad5-afa7-4114-947b-7f0b05bdcbe4",
   "metadata": {},
   "source": [
    "# 4. 시퀀스 자료형"
   ]
  },
  {
   "cell_type": "markdown",
   "id": "696bd255-3aaf-4421-a243-5aaadb432b82",
   "metadata": {},
   "source": [
    "- 시퀀스는 데이터의 **순서대로** 나열된 자료구조. (순서대로 나열되었다는 것은 정렬된 것과 다르다)\n",
    "\n",
    "1. List\n",
    "2. Tuple\n",
    "3. Range\n",
    "4. String"
   ]
  },
  {
   "cell_type": "markdown",
   "id": "99b9ef93-ec84-4241-b796-0b310d01677c",
   "metadata": {},
   "source": [
    "## 4.1 List (리스트, 배열)\n",
    "- 선언: var_name = [value1, value2, value3, ...]\n",
    "- 접근: var_name[index]"
   ]
  },
  {
   "cell_type": "code",
   "execution_count": 2,
   "id": "81cd1fdc-b9c5-4e62-937e-ddc8439814c6",
   "metadata": {},
   "outputs": [
    {
     "name": "stdout",
     "output_type": "stream",
     "text": [
      "[]\n",
      "<class 'list'>\n"
     ]
    }
   ],
   "source": [
    "l = []\n",
    "print(l)\n",
    "print(type(l))"
   ]
  },
  {
   "cell_type": "code",
   "execution_count": 4,
   "id": "23e3d763-cfb9-469e-8efb-d8a47372a626",
   "metadata": {},
   "outputs": [
    {
     "name": "stdout",
     "output_type": "stream",
     "text": [
      "['서울', '대전', '부신']\n"
     ]
    }
   ],
   "source": [
    "location = ['서울', '대전', '부신']\n",
    "print(location)"
   ]
  },
  {
   "cell_type": "code",
   "execution_count": 5,
   "id": "dec33cb0-19bd-41ea-90e8-b29ee0c94f48",
   "metadata": {},
   "outputs": [
    {
     "name": "stdout",
     "output_type": "stream",
     "text": [
      "서울\n"
     ]
    }
   ],
   "source": [
    "print(location[0])"
   ]
  },
  {
   "cell_type": "code",
   "execution_count": 6,
   "id": "f1a5a084-fd62-4df3-a45e-ab8a278278b2",
   "metadata": {},
   "outputs": [
    {
     "name": "stdout",
     "output_type": "stream",
     "text": [
      "['서울', '대전']\n"
     ]
    }
   ],
   "source": [
    "print(location[0:2])"
   ]
  },
  {
   "cell_type": "code",
   "execution_count": 7,
   "id": "df3c07bc-ca13-4426-8afe-0b9f069e8a8c",
   "metadata": {},
   "outputs": [
    {
     "name": "stdout",
     "output_type": "stream",
     "text": [
      "['서울', '대구', '부신']\n"
     ]
    }
   ],
   "source": [
    "location[1] = '대구'\n",
    "print(location)"
   ]
  },
  {
   "cell_type": "markdown",
   "id": "537e4b98-d49b-47aa-997b-a7c31b782b7c",
   "metadata": {},
   "source": [
    "## 2. Tuple (튜플)\n",
    "\n",
    "- 선언: var_name = (value1, value2, value3, …)\n",
    "- 접근: var_name[index]\n",
    "- 순서가 있을 땐 주로 다 대괄호로 인덱스 접근\n",
    "- **수정 불가능하다(immutable)**"
   ]
  },
  {
   "cell_type": "code",
   "execution_count": 10,
   "id": "d088c9ba-cbc6-4e53-ae5f-5d22fee8f8cc",
   "metadata": {},
   "outputs": [
    {
     "name": "stdout",
     "output_type": "stream",
     "text": [
      "('서울', '대전', '대구')\n",
      "<class 'tuple'>\n",
      "서울\n"
     ]
    }
   ],
   "source": [
    "location = ('서울', '대전', '대구')\n",
    "print(location)\n",
    "print(type(location))\n",
    "print(location[0])"
   ]
  },
  {
   "cell_type": "code",
   "execution_count": 9,
   "id": "b4d6e8b8-13a0-43fe-9c62-c7e114987c02",
   "metadata": {},
   "outputs": [
    {
     "ename": "TypeError",
     "evalue": "'tuple' object does not support item assignment",
     "output_type": "error",
     "traceback": [
      "\u001b[1;31m---------------------------------------------------------------------------\u001b[0m",
      "\u001b[1;31mTypeError\u001b[0m                                 Traceback (most recent call last)",
      "Cell \u001b[1;32mIn[9], line 1\u001b[0m\n\u001b[1;32m----> 1\u001b[0m \u001b[43mlocation\u001b[49m\u001b[43m[\u001b[49m\u001b[38;5;241;43m1\u001b[39;49m\u001b[43m]\u001b[49m \u001b[38;5;241m=\u001b[39m \u001b[38;5;124m'\u001b[39m\u001b[38;5;124m부산\u001b[39m\u001b[38;5;124m'\u001b[39m\n",
      "\u001b[1;31mTypeError\u001b[0m: 'tuple' object does not support item assignment"
     ]
    }
   ],
   "source": [
    "location[1] = '부산'"
   ]
  },
  {
   "cell_type": "markdown",
   "id": "3bfcb09c-3902-481d-b733-d0ac58ba41b1",
   "metadata": {},
   "source": [
    "## 4.5 Range\n",
    "- range(n) : 0부터 n-1까지의 범위 *(0이상 n미만)*\n",
    "- range(n , m) : n부터 m-1까지의 범위 *(n이상 m미만)*\n",
    "- range(n, m, s) : n부터 m-1까지의 범위를 s만큼 증가하는 범위"
   ]
  },
  {
   "cell_type": "code",
   "execution_count": 12,
   "id": "7a06df2f-eda0-45a9-9960-786deba4506b",
   "metadata": {},
   "outputs": [
    {
     "name": "stdout",
     "output_type": "stream",
     "text": [
      "range(0, 45)\n",
      "[0, 1, 2, 3, 4, 5, 6, 7, 8, 9, 10, 11, 12, 13, 14, 15, 16, 17, 18, 19, 20, 21, 22, 23, 24, 25, 26, 27, 28, 29, 30, 31, 32, 33, 34, 35, 36, 37, 38, 39, 40, 41, 42, 43, 44]\n"
     ]
    }
   ],
   "source": [
    "lotto = range(45)\n",
    "print(lotto)\n",
    "print(list(lotto))"
   ]
  },
  {
   "cell_type": "code",
   "execution_count": 13,
   "id": "06e9179e-f57a-4372-acc5-43669363c8f1",
   "metadata": {},
   "outputs": [
    {
     "name": "stdout",
     "output_type": "stream",
     "text": [
      "range(1, 46)\n",
      "[1, 2, 3, 4, 5, 6, 7, 8, 9, 10, 11, 12, 13, 14, 15, 16, 17, 18, 19, 20, 21, 22, 23, 24, 25, 26, 27, 28, 29, 30, 31, 32, 33, 34, 35, 36, 37, 38, 39, 40, 41, 42, 43, 44, 45]\n"
     ]
    }
   ],
   "source": [
    "lotto = range(1, 46)\n",
    "print(lotto)\n",
    "print(list(lotto))"
   ]
  },
  {
   "cell_type": "code",
   "execution_count": 16,
   "id": "e9d32639-45e5-4cf6-88c2-2d43229fac54",
   "metadata": {},
   "outputs": [
    {
     "name": "stdout",
     "output_type": "stream",
     "text": [
      "range(2, 20, 2)\n",
      "[2, 4, 6, 8, 10, 12, 14, 16, 18]\n"
     ]
    }
   ],
   "source": [
    "even = range(2, 20, 2)\n",
    "print(even)\n",
    "print(list(even))"
   ]
  },
  {
   "cell_type": "code",
   "execution_count": 17,
   "id": "bb14e178-7ad0-4df1-9297-4ffd2ca805b4",
   "metadata": {},
   "outputs": [],
   "source": [
    "numbers = range(0, -20, -2)"
   ]
  },
  {
   "cell_type": "code",
   "execution_count": 18,
   "id": "008ffac8-58f6-4668-94e8-8b0b4a7cdb47",
   "metadata": {},
   "outputs": [
    {
     "name": "stdout",
     "output_type": "stream",
     "text": [
      "[0, -2, -4, -6, -8, -10, -12, -14, -16, -18]\n"
     ]
    }
   ],
   "source": [
    "print(list(numbers))"
   ]
  },
  {
   "cell_type": "markdown",
   "id": "b9726fd1-0fb2-4baa-9f05-9e75ac8eb00d",
   "metadata": {},
   "source": [
    "## **String (텍스트)**\n",
    "\n",
    "- 기본 데이터 구조 참고\n",
    "- 단일 구조기는 하지만 알파벳들의 집합체이기 때문에 시퀀스 자료형임"
   ]
  },
  {
   "cell_type": "markdown",
   "id": "ea25a9f9-d32d-44be-84bc-84355d69519a",
   "metadata": {},
   "source": [
    "## 시퀀스에서 활용 가능한 연산/함수"
   ]
  },
  {
   "cell_type": "code",
   "execution_count": 23,
   "id": "4d783bdc-6e69-4e54-8e3c-1e3fb92cba33",
   "metadata": {},
   "outputs": [],
   "source": [
    "my_list = ['a', 'b', 'c', 'd', 'e']\n",
    "my_tuple = (6, 7, 8, 9, 10)\n",
    "my_range = range(5)\n",
    "my_string = '가나다라마'"
   ]
  },
  {
   "cell_type": "code",
   "execution_count": 24,
   "id": "fe26ed09-6e97-447d-a70f-8a8eb6262ff9",
   "metadata": {},
   "outputs": [
    {
     "name": "stdout",
     "output_type": "stream",
     "text": [
      "a\n",
      "6\n",
      "0\n",
      "가\n"
     ]
    }
   ],
   "source": [
    "# indexing\n",
    "print(my_list[0])\n",
    "print(my_tuple[0])\n",
    "print(my_range[0])\n",
    "print(my_string[0])\n"
   ]
  },
  {
   "cell_type": "code",
   "execution_count": 25,
   "id": "37d31aed-6979-421b-86f8-890739581416",
   "metadata": {},
   "outputs": [
    {
     "name": "stdout",
     "output_type": "stream",
     "text": [
      "['a', 'b']\n",
      "(6, 7)\n",
      "range(0, 2)\n",
      "가나\n"
     ]
    }
   ],
   "source": [
    "# slicing\n",
    "# var_name[index1 : index2]\n",
    "print(my_list[0:2])\n",
    "print(my_tuple[0:2])\n",
    "print(my_range[0:2])\n",
    "print(my_string[0:2])"
   ]
  },
  {
   "cell_type": "code",
   "execution_count": 28,
   "id": "d1a009e7-3fad-4ddc-8293-2270d25eda07",
   "metadata": {},
   "outputs": [
    {
     "name": "stdout",
     "output_type": "stream",
     "text": [
      "['d', 'e']\n",
      "['a', 'b', 'c']\n"
     ]
    }
   ],
   "source": [
    "# Slicing 인덱스 생략\n",
    "print(my_list[3:])\n",
    "print(my_list[:3])"
   ]
  },
  {
   "cell_type": "code",
   "execution_count": 31,
   "id": "543ffbd7-af17-4a81-b1c2-c3ab80b07960",
   "metadata": {},
   "outputs": [
    {
     "name": "stdout",
     "output_type": "stream",
     "text": [
      "e\n",
      "['c', 'd']\n",
      "['b', 'c', 'd']\n"
     ]
    }
   ],
   "source": [
    "# Slicing 음수 인덱스\n",
    "print(my_list[-1])\n",
    "print(my_list[-3:-1])\n",
    "print(my_list[1:-1])"
   ]
  },
  {
   "cell_type": "code",
   "execution_count": 32,
   "id": "556870c1-ef7b-47bd-a354-1656588a77ad",
   "metadata": {},
   "outputs": [
    {
     "name": "stdout",
     "output_type": "stream",
     "text": [
      "['a', 'c', 'e']\n"
     ]
    }
   ],
   "source": [
    "# step\n",
    "print(my_list[::2]) #구간 생략, 2칸씩 건너서"
   ]
  },
  {
   "cell_type": "code",
   "execution_count": 35,
   "id": "c2a60b5a-1f78-464c-8a0d-34b7db8afdfc",
   "metadata": {},
   "outputs": [
    {
     "name": "stdout",
     "output_type": "stream",
     "text": [
      "False\n",
      "True\n"
     ]
    }
   ],
   "source": [
    "# in\n",
    "print(1 in my_list)\n",
    "print('a' in my_list)"
   ]
  },
  {
   "cell_type": "code",
   "execution_count": 36,
   "id": "b9aac4c4-0009-4f4d-bb95-cf90027ff073",
   "metadata": {},
   "outputs": [
    {
     "name": "stdout",
     "output_type": "stream",
     "text": [
      "False\n"
     ]
    }
   ],
   "source": [
    "# not in\n",
    "print('a' not in my_list)"
   ]
  },
  {
   "cell_type": "code",
   "execution_count": 37,
   "id": "7462d5b7-4be6-4ee8-8d83-d50b701cab3b",
   "metadata": {},
   "outputs": [
    {
     "name": "stdout",
     "output_type": "stream",
     "text": [
      "['a', 'b', 'c', 'd', 'e', 1, 2, 3, 4, 5]\n"
     ]
    }
   ],
   "source": [
    "# concatennation\n",
    "print(my_list + [1, 2, 3, 4, 5])"
   ]
  },
  {
   "cell_type": "code",
   "execution_count": 38,
   "id": "970ac768-0bdd-4849-b422-5e7662945f82",
   "metadata": {},
   "outputs": [
    {
     "name": "stdout",
     "output_type": "stream",
     "text": [
      "(6, 7, 8, 9, 10, 1, 2, 3)\n"
     ]
    }
   ],
   "source": [
    "print(my_tuple + (1, 2, 3))"
   ]
  },
  {
   "cell_type": "code",
   "execution_count": 40,
   "id": "f46b4eb9-8076-403f-ad8b-82ac8ea5345c",
   "metadata": {},
   "outputs": [
    {
     "name": "stdout",
     "output_type": "stream",
     "text": [
      "['a', 'b', 'c', 'd', 'e', 'a', 'b', 'c', 'd', 'e']\n",
      "aaaaa\n"
     ]
    }
   ],
   "source": [
    "# *\n",
    "print(my_list * 2)\n",
    "print('a' * 5)"
   ]
  },
  {
   "cell_type": "code",
   "execution_count": 44,
   "id": "febcd716-232b-4088-9f8a-ecc9cc99ee90",
   "metadata": {},
   "outputs": [
    {
     "data": {
      "text/plain": [
       "[0, 0, 0, 0, 0, 0, 0, 0, 0, 0]"
      ]
     },
     "execution_count": 44,
     "metadata": {},
     "output_type": "execute_result"
    }
   ],
   "source": [
    "new_list = [0] * 10\n",
    "new_list"
   ]
  },
  {
   "cell_type": "code",
   "execution_count": 45,
   "id": "eae52eb5-0c95-4701-b584-b9e95d418a80",
   "metadata": {},
   "outputs": [
    {
     "data": {
      "text/plain": [
       "5"
      ]
     },
     "execution_count": 45,
     "metadata": {},
     "output_type": "execute_result"
    }
   ],
   "source": [
    "# 함수 3가지\n",
    "\n",
    "# 1. len()\n",
    "# 길이를 출력함\n",
    "\n",
    "len(my_list)"
   ]
  },
  {
   "cell_type": "code",
   "execution_count": 47,
   "id": "8282b5ce-6d22-47ec-bb1c-2d60ee3b8405",
   "metadata": {},
   "outputs": [
    {
     "data": {
      "text/plain": [
       "'e'"
      ]
     },
     "execution_count": 47,
     "metadata": {},
     "output_type": "execute_result"
    }
   ],
   "source": [
    "max(my_list)"
   ]
  },
  {
   "cell_type": "code",
   "execution_count": 48,
   "id": "82a6e4af-7b5c-4958-99fb-2beb1df49f2c",
   "metadata": {},
   "outputs": [
    {
     "data": {
      "text/plain": [
       "'a'"
      ]
     },
     "execution_count": 48,
     "metadata": {},
     "output_type": "execute_result"
    }
   ],
   "source": [
    "min(my_list)"
   ]
  },
  {
   "cell_type": "markdown",
   "id": "4b8ba043-6da7-4127-9ab1-8d5739591358",
   "metadata": {},
   "source": [
    "# 05. 시퀀스형이 아닌 자료구조"
   ]
  },
  {
   "cell_type": "markdown",
   "id": "586e8dfe-c850-4070-8c88-f6fa304cf14a",
   "metadata": {},
   "source": [
    "## 1. Set\n",
    "\n",
    "- 수학에서의 집합과 비슷한 개념**(중복값이 없음)**\n",
    "- 선언: `var_name = {value1, value2, value3, …}`"
   ]
  },
  {
   "cell_type": "code",
   "execution_count": 53,
   "id": "91a483e1-655e-4606-853d-3575a59140e3",
   "metadata": {},
   "outputs": [],
   "source": [
    "my_set_a = {1, 2, 3, 4, 5}\n",
    "my_set_b = {1, 3, 5, 7, 9}"
   ]
  },
  {
   "cell_type": "code",
   "execution_count": 54,
   "id": "76a160c4-159a-4940-9722-2d5628ae374c",
   "metadata": {},
   "outputs": [
    {
     "name": "stdout",
     "output_type": "stream",
     "text": [
      "{1, 2, 3, 4, 5}\n",
      "{1, 3, 5, 7, 9}\n"
     ]
    }
   ],
   "source": [
    "print(my_set_a)\n",
    "print(my_set_b)"
   ]
  },
  {
   "cell_type": "code",
   "execution_count": 55,
   "id": "f13bb051-c74e-49ec-8480-703ed7b95f28",
   "metadata": {},
   "outputs": [
    {
     "name": "stdout",
     "output_type": "stream",
     "text": [
      "{2, 4}\n"
     ]
    }
   ],
   "source": [
    "# 차집합\n",
    "print(my_set_a - my_set_b)"
   ]
  },
  {
   "cell_type": "code",
   "execution_count": 56,
   "id": "455612a0-2639-49fa-a230-c7e798beb66b",
   "metadata": {},
   "outputs": [
    {
     "name": "stdout",
     "output_type": "stream",
     "text": [
      "{1, 2, 3, 4, 5, 7, 9}\n"
     ]
    }
   ],
   "source": [
    "# 합집합\n",
    "print(my_set_a | my_set_b)"
   ]
  },
  {
   "cell_type": "code",
   "execution_count": 58,
   "id": "6b48855e-24d4-490e-a7cc-5892e2a1886f",
   "metadata": {},
   "outputs": [
    {
     "name": "stdout",
     "output_type": "stream",
     "text": [
      "{1, 3, 5}\n"
     ]
    }
   ],
   "source": [
    "# 교집합\n",
    "print(my_set_a & my_set_b)"
   ]
  },
  {
   "cell_type": "code",
   "execution_count": 59,
   "id": "eb4737a3-20b8-4f77-af4e-bc4eb711e19f",
   "metadata": {},
   "outputs": [
    {
     "name": "stdout",
     "output_type": "stream",
     "text": [
      "{'부산', '서울', '광주', '대구'}\n"
     ]
    }
   ],
   "source": [
    "location = ['서울', '대구', '부산', '광주', '서울', '광주']\n",
    "print(set(location))"
   ]
  },
  {
   "cell_type": "markdown",
   "id": "9302ae7f-11a1-401f-b678-cec51867b11b",
   "metadata": {},
   "source": [
    "## 5.2 Dictionary\n",
    "- 선언: var_name = {key1: value1, key2: value2, key3: value3}\n",
    "- 접근: var_name[key]"
   ]
  },
  {
   "cell_type": "code",
   "execution_count": 64,
   "id": "4d2b9b1f-9f44-4f3f-9b91-2e5b9d67bfb3",
   "metadata": {},
   "outputs": [
    {
     "name": "stdout",
     "output_type": "stream",
     "text": [
      "02\n"
     ]
    }
   ],
   "source": [
    "my_dict = {'서울': '02', '경기도': '031', '인천': '032'}\n",
    "print(my_dict['서울'])"
   ]
  },
  {
   "cell_type": "code",
   "execution_count": 70,
   "id": "957ba787-4101-4c53-bea5-b9a23b5c87a1",
   "metadata": {},
   "outputs": [],
   "source": [
    "my_info = {\n",
    "    'name': 'subin',\n",
    "    'location': 'seoul',\n",
    "    'age': 10,\n",
    "    'skill': ['python', 'git']    \n",
    "}"
   ]
  },
  {
   "cell_type": "code",
   "execution_count": 71,
   "id": "76b26840-a958-4ae4-a2c5-5615dbee87f9",
   "metadata": {},
   "outputs": [
    {
     "name": "stdout",
     "output_type": "stream",
     "text": [
      "subin\n"
     ]
    }
   ],
   "source": [
    "print(my_info['name'])"
   ]
  },
  {
   "cell_type": "code",
   "execution_count": 74,
   "id": "81f7a5bd-9f79-4ca0-bfa0-0d1537e7f7ec",
   "metadata": {},
   "outputs": [
    {
     "name": "stdout",
     "output_type": "stream",
     "text": [
      "git\n"
     ]
    }
   ],
   "source": [
    "print(my_info['skill'][1])"
   ]
  },
  {
   "cell_type": "markdown",
   "id": "8720ecb4-fea0-4873-9daa-2d12aa2a7dd0",
   "metadata": {},
   "source": [
    "# **데이터 타입**\n",
    "1. Number\n",
    "2. Boolean\n",
    "3. String\n",
    "\n",
    "# **자료구조**\n",
    "- 시퀀스\n",
    "1. [List] : mutable\n",
    "2. (Tuple) : immutable\n",
    "3. range() : immutable\n",
    "4. 'String' : immutable\n",
    "\n",
    "# 시퀀스가 아닌 것\n",
    "1. {Set} : mutable\n",
    "2. {Dic: ionary} : mutable"
   ]
  },
  {
   "cell_type": "code",
   "execution_count": null,
   "id": "5f001d87-79da-4f04-b48b-fee68d767893",
   "metadata": {},
   "outputs": [],
   "source": []
  },
  {
   "cell_type": "code",
   "execution_count": null,
   "id": "d27d146c-83d1-486a-933a-610b18dd3e04",
   "metadata": {},
   "outputs": [],
   "source": []
  },
  {
   "cell_type": "code",
   "execution_count": null,
   "id": "0fa6abfb-969c-4d4b-96b2-73ad101ada75",
   "metadata": {},
   "outputs": [],
   "source": []
  },
  {
   "cell_type": "code",
   "execution_count": null,
   "id": "65540dc8-9218-400e-9a82-f61133a426bf",
   "metadata": {},
   "outputs": [],
   "source": [
    "\n"
   ]
  }
 ],
 "metadata": {
  "kernelspec": {
   "display_name": "Python 3 (ipykernel)",
   "language": "python",
   "name": "python3"
  },
  "language_info": {
   "codemirror_mode": {
    "name": "ipython",
    "version": 3
   },
   "file_extension": ".py",
   "mimetype": "text/x-python",
   "name": "python",
   "nbconvert_exporter": "python",
   "pygments_lexer": "ipython3",
   "version": "3.13.2"
  }
 },
 "nbformat": 4,
 "nbformat_minor": 5
}
