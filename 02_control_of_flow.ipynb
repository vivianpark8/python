{
 "cells": [
  {
   "cell_type": "markdown",
   "id": "b8f4fa06-722d-4ae7-a0a3-3347c7de2f89",
   "metadata": {},
   "source": [
    "# 제어문"
   ]
  },
  {
   "cell_type": "markdown",
   "id": "0ac54a09-8668-4aca-bdf7-2c23e19f2af6",
   "metadata": {},
   "source": [
    "## **01. 조건문 (if문)**\n",
    "\n",
    "- if문은 반드시 참/거짓을 판단할 수 있는 ‘조건식’과 함께 사용한다\n",
    "- `if <조건식> :`\n",
    "- <조건식>이 참인 경우: `:` 이후의 문장을 실행\n",
    "- <조건식>이 거짓인 경우: `else:` 이후의 문장을 실행\n",
    "\n",
    "```\n",
    "if <조건식>:\n",
    "    if의 조건식이 참인 경우 실행하는 코드\n",
    "else:\n",
    "    if의 조건식이 거짓인 경우 실행하는 코드\n",
    "```"
   ]
  },
  {
   "cell_type": "code",
   "execution_count": 6,
   "id": "7f818a4f-d978-41fb-9b1a-397478884f10",
   "metadata": {},
   "outputs": [
    {
     "name": "stdin",
     "output_type": "stream",
     "text": [
      " 1\n"
     ]
    },
    {
     "name": "stdout",
     "output_type": "stream",
     "text": [
      "1\n",
      "no\n"
     ]
    }
   ],
   "source": [
    "my_string = input()\n",
    "print(my_string)\n",
    "\n",
    "if my_string == '12/25':\n",
    "    print('merry christmas')\n",
    "else:\n",
    "    print('no')"
   ]
  },
  {
   "cell_type": "code",
   "execution_count": 14,
   "id": "2380df77-90c1-492f-8467-2428c98f5210",
   "metadata": {},
   "outputs": [
    {
     "name": "stdin",
     "output_type": "stream",
     "text": [
      "숫자를 입력해주세요:  12\n"
     ]
    },
    {
     "name": "stdout",
     "output_type": "stream",
     "text": [
      "even\n"
     ]
    }
   ],
   "source": [
    "num = input('숫자를 입력해주세요: ')\n",
    "\n",
    "if int(num) % 2 == 1:\n",
    "    print('odd')\n",
    "else :\n",
    "    print('even')"
   ]
  },
  {
   "cell_type": "code",
   "execution_count": 19,
   "id": "e7b12790-4721-4d49-bc82-bb3d94a7e3e3",
   "metadata": {},
   "outputs": [
    {
     "name": "stdin",
     "output_type": "stream",
     "text": [
      "숫자를 입력해주세요:  12\n"
     ]
    },
    {
     "name": "stdout",
     "output_type": "stream",
     "text": [
      "even\n"
     ]
    }
   ],
   "source": [
    "num = int(input('숫자를 입력해주세요: '))\n",
    "\n",
    "if num % 2 == 1:\n",
    "    print('odd')\n",
    "else:\n",
    "    print('even')"
   ]
  },
  {
   "cell_type": "code",
   "execution_count": 21,
   "id": "53a50aa2-5f18-46b7-97ac-9bcf4d100270",
   "metadata": {},
   "outputs": [
    {
     "name": "stdin",
     "output_type": "stream",
     "text": [
      "숫자를 입력해주세요:  3\n"
     ]
    },
    {
     "name": "stdout",
     "output_type": "stream",
     "text": [
      "odd\n"
     ]
    }
   ],
   "source": [
    "num = int(input('숫자를 입력해주세요: '))\n",
    "\n",
    "if num % 2 == 0:\n",
    "    print('even')\n",
    "else:\n",
    "    print('odd')"
   ]
  },
  {
   "cell_type": "code",
   "execution_count": null,
   "id": "b5f152d6-b7b3-4857-8ef1-05fdfc6b6996",
   "metadata": {},
   "outputs": [],
   "source": [
    "num = int(input('숫자를 입력해주세요: '))\n",
    "\n",
    "#자동 형변환하므로 0은 False, 1은 True\n",
    "\n",
    "if num % 2:\n",
    "    print('odd')\n",
    "else:\n",
    "    print('even')"
   ]
  },
  {
   "cell_type": "code",
   "execution_count": 24,
   "id": "1fb2c0f7-e667-4676-a90e-cfc7c023b7f6",
   "metadata": {},
   "outputs": [
    {
     "name": "stdin",
     "output_type": "stream",
     "text": [
      "숫자를 입력해주세요:  15\n"
     ]
    },
    {
     "name": "stdout",
     "output_type": "stream",
     "text": [
      "5의 배수\n"
     ]
    }
   ],
   "source": [
    "num = int(input('숫자를 입력해주세요: '))\n",
    "\n",
    "if num ** 5:\n",
    "    print('5의 배수')\n",
    "else:\n",
    "    print('5의 배수가 아닙니다.')"
   ]
  },
  {
   "cell_type": "code",
   "execution_count": 25,
   "id": "1c991e93-0d6b-4138-922e-9aab586e6d59",
   "metadata": {},
   "outputs": [
    {
     "name": "stdin",
     "output_type": "stream",
     "text": [
      "숫자를 입력해주세요:  10\n"
     ]
    },
    {
     "name": "stdout",
     "output_type": "stream",
     "text": [
      "5의 배수\n"
     ]
    }
   ],
   "source": [
    "num = int(input('숫자를 입력해주세요: '))\n",
    "\n",
    "if num % 5 == 0:\n",
    "    print('5의 배수')\n",
    "else:\n",
    "    print('5의 배수가 아닙니다.')"
   ]
  },
  {
   "cell_type": "code",
   "execution_count": 26,
   "id": "094e1c89-7ecf-4769-9cf1-5319f05bb0ab",
   "metadata": {},
   "outputs": [
    {
     "name": "stdin",
     "output_type": "stream",
     "text": [
      "숫자를 입력해주세요:  5\n"
     ]
    },
    {
     "name": "stdout",
     "output_type": "stream",
     "text": [
      "5의 배수\n"
     ]
    }
   ],
   "source": [
    "num = int(input('숫자를 입력해주세요: '))\n",
    "\n",
    "if num % 5:\n",
    "    print('5의 배수가 아닙니다')\n",
    "else:\n",
    "    print('5의 배수')"
   ]
  },
  {
   "cell_type": "markdown",
   "id": "cb6f9db2-4e00-4f03-be6b-fa6fe71d38ea",
   "metadata": {},
   "source": [
    "### elif\n",
    "\n",
    "```\n",
    "if <조건식>:\n",
    "    if문이 참인 경우\n",
    "elif <조건식>:\n",
    "    elif문이 참인 경우\n",
    "else:\n",
    "    위의 모든 조건식이 거짓인 경우\n",
    "```"
   ]
  },
  {
   "cell_type": "code",
   "execution_count": 39,
   "id": "18493107-61c7-4620-b05d-285be8c6d11f",
   "metadata": {},
   "outputs": [
    {
     "name": "stdin",
     "output_type": "stream",
     "text": [
      "점수를 입력하세요:  99\n"
     ]
    },
    {
     "name": "stdout",
     "output_type": "stream",
     "text": [
      "당신의 점수는 A입니다\n",
      "참 잘했어요\n"
     ]
    }
   ],
   "source": [
    "# 점수에 따라 학점 나누기\n",
    "\n",
    "score = int(input('점수를 입력하세요: '))\n",
    "\n",
    "if score >= 90:\n",
    "    print('당신의 점수는 A입니다')\n",
    "    if score >= 95:\n",
    "        print('참 잘했어요')\n",
    "elif score >= 80:\n",
    "    print('당신의 점수는 B입니다')\n",
    "elif score >= 70:\n",
    "    print('당신의 점수는 C입니다')\n",
    "else:\n",
    "    print('당신의 점수는 F입니다')"
   ]
  },
  {
   "cell_type": "markdown",
   "id": "1272a5db-1a28-4a53-a35f-6c0d334e3122",
   "metadata": {},
   "source": [
    "### 조건표현식\n",
    "- `true_value if <조건식> else false_value`"
   ]
  },
  {
   "cell_type": "code",
   "execution_count": 40,
   "id": "31961e12-d77e-4e67-b5ba-37bccae1053c",
   "metadata": {},
   "outputs": [
    {
     "name": "stdout",
     "output_type": "stream",
     "text": [
      "True\n"
     ]
    }
   ],
   "source": [
    "if 1 > 0:\n",
    "    print('True')\n",
    "else:\n",
    "    print('False')"
   ]
  },
  {
   "cell_type": "code",
   "execution_count": 43,
   "id": "19a000cc-2184-43be-91d5-200ee43e0962",
   "metadata": {},
   "outputs": [
    {
     "name": "stdout",
     "output_type": "stream",
     "text": [
      "100\n"
     ]
    }
   ],
   "source": [
    "a = 0\n",
    "\n",
    "if True:\n",
    "    a = 100\n",
    "else:\n",
    "    a = -100\n",
    "print(a)"
   ]
  },
  {
   "cell_type": "code",
   "execution_count": 44,
   "id": "f1e8058f-2ef1-422f-949a-639f4fe48618",
   "metadata": {},
   "outputs": [
    {
     "name": "stdout",
     "output_type": "stream",
     "text": [
      "100\n"
     ]
    }
   ],
   "source": [
    "a = 100 if True else -100\n",
    "print(a)"
   ]
  },
  {
   "cell_type": "code",
   "execution_count": 46,
   "id": "275f8122-f9d5-4635-bfad-5b39aed48e11",
   "metadata": {},
   "outputs": [
    {
     "name": "stdin",
     "output_type": "stream",
     "text": [
      " -10\n"
     ]
    },
    {
     "name": "stdout",
     "output_type": "stream",
     "text": [
      "0\n"
     ]
    }
   ],
   "source": [
    "num = int(input())\n",
    "\n",
    "if num >= 0:\n",
    "    result = num\n",
    "else:\n",
    "    result = 0\n",
    "print(result)"
   ]
  },
  {
   "cell_type": "code",
   "execution_count": 54,
   "id": "45a028f7-1e27-4fa1-97cb-a30963bc26d9",
   "metadata": {},
   "outputs": [
    {
     "name": "stdin",
     "output_type": "stream",
     "text": [
      " 10\n"
     ]
    },
    {
     "name": "stdout",
     "output_type": "stream",
     "text": [
      "10\n"
     ]
    }
   ],
   "source": [
    "num = int(input())\n",
    "\n",
    "result = num if num >= 0 else 0\n",
    "\n",
    "print(result)"
   ]
  },
  {
   "cell_type": "code",
   "execution_count": 55,
   "id": "517b7369-64d5-4ed3-95c9-e048207a4fda",
   "metadata": {},
   "outputs": [
    {
     "name": "stdout",
     "output_type": "stream",
     "text": [
      "짝수\n"
     ]
    }
   ],
   "source": [
    "num = 10\n",
    "result = '홀수' if num % 2 else '짝수'\n",
    "print(result)"
   ]
  },
  {
   "cell_type": "code",
   "execution_count": 57,
   "id": "1ff7f597-eaa6-4e10-9061-6a698d259f77",
   "metadata": {},
   "outputs": [
    {
     "name": "stdout",
     "output_type": "stream",
     "text": [
      "짝수\n"
     ]
    }
   ],
   "source": [
    "num = 10\n",
    "\n",
    "if num % 2:\n",
    "    result = '홀수'\n",
    "else:\n",
    "    result = '짝수'\n",
    "print(result)"
   ]
  },
  {
   "cell_type": "markdown",
   "id": "8c826850-7452-48e2-bc0a-7361847ef84d",
   "metadata": {},
   "source": [
    "## 반복문"
   ]
  },
  {
   "cell_type": "markdown",
   "id": "67fe0b55-6fd2-4497-9d5c-cf7ddcbb312f",
   "metadata": {},
   "source": [
    "## while문\n",
    "\n",
    "while <조건식>:\n",
    "    실행할 코드"
   ]
  },
  {
   "cell_type": "code",
   "execution_count": 58,
   "id": "81189545-2bb6-40d9-a54d-8d8f43cbb324",
   "metadata": {},
   "outputs": [
    {
     "name": "stdout",
     "output_type": "stream",
     "text": [
      "0\n",
      "1\n",
      "2\n",
      "3\n",
      "4\n"
     ]
    }
   ],
   "source": [
    "a = 0\n",
    "\n",
    "while a < 5:\n",
    "    print(a)\n",
    "    a += 1"
   ]
  },
  {
   "cell_type": "markdown",
   "id": "77f95697-4bda-4fcb-86d3-7b39a18d938c",
   "metadata": {},
   "source": [
    "## for 문\n",
    "\n",
    "```\n",
    "for variable(item) in sequence:\n",
    "    code\n",
    "```"
   ]
  },
  {
   "cell_type": "code",
   "execution_count": 59,
   "id": "fc931993-f7e6-4304-8841-6f2aa48339d8",
   "metadata": {},
   "outputs": [
    {
     "name": "stdout",
     "output_type": "stream",
     "text": [
      "1\n",
      "2\n",
      "3\n",
      "4\n",
      "5\n"
     ]
    }
   ],
   "source": [
    "numbers = [1, 2, 3, 4, 5]\n",
    "\n",
    "for number in numbers:\n",
    "    print(number)"
   ]
  },
  {
   "cell_type": "code",
   "execution_count": 60,
   "id": "aa8ea903-01d2-48a4-b3cd-6e4d4afe72a3",
   "metadata": {},
   "outputs": [
    {
     "name": "stdout",
     "output_type": "stream",
     "text": [
      "a\n",
      "p\n",
      "p\n",
      "l\n",
      "e\n"
     ]
    }
   ],
   "source": [
    "word = 'apple'\n",
    "\n",
    "for char in word:\n",
    "    print(char)"
   ]
  },
  {
   "cell_type": "code",
   "execution_count": 61,
   "id": "0db1f996-fc8a-4fb7-b6c5-edf678f8aa90",
   "metadata": {},
   "outputs": [
    {
     "name": "stdout",
     "output_type": "stream",
     "text": [
      "0\n",
      "1\n",
      "2\n",
      "3\n",
      "4\n"
     ]
    }
   ],
   "source": [
    "for i in range(5):\n",
    "    print(i)"
   ]
  },
  {
   "cell_type": "code",
   "execution_count": 69,
   "id": "f5d49dfa-6365-4664-8e44-4c616aa3f92c",
   "metadata": {},
   "outputs": [
    {
     "name": "stdout",
     "output_type": "stream",
     "text": [
      "0\n",
      "5\n",
      "10\n",
      "15\n",
      "20\n",
      "25\n",
      "30\n",
      "35\n",
      "40\n",
      "45\n",
      "50\n"
     ]
    }
   ],
   "source": [
    "numbers = range(51)\n",
    "\n",
    "for number in numbers:\n",
    "    if number % 5 == 0:\n",
    "        print(number)"
   ]
  },
  {
   "cell_type": "code",
   "execution_count": 72,
   "id": "4ca654c3-1b17-4a0d-a451-c1f2a6fd737b",
   "metadata": {},
   "outputs": [
    {
     "name": "stdout",
     "output_type": "stream",
     "text": [
      "(0, '서울')\n",
      "(1, '대전')\n",
      "(2, '부신')\n"
     ]
    }
   ],
   "source": [
    "locations = ['서울', '대전', '부신']\n",
    "\n",
    "for location in enumerate(locations):\n",
    "    print(location)"
   ]
  },
  {
   "cell_type": "code",
   "execution_count": 73,
   "id": "478e0038-2210-44e0-9d1a-78473f6c1e3b",
   "metadata": {},
   "outputs": [
    {
     "name": "stdout",
     "output_type": "stream",
     "text": [
      "<class 'tuple'>\n"
     ]
    }
   ],
   "source": [
    "print(type(location))"
   ]
  },
  {
   "cell_type": "code",
   "execution_count": 74,
   "id": "4e462d16-a527-435a-8021-e6da42f8a102",
   "metadata": {},
   "outputs": [
    {
     "name": "stdout",
     "output_type": "stream",
     "text": [
      "0\n",
      "서울\n",
      "1\n",
      "대전\n",
      "2\n",
      "부신\n"
     ]
    }
   ],
   "source": [
    "for (index, location) in enumerate(locations):\n",
    "    print(index)\n",
    "    print(location)"
   ]
  },
  {
   "cell_type": "markdown",
   "id": "a25fdb8e-0cd0-4b17-bc04-df2e2291e473",
   "metadata": {},
   "source": [
    "## dictionary 반복\n",
    "- for key in dict:\n",
    "- for key in dict.keys():\n",
    "- for value in dict.values():\n",
    "- for key, value in dict.items():\n"
   ]
  },
  {
   "cell_type": "code",
   "execution_count": 76,
   "id": "defbbeb5-6fc8-4d74-a36a-0d8e5ed309a1",
   "metadata": {},
   "outputs": [],
   "source": [
    "info = {\n",
    "    'name': 'gildong',\n",
    "    'location': 'seoul',\n",
    "    'phone': '010-0000-0000',\n",
    "    'age': 20,\n",
    "}\n"
   ]
  },
  {
   "cell_type": "code",
   "execution_count": 77,
   "id": "891005c1-54f0-4870-9fe5-dbc98438417c",
   "metadata": {},
   "outputs": [
    {
     "name": "stdout",
     "output_type": "stream",
     "text": [
      "name\n",
      "location\n",
      "phone\n",
      "age\n"
     ]
    }
   ],
   "source": [
    "for k in info:\n",
    "    print(k)"
   ]
  },
  {
   "cell_type": "code",
   "execution_count": 81,
   "id": "e23e377e-4d81-4d85-9a84-bb1ce3e172e9",
   "metadata": {},
   "outputs": [
    {
     "name": "stdout",
     "output_type": "stream",
     "text": [
      "gildong\n",
      "seoul\n",
      "010-0000-0000\n",
      "20\n"
     ]
    }
   ],
   "source": [
    "for k in info.keys():\n",
    "    print(info[k])"
   ]
  },
  {
   "cell_type": "code",
   "execution_count": 82,
   "id": "98170ea2-dbe4-4622-9941-3ca799a1a270",
   "metadata": {},
   "outputs": [
    {
     "name": "stdout",
     "output_type": "stream",
     "text": [
      "gildong\n",
      "seoul\n",
      "010-0000-0000\n",
      "20\n"
     ]
    }
   ],
   "source": [
    "for v in info.values():\n",
    "    print(v)"
   ]
  },
  {
   "cell_type": "code",
   "execution_count": 83,
   "id": "6249c647-79a6-4512-be41-b71e8b1824bc",
   "metadata": {},
   "outputs": [
    {
     "name": "stdout",
     "output_type": "stream",
     "text": [
      "name gildong\n",
      "location seoul\n",
      "phone 010-0000-0000\n",
      "age 20\n"
     ]
    }
   ],
   "source": [
    "for k, v in info.items():\n",
    "    print(k, v)"
   ]
  },
  {
   "cell_type": "code",
   "execution_count": 84,
   "id": "865f5baf-4a86-4491-b6e7-960dd90d87d6",
   "metadata": {},
   "outputs": [],
   "source": [
    "blood_type = {\n",
    "    'A': 15,\n",
    "    'B': 8,\n",
    "    'O': 5,\n",
    "    'AB': 4,\n",
    "}"
   ]
  },
  {
   "cell_type": "code",
   "execution_count": 87,
   "id": "00954426-1572-4cb1-b5cd-f6173aeedbff",
   "metadata": {},
   "outputs": [
    {
     "name": "stdout",
     "output_type": "stream",
     "text": [
      "혈액형은 A가 있습니다\n",
      "혈액형은 B가 있습니다\n",
      "혈액형은 O가 있습니다\n",
      "혈액형은 AB가 있습니다\n"
     ]
    }
   ],
   "source": [
    "# 혈액형은 ~가 있습니다\n",
    "\n",
    "for b in blood_type:\n",
    "    print(f'혈액형은 {b}가 있습니다')"
   ]
  },
  {
   "cell_type": "code",
   "execution_count": 92,
   "id": "0e9f2a2c-40a0-4884-8bdc-59db6cd45cfe",
   "metadata": {},
   "outputs": [
    {
     "name": "stdout",
     "output_type": "stream",
     "text": [
      "15\n",
      "23\n",
      "28\n",
      "32\n",
      "총 학생 수는 32명 입니다.\n"
     ]
    }
   ],
   "source": [
    "# 총 학생은 00명 입니다\n",
    "\n",
    "result = 0\n",
    "for number in blood_type.values():\n",
    "    result += number\n",
    "    print(result)\n",
    "print(f'총 학생 수는 {result}명 입니다.')"
   ]
  },
  {
   "cell_type": "code",
   "execution_count": 93,
   "id": "eb5271a7-44c9-46d7-a37a-237122413ef0",
   "metadata": {},
   "outputs": [
    {
     "name": "stdout",
     "output_type": "stream",
     "text": [
      "A형은 15명입니다.\n",
      "B형은 8명입니다.\n",
      "O형은 5명입니다.\n",
      "AB형은 4명입니다.\n"
     ]
    }
   ],
   "source": [
    "for k, v in blood_type.items():\n",
    "    print(f'{k}형은 {v}명입니다.')"
   ]
  },
  {
   "cell_type": "markdown",
   "id": "70cce5eb-df41-42bf-9e53-061a56b5bdc6",
   "metadata": {},
   "source": [
    "### break\n",
    "- 반복문을 종료 시키는 키워드"
   ]
  },
  {
   "cell_type": "code",
   "execution_count": 100,
   "id": "1143a058-43d7-4bab-bf34-a3108e7a213c",
   "metadata": {},
   "outputs": [
    {
     "name": "stdout",
     "output_type": "stream",
     "text": [
      "여기는 for문 0\n",
      "여기는 for문 1\n",
      "여기는 for문 2\n",
      "여기는 for문 3\n",
      "여기는 for문 4\n",
      "여기는 for문 5\n",
      "여기는 for문 6\n",
      "여기는 break\n"
     ]
    }
   ],
   "source": [
    "for i in range(100):\n",
    "    print('여기는 for문', i)\n",
    "    if i > 5:\n",
    "        print('여기는 break')\n",
    "        break"
   ]
  },
  {
   "cell_type": "code",
   "execution_count": 104,
   "id": "199c70b0-fb01-4600-9b5a-cc17caa04ab7",
   "metadata": {},
   "outputs": [
    {
     "name": "stdin",
     "output_type": "stream",
     "text": [
      " 쌀\n"
     ]
    },
    {
     "name": "stdout",
     "output_type": "stream",
     "text": [
      "잡았다\n"
     ]
    }
   ],
   "source": [
    "\n",
    "while True:\n",
    "    rice = input()\n",
    "\n",
    "    if rice == '쌀':\n",
    "        print('잡았다')\n",
    "        break"
   ]
  },
  {
   "cell_type": "markdown",
   "id": "82a0ae42-a50e-4cdc-b0e2-9722d74a3581",
   "metadata": {},
   "source": [
    "### continue"
   ]
  },
  {
   "cell_type": "code",
   "execution_count": 108,
   "id": "3cefe76a-ec3e-421d-9811-51578f906cac",
   "metadata": {},
   "outputs": [
    {
     "name": "stdout",
     "output_type": "stream",
     "text": [
      "0\n",
      "2\n",
      "4\n",
      "6\n",
      "8\n",
      "10\n",
      "12\n",
      "14\n",
      "16\n",
      "18\n",
      "20\n"
     ]
    }
   ],
   "source": [
    "for i in range(21):\n",
    "    if i % 2 == 1:\n",
    "        continue\n",
    "    print(i)"
   ]
  },
  {
   "cell_type": "code",
   "execution_count": 110,
   "id": "0c9958e2-058f-4999-808b-c8cbbcc68c38",
   "metadata": {},
   "outputs": [
    {
     "name": "stdout",
     "output_type": "stream",
     "text": [
      "20살은 성인입니다.\n",
      "30살은 성인입니다.\n",
      "23살은 성인입니다.\n",
      "51살은 성인입니다.\n",
      "45살은 성인입니다.\n",
      "55살은 성인입니다.\n"
     ]
    }
   ],
   "source": [
    "ages = [10, 20, 30, 23, 51, 5, 45, 55]\n",
    "\n",
    "for age in ages:\n",
    "    if age < 20:\n",
    "        continue\n",
    "    print(f'{age}살은 성인입니다.')"
   ]
  },
  {
   "cell_type": "markdown",
   "id": "c45bfe71-786d-474d-8d03-332432180529",
   "metadata": {},
   "source": [
    "### else\n",
    "- else 문은 끝까지 반복된 경우 실행. break를 만나지 않은 경우 실행됨"
   ]
  },
  {
   "cell_type": "code",
   "execution_count": 117,
   "id": "ad128936-940a-4440-a39f-4acedaea8e87",
   "metadata": {},
   "outputs": [
    {
     "name": "stdout",
     "output_type": "stream",
     "text": [
      "0\n",
      "1\n",
      "2\n",
      "3\n",
      "4\n",
      "5\n",
      "6\n",
      "7\n",
      "8\n",
      "9\n",
      "모두 완료\n"
     ]
    }
   ],
   "source": [
    "for i in range(10):\n",
    "    if i > 10:\n",
    "        break\n",
    "    print(i)\n",
    "else:\n",
    "    print('모두 완료')"
   ]
  },
  {
   "cell_type": "code",
   "execution_count": null,
   "id": "8e4c4ab7-36f3-405f-a486-0faede375867",
   "metadata": {},
   "outputs": [],
   "source": []
  },
  {
   "cell_type": "code",
   "execution_count": null,
   "id": "3feaee25-309d-4641-8dd5-c9cf00b8a6c4",
   "metadata": {},
   "outputs": [],
   "source": []
  },
  {
   "cell_type": "code",
   "execution_count": null,
   "id": "a8536742-6f74-45be-935b-7050bee99325",
   "metadata": {},
   "outputs": [],
   "source": []
  },
  {
   "cell_type": "code",
   "execution_count": null,
   "id": "b8ddf498-9a67-47b3-a54f-6ffcbbb2d379",
   "metadata": {},
   "outputs": [],
   "source": []
  },
  {
   "cell_type": "code",
   "execution_count": null,
   "id": "450acbb0-f3b8-4d94-8a03-beac6b9f20ed",
   "metadata": {},
   "outputs": [],
   "source": []
  },
  {
   "cell_type": "code",
   "execution_count": null,
   "id": "d0f06daa-4c78-4c90-9d70-7833a01e096d",
   "metadata": {},
   "outputs": [],
   "source": []
  },
  {
   "cell_type": "code",
   "execution_count": null,
   "id": "c088aeb5-170b-4847-886e-0b0ed4bf70db",
   "metadata": {},
   "outputs": [],
   "source": []
  }
 ],
 "metadata": {
  "kernelspec": {
   "display_name": "Python 3 (ipykernel)",
   "language": "python",
   "name": "python3"
  },
  "language_info": {
   "codemirror_mode": {
    "name": "ipython",
    "version": 3
   },
   "file_extension": ".py",
   "mimetype": "text/x-python",
   "name": "python",
   "nbconvert_exporter": "python",
   "pygments_lexer": "ipython3",
   "version": "3.13.2"
  }
 },
 "nbformat": 4,
 "nbformat_minor": 5
}
