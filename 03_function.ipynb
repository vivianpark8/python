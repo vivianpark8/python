{
 "cells": [
  {
   "cell_type": "markdown",
   "id": "65414dc3-478f-468d-a970-7b13ce4066a1",
   "metadata": {},
   "source": [
    "## 함수(function)"
   ]
  },
  {
   "cell_type": "code",
   "execution_count": 1,
   "id": "50508472-cbfd-4cb3-b52a-d50ea6445e10",
   "metadata": {},
   "outputs": [],
   "source": [
    "# 사각형의 사로와 세로의 길이를 이용해서 면적과 둘레를 구하는 코드"
   ]
  },
  {
   "cell_type": "code",
   "execution_count": 3,
   "id": "17dc65f2-ae4f-4d13-ae55-0ebffcf5f997",
   "metadata": {},
   "outputs": [
    {
     "name": "stdin",
     "output_type": "stream",
     "text": [
      "가로의 길이:  10\n",
      "세로의 길이:  5\n"
     ]
    },
    {
     "name": "stdout",
     "output_type": "stream",
     "text": [
      "사각형의 면적은 50.0, 둘레는 30.0입니다\n"
     ]
    }
   ],
   "source": [
    "x = float(input('가로의 길이: '))\n",
    "y = float(input('세로의 길이: '))\n",
    "\n",
    "a = x * y\n",
    "b = (x * 2) + (y * 2)\n",
    "\n",
    "print(f'사각형의 면적은 {a}, 둘레는 {b}입니다')\n"
   ]
  },
  {
   "cell_type": "code",
   "execution_count": 5,
   "id": "52e6d606-b24e-43e8-a570-511e90844530",
   "metadata": {},
   "outputs": [
    {
     "name": "stdout",
     "output_type": "stream",
     "text": [
      "1000 140\n"
     ]
    }
   ],
   "source": [
    "height = 50\n",
    "width = 20\n",
    "\n",
    "area = height * width\n",
    "perimeter = (height + width) * 2\n",
    "\n",
    "print(area, perimeter)"
   ]
  },
  {
   "cell_type": "markdown",
   "id": "8d513378-4865-485b-8029-73e38451277f",
   "metadata": {},
   "source": [
    "## 함수의 선언과 호출\n",
    "- 선언\n",
    "\n",
    "```python\n",
    "\n",
    "\tdef func_name(parameter1, parameter2, ...):\n",
    "\t\tcode 1\n",
    "\t\tcode 2\n",
    "\t\t...\n",
    "\t\treturn value\n",
    "\n",
    "```"
   ]
  },
  {
   "cell_type": "code",
   "execution_count": 17,
   "id": "5bbf6384-1266-4ef6-96c4-b5bd771a1d00",
   "metadata": {},
   "outputs": [],
   "source": [
    "def rectangle(height, width):\n",
    "    area = height * width\n",
    "    perimeter = (height + width) * 2\n",
    "\n",
    "    print(f'사각형의 면적은 {area}, 둘레는 {perimeter}입니다')"
   ]
  },
  {
   "cell_type": "code",
   "execution_count": 18,
   "id": "616d3341-5f0d-4fe3-b6f6-aa7a410f531b",
   "metadata": {},
   "outputs": [
    {
     "name": "stdout",
     "output_type": "stream",
     "text": [
      "사각형의 면적은 600, 둘레는 100입니다\n"
     ]
    }
   ],
   "source": [
    "rectangle(20, 30)"
   ]
  },
  {
   "cell_type": "markdown",
   "id": "8b11e365-e71b-47fb-99dc-638b7c50fc17",
   "metadata": {},
   "source": [
    "### 기본 함수\n",
    "- `dir(__builtins__)`"
   ]
  },
  {
   "cell_type": "code",
   "execution_count": 19,
   "id": "055c3d68-d426-4b53-af6f-e778cfeaf370",
   "metadata": {},
   "outputs": [
    {
     "data": {
      "text/plain": [
       "['ArithmeticError',\n",
       " 'AssertionError',\n",
       " 'AttributeError',\n",
       " 'BaseException',\n",
       " 'BaseExceptionGroup',\n",
       " 'BlockingIOError',\n",
       " 'BrokenPipeError',\n",
       " 'BufferError',\n",
       " 'BytesWarning',\n",
       " 'ChildProcessError',\n",
       " 'ConnectionAbortedError',\n",
       " 'ConnectionError',\n",
       " 'ConnectionRefusedError',\n",
       " 'ConnectionResetError',\n",
       " 'DeprecationWarning',\n",
       " 'EOFError',\n",
       " 'Ellipsis',\n",
       " 'EncodingWarning',\n",
       " 'EnvironmentError',\n",
       " 'Exception',\n",
       " 'ExceptionGroup',\n",
       " 'False',\n",
       " 'FileExistsError',\n",
       " 'FileNotFoundError',\n",
       " 'FloatingPointError',\n",
       " 'FutureWarning',\n",
       " 'GeneratorExit',\n",
       " 'IOError',\n",
       " 'ImportError',\n",
       " 'ImportWarning',\n",
       " 'IndentationError',\n",
       " 'IndexError',\n",
       " 'InterruptedError',\n",
       " 'IsADirectoryError',\n",
       " 'KeyError',\n",
       " 'KeyboardInterrupt',\n",
       " 'LookupError',\n",
       " 'MemoryError',\n",
       " 'ModuleNotFoundError',\n",
       " 'NameError',\n",
       " 'None',\n",
       " 'NotADirectoryError',\n",
       " 'NotImplemented',\n",
       " 'NotImplementedError',\n",
       " 'OSError',\n",
       " 'OverflowError',\n",
       " 'PendingDeprecationWarning',\n",
       " 'PermissionError',\n",
       " 'ProcessLookupError',\n",
       " 'PythonFinalizationError',\n",
       " 'RecursionError',\n",
       " 'ReferenceError',\n",
       " 'ResourceWarning',\n",
       " 'RuntimeError',\n",
       " 'RuntimeWarning',\n",
       " 'StopAsyncIteration',\n",
       " 'StopIteration',\n",
       " 'SyntaxError',\n",
       " 'SyntaxWarning',\n",
       " 'SystemError',\n",
       " 'SystemExit',\n",
       " 'TabError',\n",
       " 'TimeoutError',\n",
       " 'True',\n",
       " 'TypeError',\n",
       " 'UnboundLocalError',\n",
       " 'UnicodeDecodeError',\n",
       " 'UnicodeEncodeError',\n",
       " 'UnicodeError',\n",
       " 'UnicodeTranslateError',\n",
       " 'UnicodeWarning',\n",
       " 'UserWarning',\n",
       " 'ValueError',\n",
       " 'Warning',\n",
       " 'WindowsError',\n",
       " 'ZeroDivisionError',\n",
       " '_IncompleteInputError',\n",
       " '__IPYTHON__',\n",
       " '__build_class__',\n",
       " '__debug__',\n",
       " '__doc__',\n",
       " '__import__',\n",
       " '__loader__',\n",
       " '__name__',\n",
       " '__package__',\n",
       " '__spec__',\n",
       " 'abs',\n",
       " 'aiter',\n",
       " 'all',\n",
       " 'anext',\n",
       " 'any',\n",
       " 'ascii',\n",
       " 'bin',\n",
       " 'bool',\n",
       " 'breakpoint',\n",
       " 'bytearray',\n",
       " 'bytes',\n",
       " 'callable',\n",
       " 'chr',\n",
       " 'classmethod',\n",
       " 'compile',\n",
       " 'complex',\n",
       " 'copyright',\n",
       " 'credits',\n",
       " 'delattr',\n",
       " 'dict',\n",
       " 'dir',\n",
       " 'display',\n",
       " 'divmod',\n",
       " 'enumerate',\n",
       " 'eval',\n",
       " 'exec',\n",
       " 'execfile',\n",
       " 'filter',\n",
       " 'float',\n",
       " 'format',\n",
       " 'frozenset',\n",
       " 'get_ipython',\n",
       " 'getattr',\n",
       " 'globals',\n",
       " 'hasattr',\n",
       " 'hash',\n",
       " 'help',\n",
       " 'hex',\n",
       " 'id',\n",
       " 'input',\n",
       " 'int',\n",
       " 'isinstance',\n",
       " 'issubclass',\n",
       " 'iter',\n",
       " 'len',\n",
       " 'license',\n",
       " 'list',\n",
       " 'locals',\n",
       " 'map',\n",
       " 'max',\n",
       " 'memoryview',\n",
       " 'min',\n",
       " 'next',\n",
       " 'object',\n",
       " 'oct',\n",
       " 'open',\n",
       " 'ord',\n",
       " 'pow',\n",
       " 'print',\n",
       " 'property',\n",
       " 'range',\n",
       " 'repr',\n",
       " 'reversed',\n",
       " 'round',\n",
       " 'runfile',\n",
       " 'set',\n",
       " 'setattr',\n",
       " 'slice',\n",
       " 'sorted',\n",
       " 'staticmethod',\n",
       " 'str',\n",
       " 'sum',\n",
       " 'super',\n",
       " 'tuple',\n",
       " 'type',\n",
       " 'vars',\n",
       " 'zip']"
      ]
     },
     "execution_count": 19,
     "metadata": {},
     "output_type": "execute_result"
    }
   ],
   "source": [
    "dir(__builtins__)"
   ]
  },
  {
   "cell_type": "code",
   "execution_count": 21,
   "id": "c33a48cb-ccca-4423-a230-201fc533158e",
   "metadata": {},
   "outputs": [
    {
     "data": {
      "text/plain": [
       "2"
      ]
     },
     "execution_count": 21,
     "metadata": {},
     "output_type": "execute_result"
    }
   ],
   "source": [
    "max(2, 2)\n",
    "# 더 큰 수 뽑아줌"
   ]
  },
  {
   "cell_type": "code",
   "execution_count": 32,
   "id": "9d2fc1ee-9cf4-45ea-8d88-f71a6b0be82a",
   "metadata": {},
   "outputs": [
    {
     "name": "stdout",
     "output_type": "stream",
     "text": [
      "같습니다\n"
     ]
    }
   ],
   "source": [
    "def my_max(x, y):\n",
    "    if x > y:\n",
    "        print(x)\n",
    "    elif x == y:\n",
    "        print('같습니다')\n",
    "    else:\n",
    "        print(y)\n",
    "\n",
    "my_max(110, 110)"
   ]
  },
  {
   "cell_type": "markdown",
   "id": "4f9734d7-1d40-49e7-bc22-3ba21cd67f4e",
   "metadata": {},
   "source": [
    "## 함수의 return\n",
    "\n",
    "- 함수가 return을 만나면 해당값을 반환하고 함수를 종료\n",
    "- 만약 return이 없는 경우 None을 자동으로 반환\n",
    "- return은 오직 하나의 객체만 반환함"
   ]
  },
  {
   "cell_type": "code",
   "execution_count": 33,
   "id": "ff31933b-3679-4c7e-8b77-317eaea26d99",
   "metadata": {},
   "outputs": [
    {
     "name": "stdout",
     "output_type": "stream",
     "text": [
      "2\n"
     ]
    }
   ],
   "source": [
    "my_max(1, 2)"
   ]
  },
  {
   "cell_type": "code",
   "execution_count": 34,
   "id": "fb67befa-b479-4c62-b40e-bbf59857051c",
   "metadata": {},
   "outputs": [
    {
     "data": {
      "text/plain": [
       "10"
      ]
     },
     "execution_count": 34,
     "metadata": {},
     "output_type": "execute_result"
    }
   ],
   "source": [
    "def my_max_2(x, y):\n",
    "    if x > y:\n",
    "        return x\n",
    "    else:\n",
    "        return y\n",
    "\n",
    "my_max_2(10, 2)"
   ]
  },
  {
   "cell_type": "code",
   "execution_count": 35,
   "id": "bec2ea84-7afe-48d0-a576-f6e158a93c33",
   "metadata": {},
   "outputs": [
    {
     "name": "stdout",
     "output_type": "stream",
     "text": [
      "2\n"
     ]
    }
   ],
   "source": [
    "result = my_max_2(1, 2)\n",
    "print(result)"
   ]
  },
  {
   "cell_type": "code",
   "execution_count": 37,
   "id": "5509fa8e-efce-46e2-b8ad-44415838a919",
   "metadata": {},
   "outputs": [
    {
     "data": {
      "text/plain": [
       "(8, 4)"
      ]
     },
     "execution_count": 37,
     "metadata": {},
     "output_type": "execute_result"
    }
   ],
   "source": [
    "def my_def(x):\n",
    "    return x * 2, x\n",
    "\n",
    "my_def(4)\n",
    "\n",
    "# 하나만 반환할 수 있다고 했는데? -> 이건 소괄호로 묶여있음 -> 튜플 하나만 반환한 것임"
   ]
  },
  {
   "cell_type": "code",
   "execution_count": 39,
   "id": "2e641cfe-a6f5-4224-b717-b3afa89532c2",
   "metadata": {},
   "outputs": [
    {
     "name": "stdout",
     "output_type": "stream",
     "text": [
      "0\n",
      "1\n",
      "2\n",
      "3\n"
     ]
    },
    {
     "data": {
      "text/plain": [
       "3"
      ]
     },
     "execution_count": 39,
     "metadata": {},
     "output_type": "execute_result"
    }
   ],
   "source": [
    "def my_for(x):\n",
    "    for i in range(x):\n",
    "        print(i)\n",
    "        if i == 3:\n",
    "            return i\n",
    "\n",
    "my_for(5)\n",
    "\n",
    "# return이 나오는 순간 함수는 끝남 반복문이더라도 종료됨"
   ]
  },
  {
   "cell_type": "code",
   "execution_count": 100,
   "id": "6c95c518-b0bb-4b5a-9b76-fb0e9f95b967",
   "metadata": {},
   "outputs": [],
   "source": [
    "def my_list_max(x, y):\n",
    "    a = 0\n",
    "    b = 0\n",
    "    \n",
    "    for i in x:\n",
    "        a += i\n",
    "        \n",
    "    for i in y:\n",
    "        b += i\n",
    "        \n",
    "    if a > b:\n",
    "        return x\n",
    "    else :\n",
    "        return y\n",
    "\n",
    "# 개수 만큼 반복하고 싶다면 -> range(len(x)) -> 순서로는 가능\n",
    "# 하지만 이 경우 각각의 요소에 접근할 수는 없음\n",
    "\n",
    "# for문에서 in 이후에 시퀀스형 자료만 들어올 수 있음\n",
    "# 그래서 list 안에 있는 요소 하나하나를 꺼내서 사용할 수 있는 것임\n"
   ]
  },
  {
   "cell_type": "code",
   "execution_count": 101,
   "id": "220ae95b-73f8-4d2a-b06a-6932574449ad",
   "metadata": {},
   "outputs": [
    {
     "data": {
      "text/plain": [
       "[2, 3, 4]"
      ]
     },
     "execution_count": 101,
     "metadata": {},
     "output_type": "execute_result"
    }
   ],
   "source": [
    "my_list_max([1, 2, 3], [2, 3, 4])\n",
    "# 두 리스트의 합 중에서 더 큰 값인 리스트를 출력하기"
   ]
  },
  {
   "cell_type": "code",
   "execution_count": 97,
   "id": "e44e4dfd-f050-4fd5-9d2c-8cd042b29f81",
   "metadata": {},
   "outputs": [
    {
     "data": {
      "text/plain": [
       "[1000, 2, 3, 5]"
      ]
     },
     "execution_count": 97,
     "metadata": {},
     "output_type": "execute_result"
    }
   ],
   "source": [
    "my_list_max([1000, 2, 3, 5], [200, 3, 4])"
   ]
  },
  {
   "cell_type": "code",
   "execution_count": 99,
   "id": "17263552-d79f-4d8b-b556-bbd5ea5da49f",
   "metadata": {},
   "outputs": [],
   "source": [
    "def my_list_max2(list1, list2):\n",
    "    sum_of_list1 = 0\n",
    "    sum_of_list2 = 0\n",
    "\n",
    "    for item in list1:\n",
    "        sume_of_list += item\n",
    "\n",
    "    for item in list2:\n",
    "        sum_of_list2 += item\n",
    "\n",
    "    if sum_of_list1 > sum_of_list2:\n",
    "        return list1\n",
    "    else:\n",
    "        return list2"
   ]
  },
  {
   "cell_type": "code",
   "execution_count": 104,
   "id": "4c516c1e-e1ed-45fd-9a5b-b05a7e0102e8",
   "metadata": {},
   "outputs": [],
   "source": [
    "def my_list_max3(list1, list2):\n",
    "    sum_of_list1 = sum(list1)\n",
    "    sum_of_list2 = sum(list2)\n",
    "\n",
    "    if sum_of_list1 > sum_of_list2:\n",
    "        return list1\n",
    "    else:\n",
    "        return list2"
   ]
  },
  {
   "cell_type": "code",
   "execution_count": 105,
   "id": "1907cb3b-9f35-4b2f-9ffc-d0dfe389cc63",
   "metadata": {},
   "outputs": [
    {
     "data": {
      "text/plain": [
       "[4, 6, 3]"
      ]
     },
     "execution_count": 105,
     "metadata": {},
     "output_type": "execute_result"
    }
   ],
   "source": [
    "my_list_max3([1, 5, 1], [4, 6, 3])"
   ]
  },
  {
   "cell_type": "markdown",
   "id": "ec8f07d5-036f-4bd3-99c4-e685beefdf13",
   "metadata": {},
   "source": [
    "### 함수의 인수"
   ]
  },
  {
   "cell_type": "markdown",
   "id": "b0b3b77f-bc9a-4543-b512-db8c4b37e65b",
   "metadata": {},
   "source": [
    "### **위치 인수**\n",
    "\n",
    "- 기본적으로 함수는 위치를 기준으로 인수를 판단함"
   ]
  },
  {
   "cell_type": "code",
   "execution_count": 106,
   "id": "b05b4904-ae44-45ea-9fce-ff22a4a68ac8",
   "metadata": {},
   "outputs": [],
   "source": [
    "def cylinder(r, h):\n",
    "    return 3.14 * r ** 2 * h"
   ]
  },
  {
   "cell_type": "code",
   "execution_count": 107,
   "id": "b8439792-0e08-4f3f-9bec-12c22e891609",
   "metadata": {},
   "outputs": [
    {
     "data": {
      "text/plain": [
       "282.6"
      ]
     },
     "execution_count": 107,
     "metadata": {},
     "output_type": "execute_result"
    }
   ],
   "source": [
    "cylinder(3, 10)"
   ]
  },
  {
   "cell_type": "markdown",
   "id": "d7b234ed-9004-4841-a9be-338fccb49eb0",
   "metadata": {},
   "source": [
    "#### 기본값\n",
    "```python\n",
    "def func_name(p1=v1):\n",
    "    code1\n",
    "    return value\n",
    "```"
   ]
  },
  {
   "cell_type": "code",
   "execution_count": 113,
   "id": "87fae664-43a9-49b3-b8fa-2c0b3600e4fb",
   "metadata": {},
   "outputs": [],
   "source": [
    "def greeting(name='익명'):\n",
    "    return f'{name}님 반갑습니다.'"
   ]
  },
  {
   "cell_type": "code",
   "execution_count": 115,
   "id": "23a01d59-165f-4cf0-99ba-61d1ac2c41e6",
   "metadata": {},
   "outputs": [
    {
     "data": {
      "text/plain": [
       "'익명님 반갑습니다.'"
      ]
     },
     "execution_count": 115,
     "metadata": {},
     "output_type": "execute_result"
    }
   ],
   "source": [
    "greeting()"
   ]
  },
  {
   "cell_type": "code",
   "execution_count": 117,
   "id": "51b8dd6e-d9f1-40e6-aa81-984cc5fafa57",
   "metadata": {},
   "outputs": [
    {
     "data": {
      "text/plain": [
       "'홍길동님 반갑습니다.'"
      ]
     },
     "execution_count": 117,
     "metadata": {},
     "output_type": "execute_result"
    }
   ],
   "source": [
    "greeting('홍길동')"
   ]
  },
  {
   "cell_type": "code",
   "execution_count": 119,
   "id": "04b56142-7980-4eb7-a486-1f0bad1544d2",
   "metadata": {},
   "outputs": [
    {
     "name": "stdout",
     "output_type": "stream",
     "text": [
      "안녕*반가워\n"
     ]
    }
   ],
   "source": [
    "print('안녕', '반가워', sep='*')\n",
    "\n",
    "# sep = 기본으로 띄어쓰기 되어있음 ' '\n",
    "# 직접 지정해주면 그걸 기준으로 출력함"
   ]
  },
  {
   "cell_type": "code",
   "execution_count": 124,
   "id": "a423a15d-fbdf-4951-a174-b08f114b754d",
   "metadata": {},
   "outputs": [],
   "source": [
    "def greeting(name='익명', age='?'):\n",
    "    return f'{name}님의 나이는 {age}살 입니다.'\n"
   ]
  },
  {
   "cell_type": "code",
   "execution_count": 125,
   "id": "9420c6a8-7964-476b-baec-adefb2d7e2e2",
   "metadata": {},
   "outputs": [
    {
     "data": {
      "text/plain": [
       "'수빈님의 나이는 25살 입니다.'"
      ]
     },
     "execution_count": 125,
     "metadata": {},
     "output_type": "execute_result"
    }
   ],
   "source": [
    "greeting('수빈', 25)"
   ]
  },
  {
   "cell_type": "code",
   "execution_count": 129,
   "id": "78088730-e973-4e18-b732-de363d904f96",
   "metadata": {},
   "outputs": [],
   "source": [
    "def greeting(age, name='익명'):\n",
    "    return f'{name}님의 나이는 {age}살 입니다.'\n"
   ]
  },
  {
   "cell_type": "code",
   "execution_count": 130,
   "id": "14c70da8-0135-40a6-bde5-61952ec8cf4a",
   "metadata": {},
   "outputs": [
    {
     "ename": "SyntaxError",
     "evalue": "parameter without a default follows parameter with a default (3403590046.py, line 1)",
     "output_type": "error",
     "traceback": [
      "\u001b[1;36m  Cell \u001b[1;32mIn[130], line 1\u001b[1;36m\u001b[0m\n\u001b[1;33m    def greeting(name='익명', age):\u001b[0m\n\u001b[1;37m                            ^\u001b[0m\n\u001b[1;31mSyntaxError\u001b[0m\u001b[1;31m:\u001b[0m parameter without a default follows parameter with a default\n"
     ]
    }
   ],
   "source": [
    "def greeting(name='익명', age):\n",
    "    return f'{name}님의 나이는 {age}살 입니다.'\n"
   ]
  },
  {
   "cell_type": "markdown",
   "id": "ecde12d5-2132-4fa1-88dd-664296bbb126",
   "metadata": {},
   "source": [
    "### 키워드 인수\n",
    "- 함수를 호출(실행)할 때 내가 원하는 위치에 직접적으로 값을 전달\n"
   ]
  },
  {
   "cell_type": "code",
   "execution_count": 131,
   "id": "709c76d1-e482-43df-9af7-ab8a01677956",
   "metadata": {},
   "outputs": [],
   "source": [
    "def greeting(age, name='익명'):\n",
    "    return f'{name}님은 {age}살 입니다'"
   ]
  },
  {
   "cell_type": "code",
   "execution_count": 133,
   "id": "c5e2fb40-0589-45cf-89ab-71704d59d13c",
   "metadata": {},
   "outputs": [
    {
     "data": {
      "text/plain": [
       "'익명님은 10살 입니다'"
      ]
     },
     "execution_count": 133,
     "metadata": {},
     "output_type": "execute_result"
    }
   ],
   "source": [
    "greeting(10, '길동')\n",
    "greeting(10)"
   ]
  },
  {
   "cell_type": "code",
   "execution_count": null,
   "id": "975f3af0-aade-4e3e-bbc1-97c3ffd70a31",
   "metadata": {},
   "outputs": [],
   "source": [
    "# 키워드 인수\n",
    "greeting(name='길동', age=10)\n",
    "\n",
    "# 직접 명시해서 순서 상관없이 인수 넣는 것"
   ]
  },
  {
   "cell_type": "markdown",
   "id": "37a6fc3b-cb55-424e-84de-d2ae2c4a620d",
   "metadata": {},
   "source": [
    "### 가변인자 리스트\n",
    "```\n",
    "def func_name(*parms):\n",
    "\t\tcode\n",
    "\t\t...\n",
    "\t\treturn value"
   ]
  },
  {
   "cell_type": "code",
   "execution_count": 136,
   "id": "88f2309b-642a-4764-b2e3-0f309879e5a1",
   "metadata": {},
   "outputs": [],
   "source": [
    "def my_print(*words):\n",
    "    print(words)"
   ]
  },
  {
   "cell_type": "code",
   "execution_count": 137,
   "id": "b5524d46-3ade-47a4-8159-b349d9ff801d",
   "metadata": {},
   "outputs": [
    {
     "name": "stdout",
     "output_type": "stream",
     "text": [
      "('my', 'name', 'is')\n"
     ]
    }
   ],
   "source": [
    "my_print('my', 'name', 'is')"
   ]
  },
  {
   "cell_type": "code",
   "execution_count": 138,
   "id": "e3b11ecc-e008-45d5-bb2c-ad68a4cac2cf",
   "metadata": {},
   "outputs": [
    {
     "data": {
      "text/plain": [
       "8"
      ]
     },
     "execution_count": 138,
     "metadata": {},
     "output_type": "execute_result"
    }
   ],
   "source": [
    "max(1, 2, 5, 2, 5, 7, 8)"
   ]
  },
  {
   "cell_type": "code",
   "execution_count": 187,
   "id": "874447fa-878c-4c50-a15a-efe97dadc07f",
   "metadata": {},
   "outputs": [],
   "source": [
    "def my_max(*nums):\n",
    "    # nums = (,,,)\n",
    "    # max_num = 0\n",
    "    max_num = nums[0]\n",
    "\n",
    "    for n in nums:\n",
    "        if max_num < n:\n",
    "            max_num = n\n",
    "    return max_num"
   ]
  },
  {
   "cell_type": "code",
   "execution_count": 188,
   "id": "fa4760b7-a204-4070-ae61-955ac8f96711",
   "metadata": {},
   "outputs": [
    {
     "data": {
      "text/plain": [
       "654"
      ]
     },
     "execution_count": 188,
     "metadata": {},
     "output_type": "execute_result"
    }
   ],
   "source": [
    "my_max(5, 654, 4, 9)"
   ]
  },
  {
   "cell_type": "code",
   "execution_count": 189,
   "id": "d8c14f34-b224-46b3-8976-9d4e0b177b75",
   "metadata": {},
   "outputs": [
    {
     "data": {
      "text/plain": [
       "-4"
      ]
     },
     "execution_count": 189,
     "metadata": {},
     "output_type": "execute_result"
    }
   ],
   "source": [
    "my_max(-5, -654, -4, -9)"
   ]
  },
  {
   "cell_type": "markdown",
   "id": "a179dbf8-fbb4-4d69-bd67-65180ed575d5",
   "metadata": {},
   "source": [
    "## 정의되지 않은 키워드 인자 처리하기"
   ]
  },
  {
   "cell_type": "code",
   "execution_count": 2,
   "id": "03cb0507-cb3d-48a3-99c0-a36c43ab4ed3",
   "metadata": {},
   "outputs": [],
   "source": [
    "def func_name(**kwawrgs):\n",
    "    return value"
   ]
  },
  {
   "cell_type": "code",
   "execution_count": 3,
   "id": "8bb9bc7a-5c71-4284-9320-978843f0352c",
   "metadata": {},
   "outputs": [
    {
     "name": "stdout",
     "output_type": "stream",
     "text": [
      "{'name': 'hong', 'age': 10}\n"
     ]
    }
   ],
   "source": [
    "info = {\n",
    "    'name': 'hong',\n",
    "    'age': 10,\n",
    "}\n",
    "print(info)"
   ]
  },
  {
   "cell_type": "code",
   "execution_count": 6,
   "id": "0adb646d-c76a-4001-82d2-0cf5ae8bda17",
   "metadata": {},
   "outputs": [
    {
     "name": "stdout",
     "output_type": "stream",
     "text": [
      "{'name': 'hong', 'age': 10}\n"
     ]
    }
   ],
   "source": [
    "# 함수를 사용해서 딕셔너리 만드는 방법\n",
    "# dict() 함수 호출\n",
    "\n",
    "dict(name='kim', age=20)\n",
    "print(info)"
   ]
  },
  {
   "cell_type": "code",
   "execution_count": 8,
   "id": "c85d379e-868b-44ff-83dc-cbbaf018a960",
   "metadata": {},
   "outputs": [
    {
     "name": "stdout",
     "output_type": "stream",
     "text": [
      "{'asdf': '가나다', 'age': 123, 'test': 'asdf'}\n"
     ]
    }
   ],
   "source": [
    "#어떤 게 몇 개가 들어오든 딕셔너리로 만듦\n",
    "def my_dict(**kwargs):\n",
    "    print(kwargs)\n",
    "\n",
    "my_dict(asdf='가나다', age=123, test='asdf')"
   ]
  },
  {
   "cell_type": "code",
   "execution_count": 11,
   "id": "bf67cd40-05b0-462f-8f3b-e81c0d028d1b",
   "metadata": {},
   "outputs": [],
   "source": [
    "def my_func(params1, params2='temp', *numbers, **kwargs):\n",
    "    return 0"
   ]
  },
  {
   "cell_type": "code",
   "execution_count": 14,
   "id": "3ff3397f-9f21-4384-aa1d-6e451c365a32",
   "metadata": {},
   "outputs": [
    {
     "data": {
      "text/plain": [
       "0"
      ]
     },
     "execution_count": 14,
     "metadata": {},
     "output_type": "execute_result"
    }
   ],
   "source": [
    "# my_func() -> params1 부족하므로 오류남\n",
    "my_func(123) #결과: 0으로 실행됨 -> params1 = 123, params2 = 'temp'\n",
    "my_func(123, 234) # params1 = 123, params2 = 234\n",
    "my_funt(123, 234, 345, 456, 567, 678, 789)\n",
    "# params1 = 123, params2 = 234, numbers = (345, 456, 567, 678,789)\n",
    "\n",
    "my_funt(123, 234, 345, 456, 567, 678, 789, a=1, b=2, c=3)\n",
    "#숫자는 위와 동일, kwargs = {a: 1, b: 2, c: 3}"
   ]
  },
  {
   "cell_type": "markdown",
   "id": "9768406b-fefe-4824-b9a4-e9a6b042d220",
   "metadata": {},
   "source": [
    "### lamda 표현식\n",
    "- 함수를 만드는 또 다른 표현"
   ]
  },
  {
   "cell_type": "markdown",
   "id": "9fdf3a98-fd65-41b8-b474-d28f85b1a9f6",
   "metadata": {},
   "source": [
    "lambda parameter: expression"
   ]
  },
  {
   "cell_type": "code",
   "execution_count": 18,
   "id": "7bba10e4-38c6-4eef-82a2-3c77943943c7",
   "metadata": {},
   "outputs": [],
   "source": [
    "def my_sum(num1, num2):\n",
    "    return num1 + num2"
   ]
  },
  {
   "cell_type": "code",
   "execution_count": 19,
   "id": "36e224ea-0049-4914-8231-ef11eff489eb",
   "metadata": {},
   "outputs": [
    {
     "data": {
      "text/plain": [
       "3"
      ]
     },
     "execution_count": 19,
     "metadata": {},
     "output_type": "execute_result"
    }
   ],
   "source": [
    "my_sum(1, 2)"
   ]
  },
  {
   "cell_type": "code",
   "execution_count": 20,
   "id": "5243615f-6a7a-4303-8da1-66078d795470",
   "metadata": {},
   "outputs": [],
   "source": [
    "# 함수는 재사용하기 편하도록 만드는 것"
   ]
  },
  {
   "cell_type": "code",
   "execution_count": 22,
   "id": "c8916378-5bf2-4625-a061-a215edcbd1ed",
   "metadata": {},
   "outputs": [
    {
     "data": {
      "text/plain": [
       "<function __main__.<lambda>(num1, num2)>"
      ]
     },
     "execution_count": 22,
     "metadata": {},
     "output_type": "execute_result"
    }
   ],
   "source": [
    "lambda num1, num2: num1 + num2"
   ]
  },
  {
   "cell_type": "code",
   "execution_count": 23,
   "id": "fd6ffbc3-1cbb-4322-92e7-bb2b25778215",
   "metadata": {},
   "outputs": [
    {
     "data": {
      "text/plain": [
       "3"
      ]
     },
     "execution_count": 23,
     "metadata": {},
     "output_type": "execute_result"
    }
   ],
   "source": [
    "(lambda num1, num2: num1 + num2)(1, 2)"
   ]
  },
  {
   "cell_type": "markdown",
   "id": "0be77e9e-40d8-4052-a30c-b3cf841be4ec",
   "metadata": {},
   "source": [
    "### 타입힌트"
   ]
  },
  {
   "cell_type": "markdown",
   "id": "6f31d33d-3d4a-41e2-a7fb-52d247b00854",
   "metadata": {},
   "source": [
    "- 정적 타입: 변수의 타입을 정해줌 -> 개발 속도는 느리지만 안정성이 높음\n",
    "- 반대로 파이썬은 개발 속도는 빠르지만 안정성이 비교적 낮음\n"
   ]
  },
  {
   "cell_type": "code",
   "execution_count": 24,
   "id": "2a4edb4b-2ad3-4334-9d82-d95ed4466b12",
   "metadata": {},
   "outputs": [
    {
     "data": {
      "text/plain": [
       "3"
      ]
     },
     "execution_count": 24,
     "metadata": {},
     "output_type": "execute_result"
    }
   ],
   "source": [
    "def my_sum(a: int, b: int) -> : int;\n",
    "    return a + b\n",
    "\n",
    "my_sum(1, 2)"
   ]
  },
  {
   "cell_type": "markdown",
   "id": "cf3c35a8-7747-4f56-b37d-73e654b96a55",
   "metadata": {},
   "source": [
    "## **이름공간(namespace), 스코프(scope)**\n",
    "\n",
    "- python에서 사용하는 이름들은 이름공간에 저장되어 있음\n",
    "- LEFB 룰에 따라 접근\n",
    "1. Local : 정의된 함수 내부\n",
    "2. Enclosed : 상위 함수\n",
    "3. Global : 함수 밖\n",
    "4. Built-in : python이 기본적으로 가지고 있는 함수"
   ]
  },
  {
   "cell_type": "code",
   "execution_count": 27,
   "id": "1ceb2109-cc5b-41e6-855f-e2e79cff4877",
   "metadata": {},
   "outputs": [
    {
     "name": "stdout",
     "output_type": "stream",
     "text": [
      "123\n"
     ]
    }
   ],
   "source": [
    "result = str(123)\n",
    "print(result)"
   ]
  },
  {
   "cell_type": "code",
   "execution_count": 28,
   "id": "21828f88-59f2-468c-8e8c-88881465679f",
   "metadata": {},
   "outputs": [],
   "source": [
    "str = 'hello'"
   ]
  },
  {
   "cell_type": "code",
   "execution_count": 29,
   "id": "644614c4-fb4a-4c99-b042-ba9d27b2e14b",
   "metadata": {},
   "outputs": [
    {
     "ename": "TypeError",
     "evalue": "'str' object is not callable",
     "output_type": "error",
     "traceback": [
      "\u001b[1;31m---------------------------------------------------------------------------\u001b[0m",
      "\u001b[1;31mTypeError\u001b[0m                                 Traceback (most recent call last)",
      "Cell \u001b[1;32mIn[29], line 1\u001b[0m\n\u001b[1;32m----> 1\u001b[0m result \u001b[38;5;241m=\u001b[39m \u001b[38;5;28;43mstr\u001b[39;49m\u001b[43m(\u001b[49m\u001b[38;5;241;43m123\u001b[39;49m\u001b[43m)\u001b[49m\n",
      "\u001b[1;31mTypeError\u001b[0m: 'str' object is not callable"
     ]
    }
   ],
   "source": [
    "result = str(123)\n",
    "print(result)"
   ]
  },
  {
   "cell_type": "code",
   "execution_count": 34,
   "id": "3358d54a-2f6b-4d40-8cea-0a9aac3e1e09",
   "metadata": {},
   "outputs": [
    {
     "data": {
      "text/plain": [
       "'asdf'"
      ]
     },
     "execution_count": 34,
     "metadata": {},
     "output_type": "execute_result"
    }
   ],
   "source": [
    "a = 1\n",
    "\n",
    "def local_scope(a):\n",
    "    return a\n",
    "\n",
    "a = '가나다라'\n",
    "\n",
    "local_scope('asdf')"
   ]
  },
  {
   "cell_type": "code",
   "execution_count": 39,
   "id": "86c38294-51f8-445c-9d14-d3e020b300aa",
   "metadata": {},
   "outputs": [
    {
     "name": "stdout",
     "output_type": "stream",
     "text": [
      "1\n",
      "2\n",
      "3\n",
      "4\n",
      "5\n",
      "5\n"
     ]
    }
   ],
   "source": [
    "my_list = [1, 2, 3, 4, 5]\n",
    "for i in my_list:\n",
    "    print(i)\n",
    "print(i)"
   ]
  },
  {
   "cell_type": "code",
   "execution_count": 42,
   "id": "2c452e01-c1de-49d7-aa5d-b8cb0b4210e0",
   "metadata": {},
   "outputs": [
    {
     "data": {
      "text/plain": [
       "1"
      ]
     },
     "execution_count": 42,
     "metadata": {},
     "output_type": "execute_result"
    }
   ],
   "source": [
    "a = 0\n",
    "\n",
    "def global_scope():\n",
    "    global a\n",
    "    a = a + 1\n",
    "    return a\n",
    "\n",
    "global_scope()"
   ]
  },
  {
   "cell_type": "markdown",
   "id": "8ac3967f-52c6-4a84-a7b4-7aafaa85bcf6",
   "metadata": {},
   "source": [
    "### 재귀\n",
    "- 함수 내부에서 자기 자신을 호출하는 함수"
   ]
  },
  {
   "cell_type": "markdown",
   "id": "4c343eb6-9d0c-4e58-962c-9b7ecea644f3",
   "metadata": {},
   "source": [
    "n! = 1 * 2 * 3 * ... * n\n",
    "- 팩토리얼: 1-n까지의 곱\n",
    "\n",
    "1! = 1\n",
    "2! = 1 * 2 = 1! * 2\n",
    "3! = 1 * 2 * 3 = 2! * 3\n",
    "n! = (n-1)! * n"
   ]
  },
  {
   "cell_type": "code",
   "execution_count": 45,
   "id": "20e80a93-d401-40e8-b740-f5221810a8a1",
   "metadata": {},
   "outputs": [],
   "source": [
    "def fact(n):\n",
    "    if n == 1:\n",
    "        return 1\n",
    "    else:\n",
    "        return fact(n-1) * n"
   ]
  },
  {
   "cell_type": "code",
   "execution_count": 46,
   "id": "6a999d22-91f4-4adb-93c2-253bb7c46c4b",
   "metadata": {},
   "outputs": [
    {
     "data": {
      "text/plain": [
       "3628800"
      ]
     },
     "execution_count": 46,
     "metadata": {},
     "output_type": "execute_result"
    }
   ],
   "source": [
    "fact(10)"
   ]
  },
  {
   "cell_type": "code",
   "execution_count": 47,
   "id": "1a56ab90-e923-4654-8e18-5a92de49ae92",
   "metadata": {},
   "outputs": [],
   "source": [
    "# 피보나치 수열\n",
    "\n",
    "def fib(n):\n",
    "    if n == 0 or n == 1:\n",
    "        return 1\n",
    "    else:\n",
    "        return fib(n-2) + fib(n-1)"
   ]
  },
  {
   "cell_type": "code",
   "execution_count": 48,
   "id": "9796493e-1956-44c4-b2a4-f76423943f5b",
   "metadata": {},
   "outputs": [
    {
     "data": {
      "text/plain": [
       "8"
      ]
     },
     "execution_count": 48,
     "metadata": {},
     "output_type": "execute_result"
    }
   ],
   "source": [
    "fib(5)"
   ]
  },
  {
   "cell_type": "code",
   "execution_count": null,
   "id": "d6c5d2a7-fc31-4e06-8d9e-86e0d04405b2",
   "metadata": {},
   "outputs": [],
   "source": []
  }
 ],
 "metadata": {
  "kernelspec": {
   "display_name": "Python 3 (ipykernel)",
   "language": "python",
   "name": "python3"
  },
  "language_info": {
   "codemirror_mode": {
    "name": "ipython",
    "version": 3
   },
   "file_extension": ".py",
   "mimetype": "text/x-python",
   "name": "python",
   "nbconvert_exporter": "python",
   "pygments_lexer": "ipython3",
   "version": "3.13.2"
  }
 },
 "nbformat": 4,
 "nbformat_minor": 5
}
