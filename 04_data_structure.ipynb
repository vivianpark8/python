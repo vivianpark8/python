{
 "cells": [
  {
   "cell_type": "markdown",
   "id": "ce2aa37e-332a-49e8-86b6-1104f873dd30",
   "metadata": {},
   "source": [
    "## 자료 구조\n",
    "- 여러가지 자료 구조가 가지고 있는 메소드(함수) 알아보기"
   ]
  },
  {
   "cell_type": "code",
   "execution_count": 2,
   "id": "4faf1332-02e0-4f71-88d2-974bcdace445",
   "metadata": {},
   "outputs": [
    {
     "name": "stdout",
     "output_type": "stream",
     "text": [
      "['__add__', '__class__', '__contains__', '__delattr__', '__dir__', '__doc__', '__eq__', '__format__', '__ge__', '__getattribute__', '__getitem__', '__getnewargs__', '__getstate__', '__gt__', '__hash__', '__init__', '__init_subclass__', '__iter__', '__le__', '__len__', '__lt__', '__mod__', '__mul__', '__ne__', '__new__', '__reduce__', '__reduce_ex__', '__repr__', '__rmod__', '__rmul__', '__setattr__', '__sizeof__', '__str__', '__subclasshook__', 'capitalize', 'casefold', 'center', 'count', 'encode', 'endswith', 'expandtabs', 'find', 'format', 'format_map', 'index', 'isalnum', 'isalpha', 'isascii', 'isdecimal', 'isdigit', 'isidentifier', 'islower', 'isnumeric', 'isprintable', 'isspace', 'istitle', 'isupper', 'join', 'ljust', 'lower', 'lstrip', 'maketrans', 'partition', 'removeprefix', 'removesuffix', 'replace', 'rfind', 'rindex', 'rjust', 'rpartition', 'rsplit', 'rstrip', 'split', 'splitlines', 'startswith', 'strip', 'swapcase', 'title', 'translate', 'upper', 'zfill']\n"
     ]
    }
   ],
   "source": [
    "print(dir('hello'))"
   ]
  },
  {
   "cell_type": "markdown",
   "id": "3f4763bc-a646-45f7-abd3-c5db5a0690f5",
   "metadata": {},
   "source": [
    "## 문자열 메소드"
   ]
  },
  {
   "cell_type": "code",
   "execution_count": 3,
   "id": "d5cea332-862d-40cb-80b8-4361f354d8de",
   "metadata": {},
   "outputs": [],
   "source": [
    "a = 'hello my name is subin'"
   ]
  },
  {
   "cell_type": "code",
   "execution_count": 7,
   "id": "8dd7c7da-944e-4d9b-bbda-ac5aa274ba80",
   "metadata": {},
   "outputs": [
    {
     "name": "stdout",
     "output_type": "stream",
     "text": [
      "hello my name is subin\n"
     ]
    }
   ],
   "source": [
    "print(a)"
   ]
  },
  {
   "cell_type": "code",
   "execution_count": 8,
   "id": "5b1cd07b-0aea-4ebb-bf0d-6d577cf3c59f",
   "metadata": {},
   "outputs": [
    {
     "data": {
      "text/plain": [
       "'HELLO MY NAME IS SUBIN'"
      ]
     },
     "execution_count": 8,
     "metadata": {},
     "output_type": "execute_result"
    }
   ],
   "source": [
    "a.capitalize() # 첫 번째 글자를 대문자로\n",
    "# return이 출력되는 것임 데이터 자체가 수정되는 것은 아님\n",
    "# -> print(a) 원본 데이터는 그대로임\n",
    "# 데이터 수정을 하고 싶다면 변수에 넣어줘야 함\n",
    "# a = a.capitalize()\n",
    "\n",
    "a.title() # 각각의 단어 시작점을 대문자로\n",
    "\n",
    "a.lower() # 전부 다 소문자로 바꿀 때\n",
    "\n",
    "a.upper() # 전부 다 대문자로 바꿀 때"
   ]
  },
  {
   "cell_type": "code",
   "execution_count": 9,
   "id": "55d15beb-9736-4ef0-b9c8-b15c57629fd0",
   "metadata": {},
   "outputs": [
    {
     "data": {
      "text/plain": [
       "'my!name!is'"
      ]
     },
     "execution_count": 9,
     "metadata": {},
     "output_type": "execute_result"
    }
   ],
   "source": [
    "my_list = ['my', 'name', 'is']\n",
    "'!'.join(my_list)"
   ]
  },
  {
   "cell_type": "code",
   "execution_count": 10,
   "id": "16496ee3-286c-4c39-baae-42994dd3e6c8",
   "metadata": {},
   "outputs": [
    {
     "data": {
      "text/plain": [
       "'배?고?프?다'"
      ]
     },
     "execution_count": 10,
     "metadata": {},
     "output_type": "execute_result"
    }
   ],
   "source": [
    "'?'.join('배고프다')"
   ]
  },
  {
   "cell_type": "code",
   "execution_count": 11,
   "id": "b9192f70-a9f2-4a55-9c87-eed3bf750440",
   "metadata": {},
   "outputs": [
    {
     "name": "stdout",
     "output_type": "stream",
     "text": [
      "         hello     \n",
      "\n"
     ]
    }
   ],
   "source": [
    "a = '         hello     \\n'\n",
    "print(a)"
   ]
  },
  {
   "cell_type": "code",
   "execution_count": 12,
   "id": "2dcb1c21-5c1a-4a07-ab63-8ba7a8da73e9",
   "metadata": {},
   "outputs": [
    {
     "data": {
      "text/plain": [
       "'hello'"
      ]
     },
     "execution_count": 12,
     "metadata": {},
     "output_type": "execute_result"
    }
   ],
   "source": [
    "a.strip()"
   ]
  },
  {
   "cell_type": "code",
   "execution_count": 13,
   "id": "d524aa20-dfe3-474f-b1c3-6a55f85cc6b6",
   "metadata": {},
   "outputs": [],
   "source": [
    "a = '!!!!!!!!hello?????????'"
   ]
  },
  {
   "cell_type": "code",
   "execution_count": 18,
   "id": "fecf0640-71e6-45ba-a0c5-8c0bd25278d4",
   "metadata": {},
   "outputs": [
    {
     "data": {
      "text/plain": [
       "'hello?????????'"
      ]
     },
     "execution_count": 18,
     "metadata": {},
     "output_type": "execute_result"
    }
   ],
   "source": [
    "a.strip('!')"
   ]
  },
  {
   "cell_type": "code",
   "execution_count": 19,
   "id": "3205e1c4-23b6-4a22-a93e-7ca120aeee64",
   "metadata": {},
   "outputs": [
    {
     "data": {
      "text/plain": [
       "'!!!!!!!!hello'"
      ]
     },
     "execution_count": 19,
     "metadata": {},
     "output_type": "execute_result"
    }
   ],
   "source": [
    "a.strip('?')"
   ]
  },
  {
   "cell_type": "code",
   "execution_count": 20,
   "id": "da33bb2b-15a8-4ff3-81e9-cc2ff1ebae26",
   "metadata": {},
   "outputs": [],
   "source": [
    "# def strip(char= ' ')"
   ]
  },
  {
   "cell_type": "code",
   "execution_count": 21,
   "id": "b83bb86d-92e0-46ee-9f98-833787293e48",
   "metadata": {},
   "outputs": [
    {
     "data": {
      "text/plain": [
       "'-----------hello'"
      ]
     },
     "execution_count": 21,
     "metadata": {},
     "output_type": "execute_result"
    }
   ],
   "source": [
    "a = '-----------hello---------------'\n",
    "a.lstrip('-') # 왼쪽만 지우기\n",
    "a.rstrip('-') # 오른쪽만 지우기"
   ]
  },
  {
   "cell_type": "code",
   "execution_count": 24,
   "id": "518e52b2-1426-4459-aa6d-53886b422848",
   "metadata": {},
   "outputs": [
    {
     "data": {
      "text/plain": [
       "'aoooooooooooooooooooa'"
      ]
     },
     "execution_count": 24,
     "metadata": {},
     "output_type": "execute_result"
    }
   ],
   "source": [
    "a = 'wooooooooooooooooooow'\n",
    "a.replace('w', 'a')"
   ]
  },
  {
   "cell_type": "code",
   "execution_count": null,
   "id": "c0761a35-7579-4f7e-9d3d-7f4f8c02e1bb",
   "metadata": {},
   "outputs": [],
   "source": [
    "a.replace('o', '!', 3)"
   ]
  },
  {
   "cell_type": "code",
   "execution_count": 26,
   "id": "3a144fb6-470c-443d-a630-ac00b032ea7a",
   "metadata": {},
   "outputs": [
    {
     "data": {
      "text/plain": [
       "0"
      ]
     },
     "execution_count": 26,
     "metadata": {},
     "output_type": "execute_result"
    }
   ],
   "source": [
    "a = 'apple'\n",
    "a.find('a')"
   ]
  },
  {
   "cell_type": "code",
   "execution_count": 27,
   "id": "abd3060e-668c-4ea8-a264-64493a67cb6e",
   "metadata": {},
   "outputs": [
    {
     "data": {
      "text/plain": [
       "-1"
      ]
     },
     "execution_count": 27,
     "metadata": {},
     "output_type": "execute_result"
    }
   ],
   "source": [
    "a.find('a') # 결과: 0\n",
    "a.find('l') # 결과: 3\n",
    "a.find('p') # 결과: 1\n",
    "a.find('z') # 결과: -1"
   ]
  },
  {
   "cell_type": "code",
   "execution_count": 28,
   "id": "8a882d92-7dc8-48ed-81c6-66f6104fb6d1",
   "metadata": {},
   "outputs": [
    {
     "data": {
      "text/plain": [
       "1"
      ]
     },
     "execution_count": 28,
     "metadata": {},
     "output_type": "execute_result"
    }
   ],
   "source": [
    "a = 'apple'\n",
    "a.index('a')\n",
    "a.index('l')\n",
    "a.index('p')"
   ]
  },
  {
   "cell_type": "code",
   "execution_count": 29,
   "id": "8d1b9208-a5b8-490b-a055-33653be90ca6",
   "metadata": {},
   "outputs": [
    {
     "ename": "ValueError",
     "evalue": "substring not found",
     "output_type": "error",
     "traceback": [
      "\u001b[1;31m---------------------------------------------------------------------------\u001b[0m",
      "\u001b[1;31mValueError\u001b[0m                                Traceback (most recent call last)",
      "Cell \u001b[1;32mIn[29], line 1\u001b[0m\n\u001b[1;32m----> 1\u001b[0m \u001b[43ma\u001b[49m\u001b[38;5;241;43m.\u001b[39;49m\u001b[43mindex\u001b[49m\u001b[43m(\u001b[49m\u001b[38;5;124;43m'\u001b[39;49m\u001b[38;5;124;43mz\u001b[39;49m\u001b[38;5;124;43m'\u001b[39;49m\u001b[43m)\u001b[49m\n",
      "\u001b[1;31mValueError\u001b[0m: substring not found"
     ]
    }
   ],
   "source": [
    "a.index('z')"
   ]
  },
  {
   "cell_type": "code",
   "execution_count": 30,
   "id": "90fad033-b720-4dc8-838d-a7705ea22c6a",
   "metadata": {},
   "outputs": [
    {
     "data": {
      "text/plain": [
       "['my', 'name', 'is', 'subin']"
      ]
     },
     "execution_count": 30,
     "metadata": {},
     "output_type": "execute_result"
    }
   ],
   "source": [
    "a = 'my name is subin'\n",
    "a.split() # 단어 띄어쓰기 기준으로 데이터 자름 -> 리스트로 반환"
   ]
  },
  {
   "cell_type": "code",
   "execution_count": 31,
   "id": "e80c1a58-1208-4eef-92fa-51541f97312a",
   "metadata": {},
   "outputs": [
    {
     "data": {
      "text/plain": [
       "12"
      ]
     },
     "execution_count": 31,
     "metadata": {},
     "output_type": "execute_result"
    }
   ],
   "source": [
    "a = 'woooooooooooow'\n",
    "a.count('o')"
   ]
  },
  {
   "cell_type": "markdown",
   "id": "b5f0ecf4-0ca7-459a-a35d-1e14bd52452b",
   "metadata": {},
   "source": [
    "## 리스트 메소드"
   ]
  },
  {
   "cell_type": "code",
   "execution_count": 34,
   "id": "be614652-21aa-40c4-9848-a4641a3bf3c5",
   "metadata": {},
   "outputs": [],
   "source": [
    "numbers = [2, 65, 4, 8, 51, 5, 8, 9, 5]"
   ]
  },
  {
   "cell_type": "code",
   "execution_count": 36,
   "id": "cbe33a0b-4c36-4565-bb09-0ec5e2263b10",
   "metadata": {},
   "outputs": [],
   "source": [
    "numbers.append(10)"
   ]
  },
  {
   "cell_type": "code",
   "execution_count": 37,
   "id": "ee99d301-5dfc-4102-98c1-bf56c30c2c50",
   "metadata": {},
   "outputs": [
    {
     "name": "stdout",
     "output_type": "stream",
     "text": [
      "[2, 65, 4, 8, 51, 5, 8, 9, 5, 10, 10]\n"
     ]
    }
   ],
   "source": [
    "print(numbers)"
   ]
  },
  {
   "cell_type": "code",
   "execution_count": 38,
   "id": "afcd2950-ed0c-4db8-9749-5b2b41118ec4",
   "metadata": {},
   "outputs": [],
   "source": [
    "a = [99, 100]"
   ]
  },
  {
   "cell_type": "code",
   "execution_count": 39,
   "id": "1afc511c-df0c-4884-bf90-2a0568c6a811",
   "metadata": {},
   "outputs": [],
   "source": [
    "numbers.extend(a)"
   ]
  },
  {
   "cell_type": "code",
   "execution_count": 40,
   "id": "aeb5643b-3c20-43cc-a4ca-5746c8a533da",
   "metadata": {},
   "outputs": [
    {
     "name": "stdout",
     "output_type": "stream",
     "text": [
      "[2, 65, 4, 8, 51, 5, 8, 9, 5, 10, 10, 99, 100]\n"
     ]
    }
   ],
   "source": [
    "print(numbers)"
   ]
  },
  {
   "cell_type": "code",
   "execution_count": 41,
   "id": "c4638df0-fa23-41c2-90b9-e034ef4b056f",
   "metadata": {},
   "outputs": [
    {
     "ename": "TypeError",
     "evalue": "insert expected 2 arguments, got 0",
     "output_type": "error",
     "traceback": [
      "\u001b[1;31m---------------------------------------------------------------------------\u001b[0m",
      "\u001b[1;31mTypeError\u001b[0m                                 Traceback (most recent call last)",
      "Cell \u001b[1;32mIn[41], line 1\u001b[0m\n\u001b[1;32m----> 1\u001b[0m \u001b[43mnumbers\u001b[49m\u001b[38;5;241;43m.\u001b[39;49m\u001b[43minsert\u001b[49m\u001b[43m(\u001b[49m\u001b[43m)\u001b[49m\n\u001b[0;32m      2\u001b[0m \u001b[38;5;28mprint\u001b[39m(numbers)\n",
      "\u001b[1;31mTypeError\u001b[0m: insert expected 2 arguments, got 0"
     ]
    }
   ],
   "source": [
    "numbers.insert()\n",
    "print(numbers)"
   ]
  },
  {
   "cell_type": "code",
   "execution_count": 46,
   "id": "d9a721ed-06f8-44fc-b5f9-7ad552661f9d",
   "metadata": {},
   "outputs": [
    {
     "ename": "ValueError",
     "evalue": "list.remove(x): x not in list",
     "output_type": "error",
     "traceback": [
      "\u001b[1;31m---------------------------------------------------------------------------\u001b[0m",
      "\u001b[1;31mValueError\u001b[0m                                Traceback (most recent call last)",
      "Cell \u001b[1;32mIn[46], line 1\u001b[0m\n\u001b[1;32m----> 1\u001b[0m \u001b[43mnumbers\u001b[49m\u001b[38;5;241;43m.\u001b[39;49m\u001b[43mremove\u001b[49m\u001b[43m(\u001b[49m\u001b[38;5;241;43m10\u001b[39;49m\u001b[43m)\u001b[49m\n",
      "\u001b[1;31mValueError\u001b[0m: list.remove(x): x not in list"
     ]
    }
   ],
   "source": [
    "numbers.remove(10)"
   ]
  },
  {
   "cell_type": "code",
   "execution_count": 47,
   "id": "c2c8540a-5a61-4159-b095-aef8924c5a43",
   "metadata": {},
   "outputs": [
    {
     "name": "stdout",
     "output_type": "stream",
     "text": [
      "[2, 65, 4, 8, 51, 5, 8, 9, 5, 99, 100]\n"
     ]
    }
   ],
   "source": [
    "print(numbers)"
   ]
  },
  {
   "cell_type": "code",
   "execution_count": 48,
   "id": "bd6ab5b4-ca8b-4929-99df-97e815c02561",
   "metadata": {},
   "outputs": [
    {
     "name": "stdout",
     "output_type": "stream",
     "text": [
      "[2, 65, 4, 8, 51, 5, 8, 9, 5, 99]\n"
     ]
    }
   ],
   "source": [
    "numbers.pop()\n",
    "print(numbers)\n",
    "# 가장 마지막 데이터를 삭제"
   ]
  },
  {
   "cell_type": "code",
   "execution_count": 49,
   "id": "aec03486-3617-4ebe-8c80-8d1aa5af0ced",
   "metadata": {},
   "outputs": [
    {
     "name": "stdout",
     "output_type": "stream",
     "text": [
      "[65, 4, 8, 51, 5, 8, 9, 5, 99]\n"
     ]
    }
   ],
   "source": [
    "numbers.pop(0)\n",
    "print(numbers)\n",
    "# 맨 앞의 숫자 2가 사라짐"
   ]
  },
  {
   "cell_type": "code",
   "execution_count": 50,
   "id": "cc47f218-9017-4d24-a54d-5ac57fc15e4a",
   "metadata": {},
   "outputs": [
    {
     "name": "stdout",
     "output_type": "stream",
     "text": [
      "[4, 5, 5, 8, 8, 9, 51, 65, 99]\n"
     ]
    }
   ],
   "source": [
    "numbers.sort()\n",
    "print(numbers)\n",
    "# 오름차순으로 정렬"
   ]
  },
  {
   "cell_type": "code",
   "execution_count": 52,
   "id": "77a80910-0cd3-43e1-bcea-808bd7803855",
   "metadata": {},
   "outputs": [],
   "source": [
    "numbers.sort(reverse=True)"
   ]
  },
  {
   "cell_type": "code",
   "execution_count": 53,
   "id": "62add487-3c40-4a81-acf4-14318c67a7ae",
   "metadata": {},
   "outputs": [
    {
     "name": "stdout",
     "output_type": "stream",
     "text": [
      "[99, 65, 51, 9, 8, 8, 5, 5, 4]\n"
     ]
    }
   ],
   "source": [
    "print(numbers)"
   ]
  },
  {
   "cell_type": "code",
   "execution_count": 55,
   "id": "b8a542de-d4a6-46d3-a477-b767a1e606cb",
   "metadata": {},
   "outputs": [
    {
     "data": {
      "text/plain": [
       "[4, 5, 5, 8, 8, 9, 51, 65, 99]"
      ]
     },
     "execution_count": 55,
     "metadata": {},
     "output_type": "execute_result"
    }
   ],
   "source": [
    "sorted(numbers)\n",
    "\n",
    "# python 자체의 함수"
   ]
  },
  {
   "cell_type": "code",
   "execution_count": 56,
   "id": "3256b9e1-ffa4-4e00-961e-96e4e5c644e3",
   "metadata": {},
   "outputs": [
    {
     "name": "stdout",
     "output_type": "stream",
     "text": [
      "['a', 'b', 'e', 'n', 'o']\n"
     ]
    }
   ],
   "source": [
    "my_list = ['a', 'e', 'o', 'n', 'b']\n",
    "my_list.sort()\n",
    "print(my_list)"
   ]
  },
  {
   "cell_type": "code",
   "execution_count": 57,
   "id": "252c58da-bf26-42ed-bacb-5cbb4a58389a",
   "metadata": {},
   "outputs": [
    {
     "name": "stdout",
     "output_type": "stream",
     "text": [
      "[99, 65, 51, 9, 8, 8, 5, 5, 4]\n"
     ]
    }
   ],
   "source": [
    "print(numbers)"
   ]
  },
  {
   "cell_type": "code",
   "execution_count": 58,
   "id": "f3f5212c-cb1d-4393-aa26-475f86344c1a",
   "metadata": {},
   "outputs": [],
   "source": [
    "numbers.reverse()"
   ]
  },
  {
   "cell_type": "code",
   "execution_count": 59,
   "id": "2a1669eb-0336-4ae4-9dd6-ac1f5a49fb46",
   "metadata": {},
   "outputs": [
    {
     "name": "stdout",
     "output_type": "stream",
     "text": [
      "[4, 5, 5, 8, 8, 9, 51, 65, 99]\n"
     ]
    }
   ],
   "source": [
    "print(numbers)"
   ]
  },
  {
   "cell_type": "code",
   "execution_count": 60,
   "id": "46ab6e3d-5af9-4dcd-9f08-f515e7984c0d",
   "metadata": {},
   "outputs": [
    {
     "data": {
      "text/plain": [
       "0"
      ]
     },
     "execution_count": 60,
     "metadata": {},
     "output_type": "execute_result"
    }
   ],
   "source": [
    "numbers.count(10)\n",
    "# 내부 개수"
   ]
  },
  {
   "cell_type": "markdown",
   "id": "1335c7a8-d853-4853-9cb9-85b5ff9030fa",
   "metadata": {},
   "source": [
    "## 리스트 카피"
   ]
  },
  {
   "cell_type": "code",
   "execution_count": 61,
   "id": "d8f58641-0cd9-4db0-80d7-9062eca49500",
   "metadata": {},
   "outputs": [
    {
     "name": "stdout",
     "output_type": "stream",
     "text": [
      "[1, 2, 3]\n",
      "[1, 2, 3]\n"
     ]
    }
   ],
   "source": [
    "origin_list = [1, 2, 3]\n",
    "copy_list = origin_list\n",
    "\n",
    "print(origin_list)\n",
    "print(copy_list)"
   ]
  },
  {
   "cell_type": "code",
   "execution_count": 62,
   "id": "f0921a2a-4b4a-4d03-acbf-02cd050704e2",
   "metadata": {},
   "outputs": [],
   "source": [
    "copy_list[0] = 100"
   ]
  },
  {
   "cell_type": "code",
   "execution_count": 63,
   "id": "7296d302-37f3-410b-a2f2-fc094ab129d0",
   "metadata": {},
   "outputs": [
    {
     "name": "stdout",
     "output_type": "stream",
     "text": [
      "[100, 2, 3]\n",
      "[100, 2, 3]\n"
     ]
    }
   ],
   "source": [
    "print(origin_list)\n",
    "print(copy_list)"
   ]
  },
  {
   "cell_type": "code",
   "execution_count": 65,
   "id": "f7c74cde-fde6-4066-9856-b85d1a4dba51",
   "metadata": {},
   "outputs": [],
   "source": [
    "origin_list = [1, 2, 3]\n",
    "copy_list = origin_list[:]"
   ]
  },
  {
   "cell_type": "code",
   "execution_count": 66,
   "id": "cce27995-ea8c-4a72-b4c5-1c3877d823e3",
   "metadata": {},
   "outputs": [
    {
     "name": "stdout",
     "output_type": "stream",
     "text": [
      "[1, 2, 3]\n",
      "[1, 2, 3]\n"
     ]
    }
   ],
   "source": [
    "print(origin_list)\n",
    "print(copy_list)"
   ]
  },
  {
   "cell_type": "code",
   "execution_count": 67,
   "id": "981efc7b-8505-4b9b-92b1-afe65d186a59",
   "metadata": {},
   "outputs": [
    {
     "name": "stdout",
     "output_type": "stream",
     "text": [
      "[1, 2, 3]\n",
      "[100, 2, 3]\n"
     ]
    }
   ],
   "source": [
    "copy_list[0] = 100\n",
    "\n",
    "print(origin_list)\n",
    "print(copy_list)"
   ]
  },
  {
   "cell_type": "code",
   "execution_count": 69,
   "id": "94356afc-d38a-4882-b429-20c4dd965ce9",
   "metadata": {},
   "outputs": [],
   "source": [
    "origin_list = [1, 2, [10, 11]]\n",
    "copy_list = origin_list[:]"
   ]
  },
  {
   "cell_type": "code",
   "execution_count": 71,
   "id": "1c5c7b0e-54b9-4ae1-ae1b-cc07108f36c4",
   "metadata": {},
   "outputs": [
    {
     "name": "stdout",
     "output_type": "stream",
     "text": [
      "[1, 2, [-10, 11]]\n",
      "[100, 2, [-10, 11]]\n"
     ]
    }
   ],
   "source": [
    "copy_list[0] = 100\n",
    "copy_list[2][0] = -10\n",
    "\n",
    "print(origin_list)\n",
    "print(copy_list)\n",
    "\n",
    "# 리스트 안의 리스트를 바꿀 땐 양쪽이 똑같이 바뀜..."
   ]
  },
  {
   "cell_type": "code",
   "execution_count": 72,
   "id": "bb6b9bd2-3e29-4620-926b-bda0593c1ff6",
   "metadata": {},
   "outputs": [],
   "source": [
    "import copy\n",
    "\n",
    "origin_list = [1, 2, [10, 11]]\n",
    "copy_list = copy.deepcopy(origin_list)"
   ]
  },
  {
   "cell_type": "code",
   "execution_count": 73,
   "id": "71fb6ff4-a33c-4db1-8f77-7f279d2c5e86",
   "metadata": {},
   "outputs": [
    {
     "data": {
      "text/plain": [
       "[1, 2, [10, 11]]"
      ]
     },
     "execution_count": 73,
     "metadata": {},
     "output_type": "execute_result"
    }
   ],
   "source": [
    "copy_list"
   ]
  },
  {
   "cell_type": "code",
   "execution_count": 74,
   "id": "370d6564-721a-4c65-8c21-9fc1335afb7d",
   "metadata": {},
   "outputs": [
    {
     "name": "stdout",
     "output_type": "stream",
     "text": [
      "[1, 2, [10, 11]]\n",
      "[100, 2, [-10, 11]]\n"
     ]
    }
   ],
   "source": [
    "copy_list[0] = 100\n",
    "copy_list[2][0] = -10\n",
    "\n",
    "print(origin_list)\n",
    "print(copy_list)"
   ]
  },
  {
   "cell_type": "markdown",
   "id": "84ca6b07-1094-412c-97d1-b367430fc212",
   "metadata": {},
   "source": [
    "### list comprehension"
   ]
  },
  {
   "cell_type": "code",
   "execution_count": 75,
   "id": "dd20f092-167f-452c-a1af-f4506a4288cf",
   "metadata": {},
   "outputs": [
    {
     "name": "stdout",
     "output_type": "stream",
     "text": [
      "[1, 2, 3, 4, 5, 6, 7, 8, 9, 10]\n"
     ]
    }
   ],
   "source": [
    "numbers = [1, 2, 3, 4, 5, 6, 7, 8, 9, 10]\n",
    "# 이렇게 쓰면 너무 복잡하고 단순 반복임\n",
    "\n",
    "numbers = list(range(1, 11))\n",
    "print(numbers)"
   ]
  },
  {
   "cell_type": "code",
   "execution_count": 80,
   "id": "2acbb799-3d5f-4031-a997-09206f272d7c",
   "metadata": {},
   "outputs": [
    {
     "name": "stdout",
     "output_type": "stream",
     "text": [
      "[1, 8, 27, 64, 125, 216, 343, 512, 729, 1000]\n"
     ]
    }
   ],
   "source": [
    "# 이 리스트 전부를 세제곱 하고 싶다면?\n",
    "\n",
    "result = []\n",
    "\n",
    "for number in numbers:\n",
    "    temp = number ** 3\n",
    "    result.append(temp)\n",
    "\n",
    "print(result)"
   ]
  },
  {
   "cell_type": "code",
   "execution_count": 81,
   "id": "3e8fddd6-7a9f-4194-8403-4d0e654c4722",
   "metadata": {},
   "outputs": [],
   "source": [
    "result = [number ** 3 for number in numbers]"
   ]
  },
  {
   "cell_type": "code",
   "execution_count": 82,
   "id": "1635320f-0784-4b7e-8a80-54b772be98cb",
   "metadata": {},
   "outputs": [
    {
     "name": "stdout",
     "output_type": "stream",
     "text": [
      "[1, 8, 27, 64, 125, 216, 343, 512, 729, 1000]\n"
     ]
    }
   ],
   "source": [
    "print(result)"
   ]
  },
  {
   "cell_type": "code",
   "execution_count": 85,
   "id": "ab97fc5b-64a0-4627-9561-32803fd548ff",
   "metadata": {},
   "outputs": [
    {
     "name": "stdout",
     "output_type": "stream",
     "text": [
      "[2, 4, 6, 8, 10, 12, 14, 16, 18, 20, 22, 24, 26, 28, 30]\n"
     ]
    }
   ],
   "source": [
    "# 짝수만 고르기\n",
    "\n",
    "numbers = list(range(1, 31))\n",
    "result = []\n",
    "\n",
    "for number in numbers:\n",
    "    if number % 2 == 0:\n",
    "        result.append(number)\n",
    "\n",
    "print(result)\n"
   ]
  },
  {
   "cell_type": "code",
   "execution_count": 87,
   "id": "bc85051e-4c89-4bff-a7d8-bc2bab88d1fe",
   "metadata": {},
   "outputs": [
    {
     "name": "stdout",
     "output_type": "stream",
     "text": [
      "[2, 4, 6, 8, 10, 12, 14, 16, 18, 20, 22, 24, 26, 28, 30]\n"
     ]
    }
   ],
   "source": [
    "# 짝수만 고르기\n",
    "\n",
    "numbers = list(range(1, 31))\n",
    "result = [number for number in numbers if number % 2 == 0]\n",
    "print(result)\n"
   ]
  },
  {
   "cell_type": "code",
   "execution_count": 106,
   "id": "9d3a221a-7693-41dc-a6d9-9e1464e32571",
   "metadata": {},
   "outputs": [],
   "source": [
    "# 연습문제 - 모음 제거\n",
    "\n",
    "words = 'my name is hong'\n",
    "\n",
    "result = [word for word in words if word not in 'aeiou']\n"
   ]
  },
  {
   "cell_type": "code",
   "execution_count": 113,
   "id": "c7e1382c-f7db-435c-aae9-227c56f3a459",
   "metadata": {},
   "outputs": [
    {
     "name": "stdout",
     "output_type": "stream",
     "text": [
      "['m', 'y', ' ', 'n', 'm', ' ', 's', ' ', 'h', 'n', 'g']\n",
      "my nm s hng\n"
     ]
    }
   ],
   "source": [
    "print(result)\n",
    "str = ''.join(result)\n",
    "print(str)"
   ]
  },
  {
   "cell_type": "code",
   "execution_count": 115,
   "id": "c1290565-a0c7-4085-bf1a-650c657665fa",
   "metadata": {},
   "outputs": [
    {
     "name": "stdout",
     "output_type": "stream",
     "text": [
      "['m', 'y', ' ', 'n', 'm', ' ', 's', ' ', 'h', 'n', 'g']\n",
      "my nm s hng\n"
     ]
    }
   ],
   "source": [
    "words = 'my name is hong'\n",
    "\n",
    "result = []\n",
    "\n",
    "for word in words:\n",
    "    vow = 'aeiou'\n",
    "    if word not in vow:\n",
    "        result.append(word)\n",
    "        \n",
    "print(result)\n",
    "\n",
    "str = ''.join(result)\n",
    "print(str)"
   ]
  },
  {
   "cell_type": "code",
   "execution_count": 119,
   "id": "7d6ec623-564a-4827-b950-ca27ed12398f",
   "metadata": {},
   "outputs": [
    {
     "name": "stdout",
     "output_type": "stream",
     "text": [
      "my nm s hng\n"
     ]
    }
   ],
   "source": [
    "# 방법 3 - 모음 제거하기\n",
    "\n",
    "words = 'my name is hong'\n",
    "vowels = 'aeiou'\n",
    "\n",
    "for word in vowels:\n",
    "    words = words.replace(word, '')\n",
    "\n",
    "print(words)\n",
    "        \n",
    "\n"
   ]
  },
  {
   "cell_type": "markdown",
   "id": "1d0dd6d2-f6d5-465f-a036-8c92bfdbc7ea",
   "metadata": {},
   "source": [
    "### dictionary 메소드"
   ]
  },
  {
   "cell_type": "code",
   "execution_count": 11,
   "id": "fb32f302-69f2-4f07-9c71-aba899078741",
   "metadata": {},
   "outputs": [],
   "source": [
    "info = {\n",
    "    'name': 'hong',\n",
    "    'location': 'seoul',\n",
    "    'age': 20,\n",
    "    'phone_book': {\n",
    "        'kim': '010-1234-1234',\n",
    "        'park': '010-4321-4321',\n",
    "    },\n",
    "    'models': ['iphone', 'ipad'],\n",
    "}"
   ]
  },
  {
   "cell_type": "code",
   "execution_count": 12,
   "id": "f7be8ded-6414-4508-bbff-d8cc2bad24b7",
   "metadata": {},
   "outputs": [
    {
     "name": "stdout",
     "output_type": "stream",
     "text": [
      "hong\n"
     ]
    }
   ],
   "source": [
    "print(info['name'])"
   ]
  },
  {
   "cell_type": "code",
   "execution_count": 13,
   "id": "bbaf5d99-55c0-44c3-8e55-7c4d114c631c",
   "metadata": {},
   "outputs": [
    {
     "name": "stdout",
     "output_type": "stream",
     "text": [
      "20\n"
     ]
    }
   ],
   "source": [
    "print(info['age'])"
   ]
  },
  {
   "cell_type": "code",
   "execution_count": 14,
   "id": "5411bba7-fe25-4d7c-9fda-fe6799847632",
   "metadata": {},
   "outputs": [
    {
     "name": "stdout",
     "output_type": "stream",
     "text": [
      "010-4321-4321\n"
     ]
    }
   ],
   "source": [
    "print(info['phone_book']['park'])"
   ]
  },
  {
   "cell_type": "code",
   "execution_count": 15,
   "id": "af738369-8f26-4311-b8c9-91bdae747d6c",
   "metadata": {},
   "outputs": [
    {
     "name": "stdout",
     "output_type": "stream",
     "text": [
      "ipad\n"
     ]
    }
   ],
   "source": [
    "print(info['models'][1])"
   ]
  },
  {
   "cell_type": "code",
   "execution_count": 16,
   "id": "64a06da4-b7b4-4367-a572-e65b5bff6b0a",
   "metadata": {},
   "outputs": [
    {
     "name": "stdout",
     "output_type": "stream",
     "text": [
      "{'name': 'lee', 'location': 'seoul', 'age': 20, 'phone_book': {'kim': '010-1234-1234', 'park': '010-4321-4321'}, 'models': ['iphone', 'ipad']}\n"
     ]
    }
   ],
   "source": [
    "# 값을 할당 및 변형할 때 - 기본\n",
    "info['name'] = 'lee'\n",
    "print(info)"
   ]
  },
  {
   "cell_type": "code",
   "execution_count": 17,
   "id": "e1d3a8a4-b4a9-4f0b-9058-7ac6bd8d7693",
   "metadata": {},
   "outputs": [
    {
     "name": "stdout",
     "output_type": "stream",
     "text": [
      "{'name': 'choi', 'location': 'seoul', 'age': 20, 'phone_book': {'kim': '010-1234-1234', 'park': '010-4321-4321'}, 'models': ['iphone', 'ipad']}\n"
     ]
    }
   ],
   "source": [
    "# 값을 할당 및 변형할 때 - 메소드\n",
    "info.update(name='choi')\n",
    "print(info)\n"
   ]
  },
  {
   "cell_type": "code",
   "execution_count": 19,
   "id": "4d0d11e3-2d23-4ddf-8c63-c16f27bb82c1",
   "metadata": {},
   "outputs": [
    {
     "name": "stdout",
     "output_type": "stream",
     "text": [
      "{'name': 'choi', 'age': 20, 'phone_book': {'kim': '010-1234-1234', 'park': '010-4321-4321'}, 'models': ['iphone', 'ipad']}\n"
     ]
    }
   ],
   "source": [
    "# 딕셔너리는 순서가 있는 시퀀스 형태가 아니므로 pop()으로 마지막 자료를 빼낼 수 없음\n",
    "# 내가 뽑고 싶은 key값을 정해주면 가능 -> pop('key')\n",
    "info.pop('location')\n",
    "print(info)"
   ]
  },
  {
   "cell_type": "code",
   "execution_count": 20,
   "id": "a58b2074-ca1c-4bf6-aa38-fb984c4acfa9",
   "metadata": {},
   "outputs": [
    {
     "data": {
      "text/plain": [
       "'choi'"
      ]
     },
     "execution_count": 20,
     "metadata": {},
     "output_type": "execute_result"
    }
   ],
   "source": [
    "print(info.get('name'))\n",
    "\n",
    "# 가져오다 -> 아래와 같음\n",
    "\n",
    "print(info['name'])\n",
    "\n",
    "# 없는 값을 요청할 땐 차이점이 존재함"
   ]
  },
  {
   "cell_type": "code",
   "execution_count": 21,
   "id": "d34a09d3-550c-41f5-a5f6-90443d2b1215",
   "metadata": {},
   "outputs": [
    {
     "name": "stdout",
     "output_type": "stream",
     "text": [
      "None\n"
     ]
    }
   ],
   "source": [
    "print(info.get('birth'))"
   ]
  },
  {
   "cell_type": "code",
   "execution_count": 22,
   "id": "68fda7f2-23b5-4782-8b1c-b9222dc4d86d",
   "metadata": {},
   "outputs": [
    {
     "ename": "KeyError",
     "evalue": "'birth'",
     "output_type": "error",
     "traceback": [
      "\u001b[1;31m---------------------------------------------------------------------------\u001b[0m",
      "\u001b[1;31mKeyError\u001b[0m                                  Traceback (most recent call last)",
      "Cell \u001b[1;32mIn[22], line 1\u001b[0m\n\u001b[1;32m----> 1\u001b[0m \u001b[38;5;28mprint\u001b[39m(\u001b[43minfo\u001b[49m\u001b[43m[\u001b[49m\u001b[38;5;124;43m'\u001b[39;49m\u001b[38;5;124;43mbirth\u001b[39;49m\u001b[38;5;124;43m'\u001b[39;49m\u001b[43m]\u001b[49m)\n",
      "\u001b[1;31mKeyError\u001b[0m: 'birth'"
     ]
    }
   ],
   "source": [
    "print(info['birth'])"
   ]
  },
  {
   "cell_type": "code",
   "execution_count": 25,
   "id": "cf8de985-9198-4446-b642-b4cdf3c83342",
   "metadata": {},
   "outputs": [],
   "source": [
    "# 연습문제\n",
    "blood_type = ['A', 'B', 'O', 'AB', 'A', 'A', 'B', 'O', 'O', 'AB']\n",
    "\n",
    "# 숫자 세기\n",
    "# {'A': 4, 'B': 2 ... 이런 식의 자료로 도출하기}"
   ]
  },
  {
   "cell_type": "code",
   "execution_count": 26,
   "id": "358d971b-8e3b-45c4-9771-d23c2f58ab55",
   "metadata": {},
   "outputs": [
    {
     "data": {
      "text/plain": [
       "3"
      ]
     },
     "execution_count": 26,
     "metadata": {},
     "output_type": "execute_result"
    }
   ],
   "source": [
    "blood_type.count('A')"
   ]
  },
  {
   "cell_type": "code",
   "execution_count": 33,
   "id": "a87939f5-0e57-43a5-804f-11ad3c2b0f66",
   "metadata": {},
   "outputs": [
    {
     "name": "stdout",
     "output_type": "stream",
     "text": [
      "{'A': 3, 'B': 2, 'AB': 2, 'O': 3}\n"
     ]
    }
   ],
   "source": [
    "# 풀이\n",
    "\n",
    "result = {\n",
    "    'A': 0,\n",
    "    'B': 0,\n",
    "    'AB': 0,\n",
    "    'O': 0,\n",
    "}\n",
    "\n",
    "for blood in blood_type:\n",
    "    result[blood] += 1\n",
    "\n",
    "print(result)"
   ]
  },
  {
   "cell_type": "code",
   "execution_count": 32,
   "id": "2a5983e4-5ee6-47a1-abdc-7ec4eb3a97c0",
   "metadata": {},
   "outputs": [
    {
     "name": "stdout",
     "output_type": "stream",
     "text": [
      "3\n",
      "2\n",
      "3\n",
      "2\n",
      "3\n",
      "3\n",
      "2\n",
      "3\n",
      "3\n",
      "2\n"
     ]
    }
   ],
   "source": [
    "# 실패\n",
    "\n",
    "for i in blood_type:\n",
    "    \n",
    "    answer = blood_type.count(i)\n",
    "        \n",
    "    print(answer)"
   ]
  },
  {
   "cell_type": "code",
   "execution_count": 35,
   "id": "dfc795fc-4c5b-4a64-b3f7-c3b4a140c192",
   "metadata": {},
   "outputs": [],
   "source": [
    "# 데이터가 정해지지 않은 상태에서 딕셔너리 만들기\n",
    "\n",
    "locations = ['서울', '서울', '대전', '부산', '대구', '부산', '울산', '인천', '제주도', 'LA', '파리']\n"
   ]
  },
  {
   "cell_type": "code",
   "execution_count": 36,
   "id": "51bdfe47-bf4e-4f91-bb59-9b8df3bbe831",
   "metadata": {},
   "outputs": [
    {
     "name": "stdout",
     "output_type": "stream",
     "text": [
      "{'서울': 2, '대전': 1, '부산': 2, '대구': 1, '울산': 1, '인천': 1, '제주도': 1, 'LA': 1, '파리': 1}\n"
     ]
    }
   ],
   "source": [
    "result = {}\n",
    "\n",
    "for location in locations:\n",
    "    \n",
    "    # key가 있는지 검사 후, 없으면 key 추가 생성, 있으면 숫자만 카운트\n",
    "    # if location이 result key 목록에 있으면?:\n",
    "        # 기존 데이터에 +1\n",
    "    # 목록에 없다면\n",
    "        # 새로운 키를 등록하고 기본값을 1로 지정\n",
    "\n",
    "    if location in result.keys(): # result가 가진 keys 목록을 반환\n",
    "        result[location] += 1\n",
    "\n",
    "    else:\n",
    "        result[location] = 1\n",
    "\n",
    "print(result)"
   ]
  },
  {
   "cell_type": "code",
   "execution_count": 37,
   "id": "e480b2a2-42a4-4196-8f56-c510fed69f97",
   "metadata": {},
   "outputs": [
    {
     "name": "stdout",
     "output_type": "stream",
     "text": [
      "{'서울': 2, '대전': 1, '부산': 2, '대구': 1, '울산': 1, '인천': 1, '제주도': 1, 'LA': 1, '파리': 1}\n"
     ]
    }
   ],
   "source": [
    "result = {}\n",
    "\n",
    "for location in locations:\n",
    "    \n",
    "    if result.get(location): # None = False\n",
    "        result[location] += 1\n",
    "\n",
    "    else:\n",
    "        result[location] = 1\n",
    "\n",
    "print(result)"
   ]
  },
  {
   "cell_type": "markdown",
   "id": "f9db7086-75c2-4f9d-acec-44e74b0beab1",
   "metadata": {},
   "source": [
    "### dict comprehension"
   ]
  },
  {
   "cell_type": "code",
   "execution_count": 42,
   "id": "5c44dda9-d5e9-4e41-9ab5-43b9fcaa41b0",
   "metadata": {},
   "outputs": [
    {
     "name": "stdout",
     "output_type": "stream",
     "text": [
      "{1: 1, 2: 8, 3: 27, 4: 64, 5: 125, 6: 216, 7: 343, 8: 512, 9: 729, 10: 1000}\n"
     ]
    }
   ],
   "source": [
    "# {1: 1, 2: 8, 3: 27, ..., 10: 1000} 세 제곱\n",
    "\n",
    "result = {}\n",
    "numbers = range(1, 11)\n",
    "\n",
    "for number in numbers:\n",
    "    result[number] = number**3\n",
    "    \n",
    "print(result)"
   ]
  },
  {
   "cell_type": "code",
   "execution_count": 44,
   "id": "052ad9e0-85df-4593-a41d-d46a9e227407",
   "metadata": {},
   "outputs": [
    {
     "name": "stdout",
     "output_type": "stream",
     "text": [
      "{1: 1, 2: 8, 3: 27, 4: 64, 5: 125, 6: 216, 7: 343, 8: 512, 9: 729, 10: 1000}\n"
     ]
    }
   ],
   "source": [
    "result = {number: number ** 3 for number in range(1, 11)}\n",
    "print(result)"
   ]
  },
  {
   "cell_type": "code",
   "execution_count": 45,
   "id": "ffc7377f-8241-4528-a156-3bba7704e0b4",
   "metadata": {},
   "outputs": [],
   "source": [
    "dust = {\n",
    "    '서울': 50,\n",
    "    '인천': 100,\n",
    "    '수원': 30,\n",
    "    '부산': 0,\n",
    "}"
   ]
  },
  {
   "cell_type": "code",
   "execution_count": 49,
   "id": "81c20ecb-eb09-45d5-a8ba-d629c7306722",
   "metadata": {},
   "outputs": [
    {
     "name": "stdout",
     "output_type": "stream",
     "text": [
      "{'수원': 30, '부산': 0}\n"
     ]
    }
   ],
   "source": [
    "# 지역 반복처리 해서 50보다 작은 지역들만 골라내기\n",
    "\n",
    "result = {}\n",
    "for key, value in dust.items():\n",
    "    if value <= 30:\n",
    "        result[key] = value\n",
    "print(result)"
   ]
  },
  {
   "cell_type": "code",
   "execution_count": 54,
   "id": "1f9593eb-2053-4273-a46f-4ad7ba947631",
   "metadata": {},
   "outputs": [],
   "source": [
    "result = {k: v for k, v in dust.items() if v <= 30}"
   ]
  },
  {
   "cell_type": "code",
   "execution_count": 55,
   "id": "bdddc0f3-f3e4-46cf-b3b7-3aab28d833c2",
   "metadata": {},
   "outputs": [
    {
     "name": "stdout",
     "output_type": "stream",
     "text": [
      "{'수원': 30, '부산': 0}\n"
     ]
    }
   ],
   "source": [
    "print(result)"
   ]
  },
  {
   "cell_type": "markdown",
   "id": "cde4d974-e551-4681-a443-6484f9c7dafd",
   "metadata": {},
   "source": [
    "### Set 메소드"
   ]
  },
  {
   "cell_type": "code",
   "execution_count": 56,
   "id": "e68ae1ce-df6e-471a-a699-faa6f793938d",
   "metadata": {},
   "outputs": [],
   "source": [
    "fruits = {'apple', 'banana', 'melon'}"
   ]
  },
  {
   "cell_type": "code",
   "execution_count": 57,
   "id": "835d74aa-dc37-4db7-b9a6-b3108cbf6c48",
   "metadata": {},
   "outputs": [
    {
     "name": "stdout",
     "output_type": "stream",
     "text": [
      "{'apple', 'banana', 'melon'}\n"
     ]
    }
   ],
   "source": [
    "print(fruits)"
   ]
  },
  {
   "cell_type": "code",
   "execution_count": 58,
   "id": "9b233f00-9d1f-4a88-b88a-0166a2e2be41",
   "metadata": {},
   "outputs": [],
   "source": [
    "# Set는 순서가 없음. 시퀀스 타입이 아님"
   ]
  },
  {
   "cell_type": "code",
   "execution_count": 59,
   "id": "f16e827b-b7c2-4321-ac90-c7869661a61d",
   "metadata": {},
   "outputs": [],
   "source": [
    "fruits.add('watermelon')\n",
    "# 추가하기"
   ]
  },
  {
   "cell_type": "code",
   "execution_count": 60,
   "id": "3744bb19-4d86-4afd-900e-bebe676ef96f",
   "metadata": {},
   "outputs": [
    {
     "name": "stdout",
     "output_type": "stream",
     "text": [
      "{'apple', 'banana', 'watermelon', 'melon'}\n"
     ]
    }
   ],
   "source": [
    "print(fruits)"
   ]
  },
  {
   "cell_type": "code",
   "execution_count": 61,
   "id": "1c339271-5411-4bd1-b057-527fc88c00b6",
   "metadata": {},
   "outputs": [
    {
     "name": "stdout",
     "output_type": "stream",
     "text": [
      "{'grape', 'apple', 'banana', 'watermelon', 'melon', 'orange'}\n"
     ]
    }
   ],
   "source": [
    "fruits.update({'orange', 'grape'})\n",
    "print(fruits)"
   ]
  },
  {
   "cell_type": "code",
   "execution_count": 62,
   "id": "a94380d4-0f48-479e-8348-38732ee63e19",
   "metadata": {},
   "outputs": [
    {
     "name": "stdout",
     "output_type": "stream",
     "text": [
      "{'grape', 'banana', 'watermelon', 'melon', 'orange'}\n"
     ]
    }
   ],
   "source": [
    "fruits.remove('apple')\n",
    "print(fruits)"
   ]
  },
  {
   "cell_type": "code",
   "execution_count": 64,
   "id": "89dee86b-b389-41c2-8f42-c1bde0b3a1c9",
   "metadata": {},
   "outputs": [
    {
     "name": "stdout",
     "output_type": "stream",
     "text": [
      "{'watermelon', 'melon', 'orange'}\n"
     ]
    }
   ],
   "source": [
    "fruits.pop()\n",
    "print(fruits)"
   ]
  },
  {
   "cell_type": "markdown",
   "id": "4ed9edb2-e834-4e41-8f61-3f24f8c8fef2",
   "metadata": {},
   "source": [
    "### map, filter, zip"
   ]
  },
  {
   "cell_type": "markdown",
   "id": "876c06e8-6e02-4ef2-a4d0-6a2e3336b2e6",
   "metadata": {},
   "source": [
    "`map(function, iterable, **iterables*)`\n",
    "\n",
    "- iterable: 반복 가능한 개체(시퀀스 타입)\n",
    "- 함수와 반복 가능한 개체 필요"
   ]
  },
  {
   "cell_type": "code",
   "execution_count": 65,
   "id": "0890e32c-23b0-49bc-838a-c623ce595efc",
   "metadata": {},
   "outputs": [],
   "source": [
    "numbers = [1, 2, 3, 4, 5, 6, 7, 8, 9, 10]"
   ]
  },
  {
   "cell_type": "code",
   "execution_count": 66,
   "id": "90ad74c7-c0bf-4fc4-9977-e06dd30fc364",
   "metadata": {},
   "outputs": [],
   "source": [
    "# => ['1', '2', '3', ...] 일괄적으로 글자로 바꾸기"
   ]
  },
  {
   "cell_type": "code",
   "execution_count": 67,
   "id": "9ce8dce2-eb31-4b77-9de7-6747efce96a6",
   "metadata": {},
   "outputs": [
    {
     "name": "stdout",
     "output_type": "stream",
     "text": [
      "['1', '2', '3', '4', '5', '6', '7', '8', '9', '10']\n"
     ]
    }
   ],
   "source": [
    "result = []\n",
    "\n",
    "for number in numbers:\n",
    "    result.append(str(number))\n",
    "\n",
    "print(result)"
   ]
  },
  {
   "cell_type": "code",
   "execution_count": 71,
   "id": "e82b1023-513e-43fd-840c-3e80cdb54733",
   "metadata": {},
   "outputs": [
    {
     "name": "stdout",
     "output_type": "stream",
     "text": [
      "<map object at 0x000002A470722BC0>\n",
      "['1', '2', '3', '4', '5', '6', '7', '8', '9', '10']\n"
     ]
    }
   ],
   "source": [
    "result = map(str, numbers)\n",
    "print(result)\n",
    "\n",
    "# 함수 이름만 알려줘야 하므로 str() 괄호 필요 없음\n",
    "# <map object at 0x000002A4706FB340>\n",
    "# map 실행한 결과(object)는 메모리주소 0x000~ 에 저장돼 있다는 의미\n",
    "# map은 lazy한 연산을 한다고 말함\n",
    "# 당장 연산하는 게 아니라 필요할 때 연산함\n",
    "# 따라서 현재 계산하지 않고 사용자가 사용할 때 계산함\n",
    "\n",
    "print(list(result))\n",
    "# 최종적으로 계산하려면 리스트로 바꿔줘야 함"
   ]
  },
  {
   "cell_type": "code",
   "execution_count": 73,
   "id": "4386fff1-7fb6-4ec8-bdbe-9790ff5341e6",
   "metadata": {},
   "outputs": [
    {
     "name": "stdout",
     "output_type": "stream",
     "text": [
      "[1, 8, 27, 64, 125]\n"
     ]
    }
   ],
   "source": [
    "numbers = [1, 2, 3, 4, 5]\n",
    "# => [1, 8, 27, 64, 125]\n",
    "\n",
    "result = []\n",
    "for number in numbers:\n",
    "    result.append(number ** 3)\n",
    "\n",
    "print(result)\n"
   ]
  },
  {
   "cell_type": "code",
   "execution_count": 78,
   "id": "6cbcac0f-a59f-49be-8d88-a744bf95f0b7",
   "metadata": {},
   "outputs": [
    {
     "name": "stdout",
     "output_type": "stream",
     "text": [
      "[1, 8, 27, 64, 125]\n"
     ]
    }
   ],
   "source": [
    "# result = list(map(**3, numbers))\n",
    "# print(result)\n",
    "\n",
    "# 세 제곱하는 함수는 없는데?\n",
    "# 세 제곱하는 함수를 직접 만들어서 사용해야 함\n",
    "\n",
    "# 세 제곱하는 함수 만들기\n",
    "def cube(x):\n",
    "    return x ** 3\n",
    "\n",
    "result = list(map(cube, numbers))\n",
    "print(result)"
   ]
  },
  {
   "cell_type": "code",
   "execution_count": 79,
   "id": "b98f7f8b-6e5a-41ed-b637-ab0bb4fd9862",
   "metadata": {},
   "outputs": [
    {
     "name": "stdout",
     "output_type": "stream",
     "text": [
      "[1, 3, 5, 7, 9]\n"
     ]
    }
   ],
   "source": [
    "test_input = '1 3 5 7 9'\n",
    "# 1. 띄어쓰기 기준으로 나눈다\n",
    "test_input.split()\n",
    "# 2. 각 글자를 숫자로 바꾼다\n",
    "test = map(int, test_input.split())\n",
    "# 3. 리스트에 저장한다\n",
    "print(list(test))"
   ]
  },
  {
   "cell_type": "markdown",
   "id": "7583ff96-99f5-4700-ad19-82ec6ca67b4d",
   "metadata": {},
   "source": [
    "### filter\n",
    "- fiter(function, iterable)"
   ]
  },
  {
   "cell_type": "code",
   "execution_count": 80,
   "id": "795b3ae9-2f25-4127-9c75-8e7279bc57d7",
   "metadata": {},
   "outputs": [],
   "source": [
    "def is_odd(x):\n",
    "    return x % 2"
   ]
  },
  {
   "cell_type": "code",
   "execution_count": 81,
   "id": "96cc3422-c36b-4f68-8fa8-1540ceb9fb73",
   "metadata": {},
   "outputs": [
    {
     "name": "stdout",
     "output_type": "stream",
     "text": [
      "[1, 3, 5, 7, 9]\n"
     ]
    }
   ],
   "source": [
    "numbers = [1, 2, 3, 4, 5, 6, 7, 8, 9]\n",
    "\n",
    "# 기존 짝수 홀수 나누는 코드\n",
    "\n",
    "result = []\n",
    "for number in numbers:\n",
    "    if number % 2 == 1:\n",
    "        result.append(number)\n",
    "\n",
    "print(result)"
   ]
  },
  {
   "cell_type": "code",
   "execution_count": 84,
   "id": "eb6ea014-3a94-45ca-ba0d-fb21d28a5581",
   "metadata": {},
   "outputs": [
    {
     "name": "stdout",
     "output_type": "stream",
     "text": [
      "[1, 3, 5, 7, 9]\n"
     ]
    }
   ],
   "source": [
    "# filter 함수 활용\n",
    "\n",
    "result = filter(is_odd, numbers)\n",
    "print(list(result))"
   ]
  },
  {
   "cell_type": "markdown",
   "id": "069da9dd-9e6b-4b63-b7e8-b322696668e1",
   "metadata": {},
   "source": [
    "### zip"
   ]
  },
  {
   "cell_type": "code",
   "execution_count": 85,
   "id": "d63e186c-6731-4c9f-9d22-bb569d938b80",
   "metadata": {},
   "outputs": [
    {
     "name": "stdout",
     "output_type": "stream",
     "text": [
      "<zip object at 0x000002A470C63B80>\n",
      "[(1, 100), (2, 200), (3, 300)]\n"
     ]
    }
   ],
   "source": [
    "a = [1, 2, 3]\n",
    "b = [100, 200, 300]\n",
    "\n",
    "result = zip(a, b)\n",
    "print(result)\n",
    "print(list(result))"
   ]
  },
  {
   "cell_type": "code",
   "execution_count": null,
   "id": "748a8f0b-1e31-48f2-8459-4c7bc2a84827",
   "metadata": {},
   "outputs": [],
   "source": []
  }
 ],
 "metadata": {
  "kernelspec": {
   "display_name": "Python 3 (ipykernel)",
   "language": "python",
   "name": "python3"
  },
  "language_info": {
   "codemirror_mode": {
    "name": "ipython",
    "version": 3
   },
   "file_extension": ".py",
   "mimetype": "text/x-python",
   "name": "python",
   "nbconvert_exporter": "python",
   "pygments_lexer": "ipython3",
   "version": "3.13.2"
  }
 },
 "nbformat": 4,
 "nbformat_minor": 5
}
