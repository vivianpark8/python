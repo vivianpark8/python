{
 "cells": [
  {
   "cell_type": "code",
   "execution_count": 2,
   "id": "7976ea21-c582-4e80-8f3b-3d649ff259f4",
   "metadata": {},
   "outputs": [],
   "source": [
    "import fact"
   ]
  },
  {
   "cell_type": "code",
   "execution_count": 3,
   "id": "de5615c7-58dc-46fa-a68e-9a02d7819b87",
   "metadata": {},
   "outputs": [
    {
     "data": {
      "text/plain": [
       "120"
      ]
     },
     "execution_count": 3,
     "metadata": {},
     "output_type": "execute_result"
    }
   ],
   "source": [
    "fact.factorial(5)\n",
    "# 하위 내용 쓸 땐 . 사용"
   ]
  },
  {
   "cell_type": "code",
   "execution_count": 4,
   "id": "f2c98ef3-7c68-40ef-970b-cdf3cef644e5",
   "metadata": {},
   "outputs": [
    {
     "data": {
      "text/plain": [
       "100"
      ]
     },
     "execution_count": 4,
     "metadata": {},
     "output_type": "execute_result"
    }
   ],
   "source": [
    "fact.my_max(10, 100)"
   ]
  },
  {
   "cell_type": "markdown",
   "id": "8764366f-c127-4bbe-bdfa-e88d2d6a2200",
   "metadata": {},
   "source": [
    "## 패키지\n",
    "\n",
    "```\n",
    "myPackage/\n",
    "    __init__.py\n",
    "    math/\n",
    "        __init__.py\n",
    "```\n",
    "\n",
    "- 패키지 안에 __init__.py 파일이 존재해야 패키지로 인식함"
   ]
  },
  {
   "cell_type": "code",
   "execution_count": 5,
   "id": "72c1e7b6-3d7c-4b13-b75b-c49c4c882fda",
   "metadata": {},
   "outputs": [],
   "source": [
    "import myPackage"
   ]
  },
  {
   "cell_type": "code",
   "execution_count": 6,
   "id": "a3dff644-18cf-46a9-8ecd-d56e4ff610f7",
   "metadata": {},
   "outputs": [
    {
     "name": "stdout",
     "output_type": "stream",
     "text": [
      "<module 'myPackage' from 'C:\\\\Users\\\\1-09\\\\Desktop\\\\DAMF2\\\\python\\\\myPackage\\\\__init__.py'>\n"
     ]
    }
   ],
   "source": [
    "print(myPackage)"
   ]
  },
  {
   "cell_type": "code",
   "execution_count": 7,
   "id": "366f29c7-3d46-4094-8f58-9a6c4a6b6cc3",
   "metadata": {},
   "outputs": [
    {
     "ename": "AttributeError",
     "evalue": "module 'myPackage' has no attribute 'math'",
     "output_type": "error",
     "traceback": [
      "\u001b[1;31m---------------------------------------------------------------------------\u001b[0m",
      "\u001b[1;31mAttributeError\u001b[0m                            Traceback (most recent call last)",
      "Cell \u001b[1;32mIn[7], line 1\u001b[0m\n\u001b[1;32m----> 1\u001b[0m \u001b[43mmyPackage\u001b[49m\u001b[38;5;241;43m.\u001b[39;49m\u001b[43mmath\u001b[49m\u001b[38;5;241m.\u001b[39mfomula\u001b[38;5;241m.\u001b[39mmy_max(\u001b[38;5;241m2\u001b[39m,\u001b[38;5;241m3\u001b[39m)\n",
      "\u001b[1;31mAttributeError\u001b[0m: module 'myPackage' has no attribute 'math'"
     ]
    }
   ],
   "source": [
    "myPackage.math.fomula.my_max(2,3)"
   ]
  },
  {
   "cell_type": "code",
   "execution_count": 8,
   "id": "3d20c8cc-9ac6-48f0-ab2e-a992446d04ca",
   "metadata": {},
   "outputs": [],
   "source": [
    "from myPackage.math.fomula import my_max"
   ]
  },
  {
   "cell_type": "code",
   "execution_count": 10,
   "id": "6be70397-4ea0-488a-bd7f-116e0afde02d",
   "metadata": {},
   "outputs": [
    {
     "data": {
      "text/plain": [
       "3"
      ]
     },
     "execution_count": 10,
     "metadata": {},
     "output_type": "execute_result"
    }
   ],
   "source": [
    "my_max(2, 3)"
   ]
  },
  {
   "cell_type": "code",
   "execution_count": 11,
   "id": "c6887f39-2f37-4c43-9eaf-7869c114cf69",
   "metadata": {},
   "outputs": [],
   "source": [
    "from myPackage.math.fomula import *"
   ]
  },
  {
   "cell_type": "code",
   "execution_count": 14,
   "id": "34f9f832-3bfa-4862-926e-05b8c89ef642",
   "metadata": {},
   "outputs": [
    {
     "name": "stdout",
     "output_type": "stream",
     "text": [
      "3.14\n"
     ]
    }
   ],
   "source": [
    "print(pi)"
   ]
  },
  {
   "cell_type": "code",
   "execution_count": 15,
   "id": "593e3c10-6eea-423d-ba06-d74ca898768e",
   "metadata": {},
   "outputs": [
    {
     "data": {
      "text/plain": [
       "3"
      ]
     },
     "execution_count": 15,
     "metadata": {},
     "output_type": "execute_result"
    }
   ],
   "source": [
    "from myPackage.math import fomula\n",
    "fomula.my_max(2, 3)"
   ]
  },
  {
   "cell_type": "code",
   "execution_count": 16,
   "id": "dfbea8c7-b4b6-4602-bae7-88be585b776d",
   "metadata": {},
   "outputs": [
    {
     "name": "stdout",
     "output_type": "stream",
     "text": [
      "<module 'myPackage.math.fomula' from 'C:\\\\Users\\\\1-09\\\\Desktop\\\\DAMF2\\\\python\\\\myPackage\\\\math\\\\fomula.py'>\n",
      "<module 'myPackage.math.fomula' from 'C:\\\\Users\\\\1-09\\\\Desktop\\\\DAMF2\\\\python\\\\myPackage\\\\math\\\\fomula.py'>\n"
     ]
    }
   ],
   "source": [
    "fomula = 1234\n",
    "from myPackage.math import fomula\n",
    "# fomula 이름이 중복될 때\n",
    "# 변수를 못 찾고 패키지를 이름으로 인식함\n",
    "# fomula 라는 이름을 임시적으로 모듈 이름을 바꿀 수 있음\n",
    "\n",
    "from myPackage.math import fomula as f\n",
    "print(fomula)\n",
    "print(f)"
   ]
  },
  {
   "cell_type": "code",
   "execution_count": 17,
   "id": "f640bdca-5435-4ca7-ab90-4ca8f38a384b",
   "metadata": {},
   "outputs": [],
   "source": [
    "import math"
   ]
  },
  {
   "cell_type": "code",
   "execution_count": 18,
   "id": "da5b76a4-3610-4334-b021-da79176449ba",
   "metadata": {},
   "outputs": [
    {
     "data": {
      "text/plain": [
       "3.141592653589793"
      ]
     },
     "execution_count": 18,
     "metadata": {},
     "output_type": "execute_result"
    }
   ],
   "source": [
    "math.pi"
   ]
  },
  {
   "cell_type": "code",
   "execution_count": 19,
   "id": "61378563-6010-490c-b2d1-2b17377e6d12",
   "metadata": {},
   "outputs": [
    {
     "data": {
      "text/plain": [
       "2.718281828459045"
      ]
     },
     "execution_count": 19,
     "metadata": {},
     "output_type": "execute_result"
    }
   ],
   "source": [
    "math.e"
   ]
  },
  {
   "cell_type": "code",
   "execution_count": 20,
   "id": "47a417c8-16f8-40aa-b2b8-21fac995ab82",
   "metadata": {},
   "outputs": [
    {
     "data": {
      "text/plain": [
       "3"
      ]
     },
     "execution_count": 20,
     "metadata": {},
     "output_type": "execute_result"
    }
   ],
   "source": [
    "math.ceil(math.e) #올림"
   ]
  },
  {
   "cell_type": "code",
   "execution_count": 21,
   "id": "ea923445-edb1-46f7-889b-25e1a6e90a63",
   "metadata": {},
   "outputs": [
    {
     "data": {
      "text/plain": [
       "2"
      ]
     },
     "execution_count": 21,
     "metadata": {},
     "output_type": "execute_result"
    }
   ],
   "source": [
    "math.floor(math.e) #내림"
   ]
  },
  {
   "cell_type": "code",
   "execution_count": 23,
   "id": "9a430e56-4270-4900-be1c-909a8daa2ef8",
   "metadata": {},
   "outputs": [
    {
     "data": {
      "text/plain": [
       "3.0"
      ]
     },
     "execution_count": 23,
     "metadata": {},
     "output_type": "execute_result"
    }
   ],
   "source": [
    "math.sqrt(9) #루트"
   ]
  },
  {
   "cell_type": "code",
   "execution_count": 24,
   "id": "d70e7371-43d3-43d6-b844-87ee43e85d4c",
   "metadata": {},
   "outputs": [
    {
     "data": {
      "text/plain": [
       "3628800"
      ]
     },
     "execution_count": 24,
     "metadata": {},
     "output_type": "execute_result"
    }
   ],
   "source": [
    "math.factorial(10)"
   ]
  },
  {
   "cell_type": "code",
   "execution_count": null,
   "id": "f81c4fce-c794-478e-8f9c-26e6c47630ec",
   "metadata": {},
   "outputs": [],
   "source": []
  },
  {
   "cell_type": "code",
   "execution_count": 27,
   "id": "59bdc93a-128b-4124-a99a-e3be6bed1560",
   "metadata": {},
   "outputs": [],
   "source": [
    "from math import sqrt, factorial"
   ]
  },
  {
   "cell_type": "code",
   "execution_count": 28,
   "id": "15d8987c-12e3-4cd7-868a-ca89e7d07456",
   "metadata": {},
   "outputs": [
    {
     "data": {
      "text/plain": [
       "120"
      ]
     },
     "execution_count": 28,
     "metadata": {},
     "output_type": "execute_result"
    }
   ],
   "source": [
    "sqrt(16)\n",
    "factorial(5)"
   ]
  },
  {
   "cell_type": "code",
   "execution_count": null,
   "id": "e647ab1d-c7fc-45c0-83a3-b40ec615c4a6",
   "metadata": {},
   "outputs": [],
   "source": []
  },
  {
   "cell_type": "markdown",
   "id": "2daad40f-485f-4a62-a77a-aa15bd9a7bdd",
   "metadata": {},
   "source": [
    "### random"
   ]
  },
  {
   "cell_type": "code",
   "execution_count": 29,
   "id": "d9458c40-7347-4d80-9aad-24ddb47dd801",
   "metadata": {},
   "outputs": [],
   "source": [
    "import random"
   ]
  },
  {
   "cell_type": "code",
   "execution_count": 31,
   "id": "191cca02-26de-4866-a4e2-109754b9a509",
   "metadata": {},
   "outputs": [
    {
     "data": {
      "text/plain": [
       "0.43217509868832193"
      ]
     },
     "execution_count": 31,
     "metadata": {},
     "output_type": "execute_result"
    }
   ],
   "source": [
    "random.random()"
   ]
  },
  {
   "cell_type": "code",
   "execution_count": 32,
   "id": "159244f1-c5f7-421d-bd7d-ba4bd801d8f2",
   "metadata": {},
   "outputs": [
    {
     "data": {
      "text/plain": [
       "5"
      ]
     },
     "execution_count": 32,
     "metadata": {},
     "output_type": "execute_result"
    }
   ],
   "source": [
    "random.randint(1, 10)"
   ]
  },
  {
   "cell_type": "code",
   "execution_count": 39,
   "id": "6d870f8d-ca28-4595-bc7d-9e409ab516c8",
   "metadata": {},
   "outputs": [
    {
     "data": {
      "text/plain": [
       "0.052363598850944326"
      ]
     },
     "execution_count": 39,
     "metadata": {},
     "output_type": "execute_result"
    }
   ],
   "source": [
    "random.seed(123)\n",
    "random.random()"
   ]
  },
  {
   "cell_type": "code",
   "execution_count": 40,
   "id": "1d4e8fe2-3575-4875-b64f-4da60ffadad4",
   "metadata": {},
   "outputs": [],
   "source": [
    "numbers = [1, 2, 3, 4, 5]"
   ]
  },
  {
   "cell_type": "code",
   "execution_count": 43,
   "id": "814925c5-1ddd-4edf-a6de-9efce36f36af",
   "metadata": {},
   "outputs": [
    {
     "name": "stdout",
     "output_type": "stream",
     "text": [
      "[1, 5, 2, 4, 3]\n"
     ]
    }
   ],
   "source": [
    "random.shuffle(numbers)\n",
    "print(numbers)"
   ]
  },
  {
   "cell_type": "code",
   "execution_count": 46,
   "id": "44582d26-9f43-4633-8786-d1cdb8d73bec",
   "metadata": {},
   "outputs": [
    {
     "data": {
      "text/plain": [
       "5"
      ]
     },
     "execution_count": 46,
     "metadata": {},
     "output_type": "execute_result"
    }
   ],
   "source": [
    "random.choice(numbers)"
   ]
  },
  {
   "cell_type": "code",
   "execution_count": 47,
   "id": "0cf953b8-6b90-4414-9164-c1f0d10f3ed1",
   "metadata": {},
   "outputs": [
    {
     "data": {
      "text/plain": [
       "[5, 2]"
      ]
     },
     "execution_count": 47,
     "metadata": {},
     "output_type": "execute_result"
    }
   ],
   "source": [
    "random.sample(numbers, 2)"
   ]
  },
  {
   "cell_type": "markdown",
   "id": "d5e532ec-c2d4-46db-91d6-16e67f3b11e1",
   "metadata": {},
   "source": [
    "### datetime"
   ]
  },
  {
   "cell_type": "code",
   "execution_count": 48,
   "id": "7c2d7b0c-0f9b-48ac-baf7-d55b8bf090cd",
   "metadata": {},
   "outputs": [],
   "source": [
    "from datetime import datetime"
   ]
  },
  {
   "cell_type": "code",
   "execution_count": 49,
   "id": "14452907-1066-4673-a7f4-8492a1732a39",
   "metadata": {},
   "outputs": [
    {
     "data": {
      "text/plain": [
       "datetime.datetime(2025, 2, 18, 14, 39, 3, 868982)"
      ]
     },
     "execution_count": 49,
     "metadata": {},
     "output_type": "execute_result"
    }
   ],
   "source": [
    "datetime.now()"
   ]
  },
  {
   "cell_type": "code",
   "execution_count": 50,
   "id": "4d15d615-88f1-4d6f-b6b3-a3cd87b11f38",
   "metadata": {},
   "outputs": [
    {
     "data": {
      "text/plain": [
       "datetime.datetime(2025, 2, 18, 14, 39, 52, 798986)"
      ]
     },
     "execution_count": 50,
     "metadata": {},
     "output_type": "execute_result"
    }
   ],
   "source": [
    "datetime.today()"
   ]
  },
  {
   "cell_type": "code",
   "execution_count": 52,
   "id": "f6f217af-5079-4da7-ae60-8e7e8c668102",
   "metadata": {},
   "outputs": [
    {
     "name": "stderr",
     "output_type": "stream",
     "text": [
      "C:\\Users\\1-09\\AppData\\Local\\Temp\\ipykernel_6004\\3983769260.py:1: DeprecationWarning: datetime.datetime.utcnow() is deprecated and scheduled for removal in a future version. Use timezone-aware objects to represent datetimes in UTC: datetime.datetime.now(datetime.UTC).\n",
      "  datetime.utcnow()\n"
     ]
    },
    {
     "data": {
      "text/plain": [
       "datetime.datetime(2025, 2, 18, 5, 40, 45, 347367)"
      ]
     },
     "execution_count": 52,
     "metadata": {},
     "output_type": "execute_result"
    }
   ],
   "source": [
    "datetime.utcnow()"
   ]
  },
  {
   "cell_type": "code",
   "execution_count": 54,
   "id": "613bd1af-cfde-42db-bf40-452195f8aa80",
   "metadata": {},
   "outputs": [
    {
     "ename": "NameError",
     "evalue": "name 'timezone' is not defined",
     "output_type": "error",
     "traceback": [
      "\u001b[1;31m---------------------------------------------------------------------------\u001b[0m",
      "\u001b[1;31mNameError\u001b[0m                                 Traceback (most recent call last)",
      "Cell \u001b[1;32mIn[54], line 1\u001b[0m\n\u001b[1;32m----> 1\u001b[0m datetime\u001b[38;5;241m.\u001b[39mnow(\u001b[43mtimezone\u001b[49m\u001b[38;5;241m.\u001b[39mutc)\n",
      "\u001b[1;31mNameError\u001b[0m: name 'timezone' is not defined"
     ]
    }
   ],
   "source": [
    "datetime.now(timezone.utc)"
   ]
  },
  {
   "cell_type": "code",
   "execution_count": 55,
   "id": "08813413-7342-4de4-ba5d-952e1c4a1fe3",
   "metadata": {},
   "outputs": [],
   "source": [
    "now = datetime.now()"
   ]
  },
  {
   "cell_type": "code",
   "execution_count": 58,
   "id": "dbd7d10a-c76c-4776-8332-c8f172fd1f27",
   "metadata": {},
   "outputs": [
    {
     "data": {
      "text/plain": [
       "datetime.datetime(2025, 2, 18, 14, 44, 7, 490092)"
      ]
     },
     "execution_count": 58,
     "metadata": {},
     "output_type": "execute_result"
    }
   ],
   "source": [
    "now # 불러온 시간으로 고정됨"
   ]
  },
  {
   "cell_type": "code",
   "execution_count": 61,
   "id": "502ef924-6196-4238-91f2-90c32549fd2c",
   "metadata": {},
   "outputs": [
    {
     "name": "stdout",
     "output_type": "stream",
     "text": [
      "2025\n",
      "2\n",
      "18\n"
     ]
    }
   ],
   "source": [
    "print(now.year)\n",
    "print(now.month)\n",
    "print(now.day)"
   ]
  },
  {
   "cell_type": "code",
   "execution_count": 62,
   "id": "67d2af43-248c-426c-bc99-6fe2ccdc6524",
   "metadata": {},
   "outputs": [
    {
     "data": {
      "text/plain": [
       "1"
      ]
     },
     "execution_count": 62,
     "metadata": {},
     "output_type": "execute_result"
    }
   ],
   "source": [
    "now.weekday() #요일 출력, 0 월"
   ]
  },
  {
   "cell_type": "code",
   "execution_count": 63,
   "id": "99caec48-6549-4da8-b255-7d4afd5f67e1",
   "metadata": {},
   "outputs": [
    {
     "name": "stdout",
     "output_type": "stream",
     "text": [
      "2025-02-18 14:44:07.490092\n"
     ]
    }
   ],
   "source": [
    "print(now)"
   ]
  },
  {
   "cell_type": "code",
   "execution_count": 64,
   "id": "3290bcae-a29d-4866-9429-e7ed519d4343",
   "metadata": {},
   "outputs": [
    {
     "data": {
      "text/plain": [
       "'25년 02월 18일'"
      ]
     },
     "execution_count": 64,
     "metadata": {},
     "output_type": "execute_result"
    }
   ],
   "source": [
    "now.strftime('%y년 %m월 %d일')"
   ]
  },
  {
   "cell_type": "code",
   "execution_count": 65,
   "id": "6ad8ddee-c87c-4275-bb33-6cf7e0f54cca",
   "metadata": {},
   "outputs": [
    {
     "name": "stdout",
     "output_type": "stream",
     "text": [
      "2025-12-25 00:00:00\n"
     ]
    }
   ],
   "source": [
    "x_mas = datetime(2025, 12, 25)\n",
    "print(x_mas)"
   ]
  },
  {
   "cell_type": "code",
   "execution_count": 67,
   "id": "f3fcaff5-28c0-4919-9fb3-bacd1fc80533",
   "metadata": {},
   "outputs": [],
   "source": [
    "from datetime import timedelta"
   ]
  },
  {
   "cell_type": "code",
   "execution_count": 68,
   "id": "75641f40-06b2-48db-b798-f7f135dee5d7",
   "metadata": {},
   "outputs": [
    {
     "name": "stdout",
     "output_type": "stream",
     "text": [
      "2025-12-28 00:00:00\n"
     ]
    }
   ],
   "source": [
    "future = timedelta(days=3)\n",
    "print(x_mas + future)"
   ]
  },
  {
   "cell_type": "code",
   "execution_count": 69,
   "id": "94c2850b-7fe1-4f96-9ee9-5fd532d367f0",
   "metadata": {},
   "outputs": [
    {
     "name": "stdout",
     "output_type": "stream",
     "text": [
      "2025-09-13 00:00:00\n"
     ]
    }
   ],
   "source": [
    "future = timedelta(days=-103)\n",
    "print(x_mas + future)"
   ]
  },
  {
   "cell_type": "code",
   "execution_count": 70,
   "id": "0afb801d-1f64-436f-ae2f-13674f3c0c60",
   "metadata": {},
   "outputs": [
    {
     "data": {
      "text/plain": [
       "datetime.timedelta(days=309, seconds=33352, microseconds=509908)"
      ]
     },
     "execution_count": 70,
     "metadata": {},
     "output_type": "execute_result"
    }
   ],
   "source": [
    "x_mas - now"
   ]
  },
  {
   "cell_type": "code",
   "execution_count": null,
   "id": "3d75514d-e754-48d9-92f4-3d5f3dce045f",
   "metadata": {},
   "outputs": [],
   "source": []
  },
  {
   "cell_type": "code",
   "execution_count": null,
   "id": "895f1cd3-d423-4643-9c63-a5b2d7d1ab88",
   "metadata": {},
   "outputs": [],
   "source": []
  }
 ],
 "metadata": {
  "kernelspec": {
   "display_name": "Python 3 (ipykernel)",
   "language": "python",
   "name": "python3"
  },
  "language_info": {
   "codemirror_mode": {
    "name": "ipython",
    "version": 3
   },
   "file_extension": ".py",
   "mimetype": "text/x-python",
   "name": "python",
   "nbconvert_exporter": "python",
   "pygments_lexer": "ipython3",
   "version": "3.13.2"
  }
 },
 "nbformat": 4,
 "nbformat_minor": 5
}
