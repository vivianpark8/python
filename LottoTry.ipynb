{
 "cells": [
  {
   "cell_type": "markdown",
   "id": "0505c02e-fd7a-4909-8eff-9bf595b1e703",
   "metadata": {},
   "source": [
    "### 페어프로그래밍 (로또)\n",
    "- 로또 5000원 구매하기\n",
    "    - 랜덤으로 5개의 로또 번호를 생성합니다.\n",
    "- 등수 확인하기\n",
    "    - 최신 회차의 당첨번호와 생성된 번호를 비교하여 몇등인지 출력합니다.\n",
    "    - 1,3,4,5,꽝"
   ]
  },
  {
   "cell_type": "code",
   "execution_count": null,
   "id": "7beeb63b-92cf-4b23-b97c-08dbda2e4482",
   "metadata": {},
   "outputs": [],
   "source": [
    "#1. 랜덤으로 6개 번호를 5개 세트 번호 생성하기\n",
    "#2. 최신회차 로또번호 가져오기\n",
    "#3. 비교"
   ]
  },
  {
   "cell_type": "code",
   "execution_count": 14,
   "id": "da907b41-9018-4678-b805-7242a258dfd7",
   "metadata": {},
   "outputs": [
    {
     "name": "stdout",
     "output_type": "stream",
     "text": [
      "[[42, 41, 6, 3, 9, 26], [29, 44, 8, 21, 14, 1], [31, 28, 34, 41, 36, 33], [42, 15, 25, 8, 7, 19], [19, 43, 21, 16, 23, 28]]\n"
     ]
    }
   ],
   "source": [
    "import random\n",
    "numbers = range(1,46)\n",
    "lotto=[]\n",
    "for i in range(1,6):\n",
    "    lotto.append(random.sample(numbers, 6))\n",
    "print(lotto)\n",
    "\n",
    "#lotto_1 = random.sample(numbers, 6)\n",
    "#lotto_2 = random.sample(numbers, 6)\n",
    "#lotto_3 = random.sample(numbers, 6)\n",
    "#lotto_4 = random.sample(numbers, 6)\n",
    "#lotto_5 = random.sample(numbers, 6)\n",
    "\n",
    "#print(lotto_3)"
   ]
  },
  {
   "cell_type": "code",
   "execution_count": 15,
   "id": "19be3864-d47a-4f31-bb29-40a44016e14e",
   "metadata": {},
   "outputs": [
    {
     "name": "stdout",
     "output_type": "stream",
     "text": [
      "{\"totSellamnt\":124802304000,\"returnValue\":\"success\",\"drwNoDate\":\"2025-02-15\",\"firstWinamnt\":1284854250,\"drwtNo6\":39,\"drwtNo4\":28,\"firstPrzwnerCo\":23,\"drwtNo5\":38,\"bnusNo\":7,\"firstAccumamnt\":29551647750,\"drwNo\":1159,\"drwtNo2\":9,\"drwtNo3\":27,\"drwtNo1\":3}\n"
     ]
    }
   ],
   "source": [
    "import requests\n",
    "lotto_url='https://www.dhlottery.co.kr/common.do' \n",
    "payload = {\n",
    "     'method' : 'getLottoNumber',\n",
    "    'drwNo': 1159,\n",
    "} \n",
    "\n",
    "r = requests.get(lotto_url, params=payload)\n",
    "print(r.text)\n",
    "lotto_dict = r.json()"
   ]
  },
  {
   "cell_type": "code",
   "execution_count": 16,
   "id": "eb7bf74d-e6b2-41c8-8982-01338ed2f1bb",
   "metadata": {},
   "outputs": [
    {
     "name": "stdout",
     "output_type": "stream",
     "text": [
      "[3, 9, 27, 28, 38, 39]\n",
      "7\n"
     ]
    }
   ],
   "source": [
    "win = []\n",
    "for i in range(1, 7):\n",
    "    win.append(lotto_dict[f'drwtNo{i}'])\n",
    "print(win)    \n",
    "bonus = lotto_dict['bnusNo']\n",
    "print(bonus)"
   ]
  },
  {
   "cell_type": "code",
   "execution_count": 17,
   "id": "a5d9dafb-df8c-4f13-a87f-bd4d16cac7bc",
   "metadata": {},
   "outputs": [
    {
     "name": "stdout",
     "output_type": "stream",
     "text": [
      "꽝\n",
      "꽝\n",
      "꽝\n",
      "꽝\n",
      "꽝\n"
     ]
    }
   ],
   "source": [
    "for i in range(1,6):\n",
    "    money=0\n",
    "    for j in lotto[int(i-1)]:\n",
    "        if j in win:\n",
    "            money = money + 1\n",
    "    if money == 6:\n",
    "        print('1등')\n",
    "    elif money == 5:\n",
    "        if bonus in lotto[int(i-1)]:\n",
    "            print('2등')\n",
    "        else:\n",
    "            print('3등')\n",
    "    elif money == 4:\n",
    "        print('4등')\n",
    "    elif money == 3:\n",
    "        print('5등')\n",
    "    else:\n",
    "        print('꽝')"
   ]
  },
  {
   "cell_type": "code",
   "execution_count": null,
   "id": "a811f5e5-843f-4380-ba8a-878982ad0e8a",
   "metadata": {},
   "outputs": [],
   "source": []
  },
  {
   "cell_type": "code",
   "execution_count": null,
   "id": "0b15328e-543e-4940-a075-0fa83457a564",
   "metadata": {},
   "outputs": [],
   "source": []
  },
  {
   "cell_type": "code",
   "execution_count": null,
   "id": "c353dbce-0053-4d95-99f2-5c737f02cd36",
   "metadata": {},
   "outputs": [],
   "source": []
  },
  {
   "cell_type": "code",
   "execution_count": null,
   "id": "9baee29a-4540-43c4-be0a-fb3df8046821",
   "metadata": {},
   "outputs": [],
   "source": []
  },
  {
   "cell_type": "code",
   "execution_count": null,
   "id": "f00d1e9f-e373-4a04-90d3-44f6459d45af",
   "metadata": {},
   "outputs": [],
   "source": []
  },
  {
   "cell_type": "code",
   "execution_count": null,
   "id": "f25c2009-906f-4e37-a37b-ac126932f0c5",
   "metadata": {},
   "outputs": [],
   "source": []
  },
  {
   "cell_type": "code",
   "execution_count": null,
   "id": "6e9a0a5d-4de3-4a0a-82a3-ea384ea6d3ea",
   "metadata": {},
   "outputs": [],
   "source": []
  },
  {
   "cell_type": "code",
   "execution_count": null,
   "id": "9d7a5c82-528a-4895-8b6c-bfb87b1dee60",
   "metadata": {},
   "outputs": [],
   "source": []
  },
  {
   "cell_type": "code",
   "execution_count": null,
   "id": "e3e94eea-c499-408c-8d8b-696284149562",
   "metadata": {},
   "outputs": [],
   "source": []
  },
  {
   "cell_type": "code",
   "execution_count": 12,
   "id": "aef82bd7-14d9-4642-8ee9-7218800abab4",
   "metadata": {},
   "outputs": [
    {
     "name": "stdout",
     "output_type": "stream",
     "text": [
      "1등\n",
      "2등\n",
      "3등\n",
      "4등\n",
      "5등\n"
     ]
    }
   ],
   "source": [
    "lotto= [[3, 9, 27, 28, 38, 39],[3, 9, 27, 28, 38, 7],[3, 9, 27, 28, 38, 8],[3, 9, 27, 28, 20, 21],[3, 9, 27, 19, 20, 21]]\n",
    "bonus = 7\n",
    "for i in range(1,6):\n",
    "    money=0\n",
    "    for j in lotto[int(i-1)]:\n",
    "        if j in win:\n",
    "            money = money + 1\n",
    "    if money == 6:\n",
    "        print('1등')\n",
    "    elif money == 5:\n",
    "        if 7 in lotto[int(i-1)]:\n",
    "            print('2등')\n",
    "        else:\n",
    "            print('3등')\n",
    "    elif money == 4:\n",
    "        print('4등')\n",
    "    elif money == 3:\n",
    "        print('5등')\n",
    "    else:\n",
    "        print('꽝')"
   ]
  }
 ],
 "metadata": {
  "kernelspec": {
   "display_name": "Python 3 (ipykernel)",
   "language": "python",
   "name": "python3"
  },
  "language_info": {
   "codemirror_mode": {
    "name": "ipython",
    "version": 3
   },
   "file_extension": ".py",
   "mimetype": "text/x-python",
   "name": "python",
   "nbconvert_exporter": "python",
   "pygments_lexer": "ipython3",
   "version": "3.13.2"
  }
 },
 "nbformat": 4,
 "nbformat_minor": 5
}
