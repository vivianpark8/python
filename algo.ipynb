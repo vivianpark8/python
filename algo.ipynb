{
 "cells": [
  {
   "cell_type": "code",
   "execution_count": 1,
   "id": "0fb2485e-6410-47f9-a826-d65b76be5a9e",
   "metadata": {},
   "outputs": [
    {
     "name": "stdout",
     "output_type": "stream",
     "text": [
      "hello world\n"
     ]
    }
   ],
   "source": [
    "print('hello world')"
   ]
  },
  {
   "cell_type": "code",
   "execution_count": null,
   "id": "634ccb86-0245-4c34-aab7-1ea256438e60",
   "metadata": {},
   "outputs": [],
   "source": [
    "#2/12 연습"
   ]
  },
  {
   "cell_type": "code",
   "execution_count": 3,
   "id": "a4eec8b4-733a-4601-b80e-fe34f1998b52",
   "metadata": {},
   "outputs": [
    {
     "name": "stdin",
     "output_type": "stream",
     "text": [
      "나이를 입력하세요:  500\n"
     ]
    },
    {
     "name": "stdout",
     "output_type": "stream",
     "text": [
      "홍길동은 500살 입니다.\n"
     ]
    }
   ],
   "source": [
    "\n",
    "print(f'홍길동은 {age}살 입니다.')"
   ]
  },
  {
   "cell_type": "code",
   "execution_count": 4,
   "id": "a70edefa-74ca-4251-8c16-913d1ed90206",
   "metadata": {},
   "outputs": [
    {
     "name": "stdout",
     "output_type": "stream",
     "text": [
      "홍길동은 500살 입니다.\n"
     ]
    }
   ],
   "source": [
    "print(f'홍길동은 {age}살 입니다.')"
   ]
  },
  {
   "cell_type": "code",
   "execution_count": 1,
   "id": "a8058b52-e663-4f5c-b1e1-cd4ddccd7dd0",
   "metadata": {},
   "outputs": [
    {
     "name": "stdin",
     "output_type": "stream",
     "text": [
      "이름을 입력하세요:  123\n",
      "나이를 입력하세요:  123\n",
      "키를 입력하세요:  123\n",
      "몸무게를 입력하세요:  123\n"
     ]
    },
    {
     "name": "stdout",
     "output_type": "stream",
     "text": [
      "-\n",
      "123은 123살 입니다. \n",
      "123은 123.0cm 입니다. \n",
      "123은 123.0kg 입니다.\n"
     ]
    }
   ],
   "source": [
    "name = str(input(\"이름을 입력하세요: \"))\n",
    "age = int(input(\"나이를 입력하세요: \"))\n",
    "h = float(input(\"키를 입력하세요: \"))\n",
    "w = float(input(\"몸무게를 입력하세요: \"))\n",
    "\n",
    "print(f'-\\n{name}은 {age}살 입니다. \\n{name}은 {h}cm 입니다. \\n{name}은 {w}kg 입니다.')"
   ]
  },
  {
   "cell_type": "code",
   "execution_count": 5,
   "id": "24aa38c1-a9d2-47a4-bb8e-fcca54d3b2fd",
   "metadata": {},
   "outputs": [
    {
     "name": "stdin",
     "output_type": "stream",
     "text": [
      "이름을 입력하세요:  초코파이\n",
      "나이를 입력하세요:  123\n",
      "키를 입력하세요:  123\n",
      "몸무게를 입력하세요:  123\n"
     ]
    },
    {
     "name": "stdout",
     "output_type": "stream",
     "text": [
      "-\n",
      "초코파이는 123살 입니다. \n",
      "초코파이는 123.0cm 입니다. \n",
      "초코파이는 123.0kg 입니다.\n"
     ]
    }
   ],
   "source": [
    "def check_josa(name):\n",
    "    # 이름의 마지막 글자 가져오기\n",
    "    last_char = name[-1]\n",
    "    if '가' <= last_char <= '힣':\n",
    "        last_char_code = ord(last_char)\n",
    "        if (last_char_code - ord('가')) % 28 != 0:\n",
    "            return '은'  # 받침이 있을 때\n",
    "        else:\n",
    "            return '는'  # 받침이 없을 때\n",
    "    return '는'  # 한글이 아닐 경우는 '는'을 기본값으로\n",
    "\n",
    "name = input(\"이름을 입력하세요: \")\n",
    "age = int(input(\"나이를 입력하세요: \"))\n",
    "h = float(input(\"키를 입력하세요: \"))\n",
    "w = float(input(\"몸무게를 입력하세요: \"))\n",
    "\n",
    "josa = check_josa(name)\n",
    "\n",
    "print(f'-\\n{name}{josa} {age}살 입니다. \\n{name}{josa} {h}cm 입니다. \\n{name}{josa} {w}kg 입니다.')\n"
   ]
  },
  {
   "cell_type": "code",
   "execution_count": 13,
   "id": "0b95551a-1a4c-4ae5-8fda-e624efc5a068",
   "metadata": {},
   "outputs": [
    {
     "name": "stdout",
     "output_type": "stream",
     "text": [
      "hi hello\n"
     ]
    }
   ],
   "source": [
    "a = 'hi'\n",
    "b = 'hello'\n",
    "\n",
    "print(a + \" \" + b)"
   ]
  },
  {
   "cell_type": "code",
   "execution_count": null,
   "id": "302bafbf-c74f-4df1-8fb0-fee9fc21e1c7",
   "metadata": {},
   "outputs": [],
   "source": []
  },
  {
   "cell_type": "code",
   "execution_count": 1,
   "id": "84429668-f695-406b-975e-843a8cf82570",
   "metadata": {},
   "outputs": [],
   "source": [
    "#2/13 연습"
   ]
  },
  {
   "cell_type": "code",
   "execution_count": 9,
   "id": "ca2add15-7f10-404c-b2c7-70e17efa2c5f",
   "metadata": {},
   "outputs": [
    {
     "name": "stdin",
     "output_type": "stream",
     "text": [
      "숫자를 입력하세요:  5\n"
     ]
    },
    {
     "name": "stdout",
     "output_type": "stream",
     "text": [
      "Buzz\n"
     ]
    },
    {
     "name": "stdin",
     "output_type": "stream",
     "text": [
      "숫자를 입력하세요:  15\n"
     ]
    },
    {
     "name": "stdout",
     "output_type": "stream",
     "text": [
      "Fizz\n"
     ]
    },
    {
     "name": "stdin",
     "output_type": "stream",
     "text": [
      "숫자를 입력하세요:  15\n"
     ]
    },
    {
     "name": "stdout",
     "output_type": "stream",
     "text": [
      "Fizz\n"
     ]
    }
   ],
   "source": [
    "#숫자게임\n",
    "result = 0\n",
    "\n",
    "for i in range(3):\n",
    "    num = int(input('숫자를 입력하세요: '))\n",
    "    \n",
    "    if num % 3 == 0:\n",
    "        result = 'Fizz'\n",
    "        \n",
    "    elif num % 5 == 0:\n",
    "        result = 'Buzz'\n",
    "\n",
    "    elif num % 3 == 0 and num % 5 == 0:\n",
    "        result = 'FizzBuzz'\n",
    "    \n",
    "    else:\n",
    "        result = num\n",
    "        \n",
    "    print(result)\n"
   ]
  },
  {
   "cell_type": "code",
   "execution_count": 10,
   "id": "61405a12-42e6-4305-bf03-f7ba3c64a3e4",
   "metadata": {},
   "outputs": [
    {
     "name": "stdin",
     "output_type": "stream",
     "text": [
      "숫자를 입력하세요:  15\n"
     ]
    },
    {
     "name": "stdout",
     "output_type": "stream",
     "text": [
      "FizzBuzz\n"
     ]
    },
    {
     "name": "stdin",
     "output_type": "stream",
     "text": [
      "숫자를 입력하세요:  30\n"
     ]
    },
    {
     "name": "stdout",
     "output_type": "stream",
     "text": [
      "FizzBuzz\n"
     ]
    },
    {
     "name": "stdin",
     "output_type": "stream",
     "text": [
      "숫자를 입력하세요:  3\n"
     ]
    },
    {
     "name": "stdout",
     "output_type": "stream",
     "text": [
      "Fizz\n"
     ]
    }
   ],
   "source": [
    "#숫자게임\n",
    "result = 0\n",
    "\n",
    "for i in range(3):\n",
    "    num = int(input('숫자를 입력하세요: '))\n",
    "    \n",
    "    if num % 3 == 0 and num % 5 == 0:\n",
    "        result = 'FizzBuzz'\n",
    "        \n",
    "    elif num % 3 == 0:\n",
    "        result = 'Fizz'\n",
    "        \n",
    "    elif num % 5 == 0:\n",
    "        result = 'Buzz'\n",
    "    \n",
    "    else:\n",
    "        result = num\n",
    "    print(result)\n"
   ]
  },
  {
   "cell_type": "code",
   "execution_count": 20,
   "id": "111f97ff-d681-4750-91c9-dd4da2950afc",
   "metadata": {},
   "outputs": [
    {
     "name": "stdin",
     "output_type": "stream",
     "text": [
      "반복 횟수를 입력하세요:  5\n"
     ]
    },
    {
     "name": "stdout",
     "output_type": "stream",
     "text": [
      "*\n",
      "**\n",
      "***\n",
      "****\n",
      "*****\n"
     ]
    }
   ],
   "source": [
    "# 별 찍기\n",
    "\n",
    "num = int(input('반복 횟수를 입력하세요: ' ))\n",
    "\n",
    "for i in range(num):\n",
    "    i = i+1\n",
    "    print('*' * i)"
   ]
  },
  {
   "cell_type": "code",
   "execution_count": 73,
   "id": "8dd4f991-851d-4355-8b2a-2b019f6bd3d4",
   "metadata": {},
   "outputs": [
    {
     "name": "stdout",
     "output_type": "stream",
     "text": [
      "윤년은 [1904, 1908, 1912, 1916, 1920, 1924, 1928, 1932, 1936, 1940, 1944, 1948, 1952, 1956, 1960, 1964, 1968, 1972, 1976, 1980, 1984, 1988, 1992, 1996, 2000, 2004, 2008, 2012, 2016, 2020, 2024, 2028, 2032, 2036, 2040, 2044, 2048, 2052, 2056, 2060, 2064, 2068, 2072, 2076, 2080, 2084, 2088, 2092, 2096, 2104, 2108, 2112, 2116, 2120, 2124, 2128, 2132, 2136, 2140, 2144, 2148, 2152, 2156, 2160, 2164, 2168, 2172, 2176, 2180, 2184, 2188, 2192, 2196]년입니다\n"
     ]
    }
   ],
   "source": [
    "# 윤년 구하기\n",
    "\n",
    "years = []\n",
    "\n",
    "for y in range(1900, 2200):\n",
    "    if (y % 4 ==0 and y % 100 != 0) or y % 400 == 0:\n",
    "        years.append(y)\n",
    "print(f'윤년은 {years}년입니다')"
   ]
  },
  {
   "cell_type": "code",
   "execution_count": 61,
   "id": "f0850cef-a7e2-41cc-8a69-aa32ca2acc57",
   "metadata": {},
   "outputs": [
    {
     "name": "stdin",
     "output_type": "stream",
     "text": [
      "가위바위보 중 하나를 입력하세요:  가\n"
     ]
    },
    {
     "name": "stdout",
     "output_type": "stream",
     "text": [
      "다시 입력하세요\n",
      "컴퓨터의 선택: 바위\n"
     ]
    },
    {
     "name": "stdin",
     "output_type": "stream",
     "text": [
      "가위바위보 중 하나를 입력하세요:  가위\n"
     ]
    },
    {
     "name": "stdout",
     "output_type": "stream",
     "text": [
      "컴퓨터의 선택: 가위\n",
      "비겼습니다\n"
     ]
    },
    {
     "name": "stdin",
     "output_type": "stream",
     "text": [
      "가위바위보 중 하나를 입력하세요:  바위\n"
     ]
    },
    {
     "name": "stdout",
     "output_type": "stream",
     "text": [
      "다시 입력하세요\n",
      "컴퓨터의 선택: 가위\n",
      "당신이 이겼습니다\n"
     ]
    },
    {
     "ename": "KeyboardInterrupt",
     "evalue": "Interrupted by user",
     "output_type": "error",
     "traceback": [
      "\u001b[1;31m---------------------------------------------------------------------------\u001b[0m",
      "\u001b[1;31mKeyboardInterrupt\u001b[0m                         Traceback (most recent call last)",
      "Cell \u001b[1;32mIn[61], line 6\u001b[0m\n\u001b[0;32m      3\u001b[0m \u001b[38;5;28;01mimport\u001b[39;00m\u001b[38;5;250m \u001b[39m\u001b[38;5;21;01mrandom\u001b[39;00m\n\u001b[0;32m      5\u001b[0m \u001b[38;5;28;01mfor\u001b[39;00m i \u001b[38;5;129;01min\u001b[39;00m \u001b[38;5;28mrange\u001b[39m(\u001b[38;5;241m5\u001b[39m):\n\u001b[1;32m----> 6\u001b[0m     you \u001b[38;5;241m=\u001b[39m \u001b[38;5;28mstr\u001b[39m(\u001b[38;5;28;43minput\u001b[39;49m\u001b[43m(\u001b[49m\u001b[38;5;124;43m'\u001b[39;49m\u001b[38;5;124;43m가위바위보 중 하나를 입력하세요: \u001b[39;49m\u001b[38;5;124;43m'\u001b[39;49m\u001b[43m)\u001b[49m)\n\u001b[0;32m      7\u001b[0m     \u001b[38;5;28;01mif\u001b[39;00m you \u001b[38;5;241m!=\u001b[39m \u001b[38;5;124m'\u001b[39m\u001b[38;5;124m가위\u001b[39m\u001b[38;5;124m'\u001b[39m \u001b[38;5;129;01mand\u001b[39;00m \u001b[38;5;124m'\u001b[39m\u001b[38;5;124m바위\u001b[39m\u001b[38;5;124m'\u001b[39m \u001b[38;5;129;01mand\u001b[39;00m \u001b[38;5;124m'\u001b[39m\u001b[38;5;124m보\u001b[39m\u001b[38;5;124m'\u001b[39m:\n\u001b[0;32m      8\u001b[0m         \u001b[38;5;28mprint\u001b[39m(\u001b[38;5;124m'\u001b[39m\u001b[38;5;124m다시 입력하세요\u001b[39m\u001b[38;5;124m'\u001b[39m)\n",
      "File \u001b[1;32m~\\AppData\\Local\\Programs\\Python\\Python313\\Lib\\site-packages\\ipykernel\\kernelbase.py:1282\u001b[0m, in \u001b[0;36mKernel.raw_input\u001b[1;34m(self, prompt)\u001b[0m\n\u001b[0;32m   1280\u001b[0m     msg \u001b[38;5;241m=\u001b[39m \u001b[38;5;124m\"\u001b[39m\u001b[38;5;124mraw_input was called, but this frontend does not support input requests.\u001b[39m\u001b[38;5;124m\"\u001b[39m\n\u001b[0;32m   1281\u001b[0m     \u001b[38;5;28;01mraise\u001b[39;00m StdinNotImplementedError(msg)\n\u001b[1;32m-> 1282\u001b[0m \u001b[38;5;28;01mreturn\u001b[39;00m \u001b[38;5;28;43mself\u001b[39;49m\u001b[38;5;241;43m.\u001b[39;49m\u001b[43m_input_request\u001b[49m\u001b[43m(\u001b[49m\n\u001b[0;32m   1283\u001b[0m \u001b[43m    \u001b[49m\u001b[38;5;28;43mstr\u001b[39;49m\u001b[43m(\u001b[49m\u001b[43mprompt\u001b[49m\u001b[43m)\u001b[49m\u001b[43m,\u001b[49m\n\u001b[0;32m   1284\u001b[0m \u001b[43m    \u001b[49m\u001b[38;5;28;43mself\u001b[39;49m\u001b[38;5;241;43m.\u001b[39;49m\u001b[43m_parent_ident\u001b[49m\u001b[43m[\u001b[49m\u001b[38;5;124;43m\"\u001b[39;49m\u001b[38;5;124;43mshell\u001b[39;49m\u001b[38;5;124;43m\"\u001b[39;49m\u001b[43m]\u001b[49m\u001b[43m,\u001b[49m\n\u001b[0;32m   1285\u001b[0m \u001b[43m    \u001b[49m\u001b[38;5;28;43mself\u001b[39;49m\u001b[38;5;241;43m.\u001b[39;49m\u001b[43mget_parent\u001b[49m\u001b[43m(\u001b[49m\u001b[38;5;124;43m\"\u001b[39;49m\u001b[38;5;124;43mshell\u001b[39;49m\u001b[38;5;124;43m\"\u001b[39;49m\u001b[43m)\u001b[49m\u001b[43m,\u001b[49m\n\u001b[0;32m   1286\u001b[0m \u001b[43m    \u001b[49m\u001b[43mpassword\u001b[49m\u001b[38;5;241;43m=\u001b[39;49m\u001b[38;5;28;43;01mFalse\u001b[39;49;00m\u001b[43m,\u001b[49m\n\u001b[0;32m   1287\u001b[0m \u001b[43m\u001b[49m\u001b[43m)\u001b[49m\n",
      "File \u001b[1;32m~\\AppData\\Local\\Programs\\Python\\Python313\\Lib\\site-packages\\ipykernel\\kernelbase.py:1325\u001b[0m, in \u001b[0;36mKernel._input_request\u001b[1;34m(self, prompt, ident, parent, password)\u001b[0m\n\u001b[0;32m   1322\u001b[0m \u001b[38;5;28;01mexcept\u001b[39;00m \u001b[38;5;167;01mKeyboardInterrupt\u001b[39;00m:\n\u001b[0;32m   1323\u001b[0m     \u001b[38;5;66;03m# re-raise KeyboardInterrupt, to truncate traceback\u001b[39;00m\n\u001b[0;32m   1324\u001b[0m     msg \u001b[38;5;241m=\u001b[39m \u001b[38;5;124m\"\u001b[39m\u001b[38;5;124mInterrupted by user\u001b[39m\u001b[38;5;124m\"\u001b[39m\n\u001b[1;32m-> 1325\u001b[0m     \u001b[38;5;28;01mraise\u001b[39;00m \u001b[38;5;167;01mKeyboardInterrupt\u001b[39;00m(msg) \u001b[38;5;28;01mfrom\u001b[39;00m\u001b[38;5;250m \u001b[39m\u001b[38;5;28;01mNone\u001b[39;00m\n\u001b[0;32m   1326\u001b[0m \u001b[38;5;28;01mexcept\u001b[39;00m \u001b[38;5;167;01mException\u001b[39;00m:\n\u001b[0;32m   1327\u001b[0m     \u001b[38;5;28mself\u001b[39m\u001b[38;5;241m.\u001b[39mlog\u001b[38;5;241m.\u001b[39mwarning(\u001b[38;5;124m\"\u001b[39m\u001b[38;5;124mInvalid Message:\u001b[39m\u001b[38;5;124m\"\u001b[39m, exc_info\u001b[38;5;241m=\u001b[39m\u001b[38;5;28;01mTrue\u001b[39;00m)\n",
      "\u001b[1;31mKeyboardInterrupt\u001b[0m: Interrupted by user"
     ]
    }
   ],
   "source": [
    "# 가위바위보\n",
    "\n",
    "import random\n",
    "\n",
    "for i in range(5):\n",
    "    you = str(input('가위바위보 중 하나를 입력하세요: '))\n",
    "    if you != '가위' and '바위' and '보':\n",
    "        print('다시 입력하세요')\n",
    "\n",
    "    choices = ['가위', '바위', '보']\n",
    "    com_choice = random.choice(choices)\n",
    "    print(f'컴퓨터의 선택: {com_choice}')\n",
    "\n",
    "    if com_choice == you:\n",
    "        print('비겼습니다')\n",
    "    elif com_choice != you:\n",
    "        if com_choice == '가위':\n",
    "            if you == '바위':\n",
    "                print('당신이 이겼습니다')\n",
    "            elif you == '보':\n",
    "                print('당신이 졌습니다')\n",
    "        elif com_choice == '바위':\n",
    "            if you == '가위':\n",
    "                print('당신이 졌습니다')\n",
    "            elif you == '보':\n",
    "                print('당신이 이겼습니다')\n",
    "        elif com_choice == '보':\n",
    "            if you == '가위':\n",
    "                print('당신이 이겼습니다')\n",
    "            elif you == '바위':\n",
    "                print('당신이 졌습니다')\n"
   ]
  },
  {
   "cell_type": "code",
   "execution_count": null,
   "id": "ad23961a-b915-42f3-a93f-871e8a41524b",
   "metadata": {},
   "outputs": [],
   "source": []
  },
  {
   "cell_type": "code",
   "execution_count": 9,
   "id": "d05a5fc3-f652-4bf0-adea-46f32d715c40",
   "metadata": {},
   "outputs": [],
   "source": [
    "def solution(n):\n",
    "    answer = []\n",
    "    for i in range(1, n):\n",
    "        if n % i == 0:\n",
    "            a = (i, n//i)\n",
    "            answer.append(a)\n",
    "    return len(answer)"
   ]
  },
  {
   "cell_type": "code",
   "execution_count": 10,
   "id": "7153c91c-4442-4678-8047-5f7d802a1470",
   "metadata": {},
   "outputs": [
    {
     "name": "stdout",
     "output_type": "stream",
     "text": [
      "5\n"
     ]
    }
   ],
   "source": [
    "print(solution(20))"
   ]
  },
  {
   "cell_type": "code",
   "execution_count": null,
   "id": "8697235a-8dd9-4005-84cd-12048fe7ad0b",
   "metadata": {},
   "outputs": [],
   "source": []
  },
  {
   "cell_type": "code",
   "execution_count": null,
   "id": "184535bf-f7b2-40c7-b2fc-f66dfaa62140",
   "metadata": {},
   "outputs": [],
   "source": []
  },
  {
   "cell_type": "code",
   "execution_count": null,
   "id": "ed832ab6-b91b-4e77-9287-6112d69dc3b3",
   "metadata": {},
   "outputs": [],
   "source": []
  }
 ],
 "metadata": {
  "kernelspec": {
   "display_name": "Python 3 (ipykernel)",
   "language": "python",
   "name": "python3"
  },
  "language_info": {
   "codemirror_mode": {
    "name": "ipython",
    "version": 3
   },
   "file_extension": ".py",
   "mimetype": "text/x-python",
   "name": "python",
   "nbconvert_exporter": "python",
   "pygments_lexer": "ipython3",
   "version": "3.13.2"
  }
 },
 "nbformat": 4,
 "nbformat_minor": 5
}
